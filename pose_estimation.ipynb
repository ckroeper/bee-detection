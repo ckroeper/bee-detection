{
 "cells": [
  {
   "cell_type": "code",
   "id": "initial_id",
   "metadata": {
    "collapsed": true,
    "ExecuteTime": {
     "end_time": "2024-05-30T20:14:09.308871Z",
     "start_time": "2024-05-30T20:14:08.239538Z"
    }
   },
   "source": [
    "from ultralytics import YOLO\n",
    "import os\n",
    "import shutil\n",
    "import random"
   ],
   "outputs": [],
   "execution_count": 1
  },
  {
   "metadata": {
    "ExecuteTime": {
     "end_time": "2024-05-30T20:14:09.312196Z",
     "start_time": "2024-05-30T20:14:09.309886Z"
    }
   },
   "cell_type": "code",
   "source": [
    "# setup directory paths\n",
    "dataset_dir = 'dataset/pose'\n",
    "split_dir = 'datasets/split'\n",
    "images_dir = os.path.join(dataset_dir, 'images')\n",
    "labels_dir = os.path.join(dataset_dir, 'labels')\n",
    "train_images_dir = os.path.join(split_dir, 'train/images')\n",
    "train_labels_dir = os.path.join(split_dir, 'train/labels')\n",
    "val_images_dir = os.path.join(split_dir, 'val/images')\n",
    "val_labels_dir = os.path.join(split_dir, 'val/labels')"
   ],
   "id": "ba47edfe19d29bab",
   "outputs": [],
   "execution_count": 2
  },
  {
   "metadata": {
    "ExecuteTime": {
     "end_time": "2024-05-30T20:14:09.323717Z",
     "start_time": "2024-05-30T20:14:09.312675Z"
    }
   },
   "cell_type": "code",
   "source": [
    "# extract the name and replace .jpg with .txt so we can match the images with their respective labels\n",
    "images = [f for f in os.listdir(images_dir) if f.endswith('.jpg')]\n",
    "labels = [f.replace('.jpg', '.txt') for f in images]\n",
    "\n",
    "split_ratio = 0.8\n",
    "split_index = int(len(images) * split_ratio)\n",
    "\n",
    "# do a little shuffling\n",
    "combined = list(zip(images, labels))\n",
    "random.shuffle(combined)\n",
    "images[:], labels[:] = zip(*combined)\n",
    "\n",
    "# split into training and validation data sets\n",
    "train_images = images[:split_index]\n",
    "train_labels = labels[:split_index]\n",
    "val_images = images[split_index:]\n",
    "val_labels = labels[split_index:]"
   ],
   "id": "9960f2c1e7931ce5",
   "outputs": [],
   "execution_count": 3
  },
  {
   "metadata": {
    "ExecuteTime": {
     "end_time": "2024-05-30T20:14:09.468934Z",
     "start_time": "2024-05-30T20:14:09.324578Z"
    }
   },
   "cell_type": "code",
   "source": [
    "# setup directories\n",
    "os.makedirs(train_images_dir, exist_ok=True)\n",
    "os.makedirs(train_labels_dir, exist_ok=True)\n",
    "os.makedirs(val_images_dir, exist_ok=True)\n",
    "os.makedirs(val_labels_dir, exist_ok=True)\n",
    "\n",
    "# empty out both folders, then copy the split\n",
    "for dir_path in [train_images_dir, train_labels_dir, val_images_dir, val_labels_dir]:\n",
    "    for file in os.listdir(dir_path):\n",
    "        file_path = os.path.join(train_images_dir, file)\n",
    "        try:\n",
    "            if os.path.isfile(file_path):\n",
    "                os.unlink(file_path)\n",
    "        except Exception as e:\n",
    "            print(f'Failed to delete {file}, exception: {e}')\n",
    "\n",
    "# copy files\n",
    "for image, label in zip(train_images, train_labels):\n",
    "    shutil.copyfile(os.path.join(images_dir, image), os.path.join(train_images_dir, image))\n",
    "    shutil.copyfile(os.path.join(labels_dir, label), os.path.join(train_labels_dir, label))\n",
    "    \n",
    "for image, label in zip(val_images, val_labels):\n",
    "    shutil.copyfile(os.path.join(images_dir, image), os.path.join(val_images_dir, image))\n",
    "    shutil.copyfile(os.path.join(labels_dir, label), os.path.join(val_labels_dir, label))"
   ],
   "id": "b3ecaa95a8d80792",
   "outputs": [],
   "execution_count": 4
  },
  {
   "metadata": {
    "ExecuteTime": {
     "end_time": "2024-05-30T20:14:09.525149Z",
     "start_time": "2024-05-30T20:14:09.469438Z"
    }
   },
   "cell_type": "code",
   "source": "model = YOLO(\"yolov8m-pose.pt\")",
   "id": "eb8b881f38a92e42",
   "outputs": [],
   "execution_count": 5
  },
  {
   "metadata": {
    "ExecuteTime": {
     "end_time": "2024-05-30T20:21:57.240838Z",
     "start_time": "2024-05-30T20:14:09.525713Z"
    }
   },
   "cell_type": "code",
   "source": "model.train(data=\"data.yaml\", epochs=100, imgsz=640, batch=32)",
   "id": "823000c03120ca4",
   "outputs": [
    {
     "name": "stdout",
     "output_type": "stream",
     "text": [
      "New https://pypi.org/project/ultralytics/8.2.26 available 😃 Update with 'pip install -U ultralytics'\n",
      "Ultralytics YOLOv8.2.25 🚀 Python-3.11.6 torch-2.3.0 CUDA:0 (NVIDIA GeForce RTX 3090 Ti, 24214MiB)\n",
      "\u001B[34m\u001B[1mengine/trainer: \u001B[0mtask=pose, mode=train, model=yolov8m-pose.pt, data=data.yaml, epochs=100, time=None, patience=100, batch=32, imgsz=640, save=True, save_period=-1, cache=False, device=None, workers=8, project=None, name=train15, exist_ok=False, pretrained=True, optimizer=auto, verbose=True, seed=0, deterministic=True, single_cls=False, rect=False, cos_lr=False, close_mosaic=10, resume=False, amp=True, fraction=1.0, profile=False, freeze=None, multi_scale=False, overlap_mask=True, mask_ratio=4, dropout=0.0, val=True, split=val, save_json=False, save_hybrid=False, conf=None, iou=0.7, max_det=300, half=False, dnn=False, plots=True, source=None, vid_stride=1, stream_buffer=False, visualize=False, augment=False, agnostic_nms=False, classes=None, retina_masks=False, embed=None, show=False, save_frames=False, save_txt=False, save_conf=False, save_crop=False, show_labels=True, show_conf=True, show_boxes=True, line_width=None, format=torchscript, keras=False, optimize=False, int8=False, dynamic=False, simplify=False, opset=None, workspace=4, nms=False, lr0=0.01, lrf=0.01, momentum=0.937, weight_decay=0.0005, warmup_epochs=3.0, warmup_momentum=0.8, warmup_bias_lr=0.1, box=7.5, cls=0.5, dfl=1.5, pose=12.0, kobj=1.0, label_smoothing=0.0, nbs=64, hsv_h=0.015, hsv_s=0.7, hsv_v=0.4, degrees=0.0, translate=0.1, scale=0.5, shear=0.0, perspective=0.0, flipud=0.0, fliplr=0.5, bgr=0.0, mosaic=1.0, mixup=0.0, copy_paste=0.0, auto_augment=randaugment, erasing=0.4, crop_fraction=1.0, cfg=None, tracker=botsort.yaml, save_dir=runs/pose/train15\n",
      "Overriding model.yaml kpt_shape=[17, 3] with kpt_shape=[2, 2]\n",
      "\n",
      "                   from  n    params  module                                       arguments                     \n",
      "  0                  -1  1      1392  ultralytics.nn.modules.conv.Conv             [3, 48, 3, 2]                 \n",
      "  1                  -1  1     41664  ultralytics.nn.modules.conv.Conv             [48, 96, 3, 2]                \n",
      "  2                  -1  2    111360  ultralytics.nn.modules.block.C2f             [96, 96, 2, True]             \n",
      "  3                  -1  1    166272  ultralytics.nn.modules.conv.Conv             [96, 192, 3, 2]               \n",
      "  4                  -1  4    813312  ultralytics.nn.modules.block.C2f             [192, 192, 4, True]           \n",
      "  5                  -1  1    664320  ultralytics.nn.modules.conv.Conv             [192, 384, 3, 2]              \n",
      "  6                  -1  4   3248640  ultralytics.nn.modules.block.C2f             [384, 384, 4, True]           \n",
      "  7                  -1  1   1991808  ultralytics.nn.modules.conv.Conv             [384, 576, 3, 2]              \n",
      "  8                  -1  2   3985920  ultralytics.nn.modules.block.C2f             [576, 576, 2, True]           \n",
      "  9                  -1  1    831168  ultralytics.nn.modules.block.SPPF            [576, 576, 5]                 \n",
      " 10                  -1  1         0  torch.nn.modules.upsampling.Upsample         [None, 2, 'nearest']          \n",
      " 11             [-1, 6]  1         0  ultralytics.nn.modules.conv.Concat           [1]                           \n",
      " 12                  -1  2   1993728  ultralytics.nn.modules.block.C2f             [960, 384, 2]                 \n",
      " 13                  -1  1         0  torch.nn.modules.upsampling.Upsample         [None, 2, 'nearest']          \n",
      " 14             [-1, 4]  1         0  ultralytics.nn.modules.conv.Concat           [1]                           \n",
      " 15                  -1  2    517632  ultralytics.nn.modules.block.C2f             [576, 192, 2]                 \n",
      " 16                  -1  1    332160  ultralytics.nn.modules.conv.Conv             [192, 192, 3, 2]              \n",
      " 17            [-1, 12]  1         0  ultralytics.nn.modules.conv.Concat           [1]                           \n",
      " 18                  -1  2   1846272  ultralytics.nn.modules.block.C2f             [576, 384, 2]                 \n",
      " 19                  -1  1   1327872  ultralytics.nn.modules.conv.Conv             [384, 384, 3, 2]              \n",
      " 20             [-1, 9]  1         0  ultralytics.nn.modules.conv.Concat           [1]                           \n",
      " 21                  -1  2   4207104  ultralytics.nn.modules.block.C2f             [960, 576, 2]                 \n",
      " 22        [15, 18, 21]  1   4337311  ultralytics.nn.modules.head.Pose             [1, [2, 2], [192, 384, 576]]  \n",
      "YOLOv8m-pose summary: 320 layers, 26417935 parameters, 26417919 gradients\n",
      "\n",
      "Transferred 481/517 items from pretrained weights\n",
      "Freezing layer 'model.22.dfl.conv.weight'\n",
      "\u001B[34m\u001B[1mAMP: \u001B[0mrunning Automatic Mixed Precision (AMP) checks with YOLOv8n...\n",
      "\u001B[34m\u001B[1mAMP: \u001B[0mchecks passed ✅\n"
     ]
    },
    {
     "name": "stderr",
     "output_type": "stream",
     "text": [
      "/home/kroep/miniforge3/envs/bee/lib/python3.11/site-packages/torch/nn/modules/conv.py:456: UserWarning: Plan failed with a cudnnException: CUDNN_BACKEND_EXECUTION_PLAN_DESCRIPTOR: cudnnFinalize Descriptor Failed cudnn_status: CUDNN_STATUS_NOT_SUPPORTED (Triggered internally at /opt/conda/conda-bld/pytorch_1712608853085/work/aten/src/ATen/native/cudnn/Conv_v8.cpp:919.)\n",
      "  return F.conv2d(input, weight, bias, self.stride,\n",
      "\u001B[34m\u001B[1mtrain: \u001B[0mScanning /home/kroep/dev/projects/bees/bee_detection/datasets/split/train/labels... 320 images, 0 backgrounds, 0 corrupt: 100%|██████████| 320/320 [00:00<00:00, 2486.47it/s]"
     ]
    },
    {
     "name": "stdout",
     "output_type": "stream",
     "text": [
      "\u001B[34m\u001B[1mtrain: \u001B[0mNew cache created: /home/kroep/dev/projects/bees/bee_detection/datasets/split/train/labels.cache\n",
      "WARNING ⚠️ No 'flip_idx' array defined in data.yaml, setting augmentation 'fliplr=0.0'\n"
     ]
    },
    {
     "name": "stderr",
     "output_type": "stream",
     "text": [
      "\n",
      "\u001B[34m\u001B[1mval: \u001B[0mScanning /home/kroep/dev/projects/bees/bee_detection/datasets/split/val/labels... 80 images, 0 backgrounds, 0 corrupt: 100%|██████████| 80/80 [00:00<00:00, 1161.19it/s]"
     ]
    },
    {
     "name": "stdout",
     "output_type": "stream",
     "text": [
      "\u001B[34m\u001B[1mval: \u001B[0mNew cache created: /home/kroep/dev/projects/bees/bee_detection/datasets/split/val/labels.cache\n"
     ]
    },
    {
     "name": "stderr",
     "output_type": "stream",
     "text": [
      "\n"
     ]
    },
    {
     "name": "stdout",
     "output_type": "stream",
     "text": [
      "Plotting labels to runs/pose/train15/labels.jpg... \n",
      "\u001B[34m\u001B[1moptimizer:\u001B[0m 'optimizer=auto' found, ignoring 'lr0=0.01' and 'momentum=0.937' and determining best 'optimizer', 'lr0' and 'momentum' automatically... \n",
      "\u001B[34m\u001B[1moptimizer:\u001B[0m AdamW(lr=0.002, momentum=0.9) with parameter groups 83 weight(decay=0.0), 93 weight(decay=0.0005), 92 bias(decay=0.0)\n",
      "Image sizes 640 train, 640 val\n",
      "Using 8 dataloader workers\n",
      "Logging results to \u001B[1mruns/pose/train15\u001B[0m\n",
      "Starting training for 100 epochs...\n",
      "\n",
      "      Epoch    GPU_mem   box_loss  pose_loss  kobj_loss   cls_loss   dfl_loss  Instances       Size\n"
     ]
    },
    {
     "name": "stderr",
     "output_type": "stream",
     "text": [
      "      1/100        13G      3.657      4.099          0      4.793      1.818        545        640: 100%|██████████| 10/10 [00:05<00:00,  1.89it/s]\n",
      "                 Class     Images  Instances      Box(P          R      mAP50  mAP50-95)     Pose(P          R      mAP50  mAP50-95):  50%|█████     | 1/2 [00:00<00:00,  2.70it/s]/home/kroep/miniforge3/envs/bee/lib/python3.11/site-packages/torch/nn/modules/conv.py:456: UserWarning: Plan failed with a cudnnException: CUDNN_BACKEND_EXECUTION_PLAN_DESCRIPTOR: cudnnFinalize Descriptor Failed cudnn_status: CUDNN_STATUS_NOT_SUPPORTED (Triggered internally at /opt/conda/conda-bld/pytorch_1712608853085/work/aten/src/ATen/native/cudnn/Conv_v8.cpp:919.)\n",
      "  return F.conv2d(input, weight, bias, self.stride,\n",
      "                 Class     Images  Instances      Box(P          R      mAP50  mAP50-95)     Pose(P          R      mAP50  mAP50-95): 100%|██████████| 2/2 [00:00<00:00,  3.78it/s]"
     ]
    },
    {
     "name": "stdout",
     "output_type": "stream",
     "text": [
      "                   all         80        842      0.432      0.507      0.359       0.16      0.467      0.582      0.427      0.151\n"
     ]
    },
    {
     "name": "stderr",
     "output_type": "stream",
     "text": [
      "\n"
     ]
    },
    {
     "name": "stdout",
     "output_type": "stream",
     "text": [
      "\n",
      "      Epoch    GPU_mem   box_loss  pose_loss  kobj_loss   cls_loss   dfl_loss  Instances       Size\n"
     ]
    },
    {
     "name": "stderr",
     "output_type": "stream",
     "text": [
      "      2/100        13G      1.496      1.482          0      1.003     0.9811        526        640: 100%|██████████| 10/10 [00:03<00:00,  2.68it/s]\n",
      "                 Class     Images  Instances      Box(P          R      mAP50  mAP50-95)     Pose(P          R      mAP50  mAP50-95): 100%|██████████| 2/2 [00:00<00:00,  5.41it/s]"
     ]
    },
    {
     "name": "stdout",
     "output_type": "stream",
     "text": [
      "                   all         80        842      0.769      0.692      0.716      0.432      0.798      0.735       0.77      0.395\n"
     ]
    },
    {
     "name": "stderr",
     "output_type": "stream",
     "text": [
      "\n"
     ]
    },
    {
     "name": "stdout",
     "output_type": "stream",
     "text": [
      "\n",
      "      Epoch    GPU_mem   box_loss  pose_loss  kobj_loss   cls_loss   dfl_loss  Instances       Size\n"
     ]
    },
    {
     "name": "stderr",
     "output_type": "stream",
     "text": [
      "      3/100        13G      1.346     0.8939          0     0.7403      0.927        557        640: 100%|██████████| 10/10 [00:03<00:00,  2.51it/s]\n",
      "                 Class     Images  Instances      Box(P          R      mAP50  mAP50-95)     Pose(P          R      mAP50  mAP50-95): 100%|██████████| 2/2 [00:00<00:00,  5.48it/s]"
     ]
    },
    {
     "name": "stdout",
     "output_type": "stream",
     "text": [
      "                   all         80        842       0.27      0.276      0.118     0.0503      0.458      0.529      0.352      0.182\n"
     ]
    },
    {
     "name": "stderr",
     "output_type": "stream",
     "text": [
      "\n"
     ]
    },
    {
     "name": "stdout",
     "output_type": "stream",
     "text": [
      "\n",
      "      Epoch    GPU_mem   box_loss  pose_loss  kobj_loss   cls_loss   dfl_loss  Instances       Size\n"
     ]
    },
    {
     "name": "stderr",
     "output_type": "stream",
     "text": [
      "      4/100      13.5G      1.214     0.6824          0     0.6682     0.9002        418        640: 100%|██████████| 10/10 [00:03<00:00,  2.69it/s]\n",
      "                 Class     Images  Instances      Box(P          R      mAP50  mAP50-95)     Pose(P          R      mAP50  mAP50-95): 100%|██████████| 2/2 [00:00<00:00,  5.65it/s]"
     ]
    },
    {
     "name": "stdout",
     "output_type": "stream",
     "text": [
      "                   all         80        842       0.13      0.435     0.0955     0.0483      0.143       0.48      0.109      0.065\n"
     ]
    },
    {
     "name": "stderr",
     "output_type": "stream",
     "text": [
      "\n"
     ]
    },
    {
     "name": "stdout",
     "output_type": "stream",
     "text": [
      "\n",
      "      Epoch    GPU_mem   box_loss  pose_loss  kobj_loss   cls_loss   dfl_loss  Instances       Size\n"
     ]
    },
    {
     "name": "stderr",
     "output_type": "stream",
     "text": [
      "      5/100      12.9G       1.24     0.5363          0     0.6474     0.8887        591        640: 100%|██████████| 10/10 [00:03<00:00,  2.68it/s]\n",
      "                 Class     Images  Instances      Box(P          R      mAP50  mAP50-95)     Pose(P          R      mAP50  mAP50-95): 100%|██████████| 2/2 [00:00<00:00,  4.88it/s]"
     ]
    },
    {
     "name": "stdout",
     "output_type": "stream",
     "text": [
      "                   all         80        842      0.812      0.639       0.72      0.357      0.829      0.748       0.85      0.571\n"
     ]
    },
    {
     "name": "stderr",
     "output_type": "stream",
     "text": [
      "\n"
     ]
    },
    {
     "name": "stdout",
     "output_type": "stream",
     "text": [
      "\n",
      "      Epoch    GPU_mem   box_loss  pose_loss  kobj_loss   cls_loss   dfl_loss  Instances       Size\n"
     ]
    },
    {
     "name": "stderr",
     "output_type": "stream",
     "text": [
      "      6/100        13G      1.143     0.4411          0     0.6246     0.8771        403        640: 100%|██████████| 10/10 [00:03<00:00,  3.03it/s]\n",
      "                 Class     Images  Instances      Box(P          R      mAP50  mAP50-95)     Pose(P          R      mAP50  mAP50-95): 100%|██████████| 2/2 [00:00<00:00,  6.75it/s]"
     ]
    },
    {
     "name": "stdout",
     "output_type": "stream",
     "text": [
      "                   all         80        842      0.904      0.804      0.874       0.58      0.859      0.755      0.817      0.612\n"
     ]
    },
    {
     "name": "stderr",
     "output_type": "stream",
     "text": [
      "\n"
     ]
    },
    {
     "name": "stdout",
     "output_type": "stream",
     "text": [
      "\n",
      "      Epoch    GPU_mem   box_loss  pose_loss  kobj_loss   cls_loss   dfl_loss  Instances       Size\n"
     ]
    },
    {
     "name": "stderr",
     "output_type": "stream",
     "text": [
      "      7/100        13G       1.21     0.4449          0     0.6218     0.8813        503        640: 100%|██████████| 10/10 [00:03<00:00,  3.03it/s]\n",
      "                 Class     Images  Instances      Box(P          R      mAP50  mAP50-95)     Pose(P          R      mAP50  mAP50-95): 100%|██████████| 2/2 [00:00<00:00,  6.67it/s]"
     ]
    },
    {
     "name": "stdout",
     "output_type": "stream",
     "text": [
      "                   all         80        842      0.872      0.783      0.847      0.489      0.893      0.793      0.876      0.794\n"
     ]
    },
    {
     "name": "stderr",
     "output_type": "stream",
     "text": [
      "\n"
     ]
    },
    {
     "name": "stdout",
     "output_type": "stream",
     "text": [
      "\n",
      "      Epoch    GPU_mem   box_loss  pose_loss  kobj_loss   cls_loss   dfl_loss  Instances       Size\n"
     ]
    },
    {
     "name": "stderr",
     "output_type": "stream",
     "text": [
      "      8/100      13.2G      1.199     0.3635          0     0.6201     0.8833        409        640: 100%|██████████| 10/10 [00:03<00:00,  3.03it/s]\n",
      "                 Class     Images  Instances      Box(P          R      mAP50  mAP50-95)     Pose(P          R      mAP50  mAP50-95): 100%|██████████| 2/2 [00:00<00:00,  6.63it/s]"
     ]
    },
    {
     "name": "stdout",
     "output_type": "stream",
     "text": [
      "                   all         80        842      0.952      0.696      0.779      0.519       0.95      0.704      0.794      0.746\n"
     ]
    },
    {
     "name": "stderr",
     "output_type": "stream",
     "text": [
      "\n"
     ]
    },
    {
     "name": "stdout",
     "output_type": "stream",
     "text": [
      "\n",
      "      Epoch    GPU_mem   box_loss  pose_loss  kobj_loss   cls_loss   dfl_loss  Instances       Size\n"
     ]
    },
    {
     "name": "stderr",
     "output_type": "stream",
     "text": [
      "      9/100      13.1G       1.22     0.3709          0     0.5929     0.8915        559        640: 100%|██████████| 10/10 [00:03<00:00,  3.04it/s]\n",
      "                 Class     Images  Instances      Box(P          R      mAP50  mAP50-95)     Pose(P          R      mAP50  mAP50-95): 100%|██████████| 2/2 [00:00<00:00,  6.73it/s]"
     ]
    },
    {
     "name": "stdout",
     "output_type": "stream",
     "text": [
      "                   all         80        842      0.898      0.656      0.757      0.475      0.908      0.664      0.778       0.72\n"
     ]
    },
    {
     "name": "stderr",
     "output_type": "stream",
     "text": [
      "\n"
     ]
    },
    {
     "name": "stdout",
     "output_type": "stream",
     "text": [
      "\n",
      "      Epoch    GPU_mem   box_loss  pose_loss  kobj_loss   cls_loss   dfl_loss  Instances       Size\n"
     ]
    },
    {
     "name": "stderr",
     "output_type": "stream",
     "text": [
      "     10/100      13.5G      1.087     0.3239          0     0.5586     0.8726        436        640: 100%|██████████| 10/10 [00:03<00:00,  3.03it/s]\n",
      "                 Class     Images  Instances      Box(P          R      mAP50  mAP50-95)     Pose(P          R      mAP50  mAP50-95): 100%|██████████| 2/2 [00:00<00:00,  6.58it/s]"
     ]
    },
    {
     "name": "stdout",
     "output_type": "stream",
     "text": [
      "                   all         80        842      0.836      0.829      0.879      0.555      0.862      0.865       0.92      0.861\n"
     ]
    },
    {
     "name": "stderr",
     "output_type": "stream",
     "text": [
      "\n"
     ]
    },
    {
     "name": "stdout",
     "output_type": "stream",
     "text": [
      "\n",
      "      Epoch    GPU_mem   box_loss  pose_loss  kobj_loss   cls_loss   dfl_loss  Instances       Size\n"
     ]
    },
    {
     "name": "stderr",
     "output_type": "stream",
     "text": [
      "     11/100      13.5G      1.064     0.2926          0     0.5578     0.8715        481        640: 100%|██████████| 10/10 [00:03<00:00,  3.04it/s]\n",
      "                 Class     Images  Instances      Box(P          R      mAP50  mAP50-95)     Pose(P          R      mAP50  mAP50-95): 100%|██████████| 2/2 [00:00<00:00,  6.27it/s]"
     ]
    },
    {
     "name": "stdout",
     "output_type": "stream",
     "text": [
      "                   all         80        842      0.622      0.597      0.586      0.223      0.747      0.754      0.793      0.652\n"
     ]
    },
    {
     "name": "stderr",
     "output_type": "stream",
     "text": [
      "\n"
     ]
    },
    {
     "name": "stdout",
     "output_type": "stream",
     "text": [
      "\n",
      "      Epoch    GPU_mem   box_loss  pose_loss  kobj_loss   cls_loss   dfl_loss  Instances       Size\n"
     ]
    },
    {
     "name": "stderr",
     "output_type": "stream",
     "text": [
      "     12/100      13.1G      1.094     0.3044          0      0.564     0.8589        544        640: 100%|██████████| 10/10 [00:03<00:00,  2.71it/s]\n",
      "                 Class     Images  Instances      Box(P          R      mAP50  mAP50-95)     Pose(P          R      mAP50  mAP50-95): 100%|██████████| 2/2 [00:00<00:00,  6.24it/s]"
     ]
    },
    {
     "name": "stdout",
     "output_type": "stream",
     "text": [
      "                   all         80        842      0.646      0.493       0.53      0.219      0.755       0.77      0.837      0.687\n"
     ]
    },
    {
     "name": "stderr",
     "output_type": "stream",
     "text": [
      "\n"
     ]
    },
    {
     "name": "stdout",
     "output_type": "stream",
     "text": [
      "\n",
      "      Epoch    GPU_mem   box_loss  pose_loss  kobj_loss   cls_loss   dfl_loss  Instances       Size\n"
     ]
    },
    {
     "name": "stderr",
     "output_type": "stream",
     "text": [
      "     13/100      13.1G      1.073     0.2971          0     0.5645     0.8675        471        640: 100%|██████████| 10/10 [00:03<00:00,  2.81it/s]\n",
      "                 Class     Images  Instances      Box(P          R      mAP50  mAP50-95)     Pose(P          R      mAP50  mAP50-95): 100%|██████████| 2/2 [00:00<00:00,  6.59it/s]"
     ]
    },
    {
     "name": "stdout",
     "output_type": "stream",
     "text": [
      "                   all         80        842       0.86       0.52      0.597      0.357      0.892      0.557      0.647      0.597\n"
     ]
    },
    {
     "name": "stderr",
     "output_type": "stream",
     "text": [
      "\n"
     ]
    },
    {
     "name": "stdout",
     "output_type": "stream",
     "text": [
      "\n",
      "      Epoch    GPU_mem   box_loss  pose_loss  kobj_loss   cls_loss   dfl_loss  Instances       Size\n"
     ]
    },
    {
     "name": "stderr",
     "output_type": "stream",
     "text": [
      "     14/100      12.9G       1.02     0.3007          0     0.5355     0.8649        483        640: 100%|██████████| 10/10 [00:03<00:00,  2.93it/s]\n",
      "                 Class     Images  Instances      Box(P          R      mAP50  mAP50-95)     Pose(P          R      mAP50  mAP50-95): 100%|██████████| 2/2 [00:00<00:00,  6.35it/s]"
     ]
    },
    {
     "name": "stdout",
     "output_type": "stream",
     "text": [
      "                   all         80        842      0.891      0.739       0.83      0.482       0.93      0.787      0.893      0.838\n"
     ]
    },
    {
     "name": "stderr",
     "output_type": "stream",
     "text": [
      "\n"
     ]
    },
    {
     "name": "stdout",
     "output_type": "stream",
     "text": [
      "\n",
      "      Epoch    GPU_mem   box_loss  pose_loss  kobj_loss   cls_loss   dfl_loss  Instances       Size\n"
     ]
    },
    {
     "name": "stderr",
     "output_type": "stream",
     "text": [
      "     15/100      13.1G      1.084     0.2603          0     0.5483     0.8658        625        640: 100%|██████████| 10/10 [00:03<00:00,  2.94it/s]\n",
      "                 Class     Images  Instances      Box(P          R      mAP50  mAP50-95)     Pose(P          R      mAP50  mAP50-95): 100%|██████████| 2/2 [00:00<00:00,  5.93it/s]"
     ]
    },
    {
     "name": "stdout",
     "output_type": "stream",
     "text": [
      "                   all         80        842      0.691      0.543      0.611      0.323      0.731      0.746      0.826      0.723\n"
     ]
    },
    {
     "name": "stderr",
     "output_type": "stream",
     "text": [
      "\n"
     ]
    },
    {
     "name": "stdout",
     "output_type": "stream",
     "text": [
      "\n",
      "      Epoch    GPU_mem   box_loss  pose_loss  kobj_loss   cls_loss   dfl_loss  Instances       Size\n"
     ]
    },
    {
     "name": "stderr",
     "output_type": "stream",
     "text": [
      "     16/100      13.1G      1.091     0.2384          0     0.5545     0.8589        465        640: 100%|██████████| 10/10 [00:03<00:00,  2.73it/s]\n",
      "                 Class     Images  Instances      Box(P          R      mAP50  mAP50-95)     Pose(P          R      mAP50  mAP50-95): 100%|██████████| 2/2 [00:00<00:00,  5.66it/s]"
     ]
    },
    {
     "name": "stdout",
     "output_type": "stream",
     "text": [
      "                   all         80        842      0.809       0.81      0.854      0.549      0.824      0.842      0.889      0.826\n"
     ]
    },
    {
     "name": "stderr",
     "output_type": "stream",
     "text": [
      "\n"
     ]
    },
    {
     "name": "stdout",
     "output_type": "stream",
     "text": [
      "\n",
      "      Epoch    GPU_mem   box_loss  pose_loss  kobj_loss   cls_loss   dfl_loss  Instances       Size\n"
     ]
    },
    {
     "name": "stderr",
     "output_type": "stream",
     "text": [
      "     17/100      13.1G      1.059     0.2231          0     0.5378     0.8559        463        640: 100%|██████████| 10/10 [00:03<00:00,  2.83it/s]\n",
      "                 Class     Images  Instances      Box(P          R      mAP50  mAP50-95)     Pose(P          R      mAP50  mAP50-95): 100%|██████████| 2/2 [00:00<00:00,  5.55it/s]"
     ]
    },
    {
     "name": "stdout",
     "output_type": "stream",
     "text": [
      "                   all         80        842      0.955      0.886      0.945      0.663       0.96      0.899      0.957      0.902\n"
     ]
    },
    {
     "name": "stderr",
     "output_type": "stream",
     "text": [
      "\n"
     ]
    },
    {
     "name": "stdout",
     "output_type": "stream",
     "text": [
      "\n",
      "      Epoch    GPU_mem   box_loss  pose_loss  kobj_loss   cls_loss   dfl_loss  Instances       Size\n"
     ]
    },
    {
     "name": "stderr",
     "output_type": "stream",
     "text": [
      "     18/100      13.1G       1.01     0.1921          0      0.514     0.8505        431        640: 100%|██████████| 10/10 [00:03<00:00,  2.94it/s]\n",
      "                 Class     Images  Instances      Box(P          R      mAP50  mAP50-95)     Pose(P          R      mAP50  mAP50-95): 100%|██████████| 2/2 [00:00<00:00,  6.61it/s]"
     ]
    },
    {
     "name": "stdout",
     "output_type": "stream",
     "text": [
      "                   all         80        842      0.935      0.844       0.92      0.635      0.944       0.89      0.953      0.912\n"
     ]
    },
    {
     "name": "stderr",
     "output_type": "stream",
     "text": [
      "\n"
     ]
    },
    {
     "name": "stdout",
     "output_type": "stream",
     "text": [
      "\n",
      "      Epoch    GPU_mem   box_loss  pose_loss  kobj_loss   cls_loss   dfl_loss  Instances       Size\n"
     ]
    },
    {
     "name": "stderr",
     "output_type": "stream",
     "text": [
      "     19/100      13.1G      1.006      0.192          0     0.5216     0.8491        535        640: 100%|██████████| 10/10 [00:03<00:00,  2.89it/s]\n",
      "                 Class     Images  Instances      Box(P          R      mAP50  mAP50-95)     Pose(P          R      mAP50  mAP50-95): 100%|██████████| 2/2 [00:00<00:00,  6.60it/s]"
     ]
    },
    {
     "name": "stdout",
     "output_type": "stream",
     "text": [
      "                   all         80        842      0.916      0.839      0.916      0.605      0.911      0.876      0.953      0.909\n"
     ]
    },
    {
     "name": "stderr",
     "output_type": "stream",
     "text": [
      "\n"
     ]
    },
    {
     "name": "stdout",
     "output_type": "stream",
     "text": [
      "\n",
      "      Epoch    GPU_mem   box_loss  pose_loss  kobj_loss   cls_loss   dfl_loss  Instances       Size\n"
     ]
    },
    {
     "name": "stderr",
     "output_type": "stream",
     "text": [
      "     20/100      13.1G     0.9576      0.184          0      0.502     0.8392        556        640: 100%|██████████| 10/10 [00:03<00:00,  2.69it/s]\n",
      "                 Class     Images  Instances      Box(P          R      mAP50  mAP50-95)     Pose(P          R      mAP50  mAP50-95): 100%|██████████| 2/2 [00:00<00:00,  6.14it/s]"
     ]
    },
    {
     "name": "stdout",
     "output_type": "stream",
     "text": [
      "                   all         80        842      0.933       0.88      0.939      0.625      0.937      0.899      0.963      0.925\n"
     ]
    },
    {
     "name": "stderr",
     "output_type": "stream",
     "text": [
      "\n"
     ]
    },
    {
     "name": "stdout",
     "output_type": "stream",
     "text": [
      "\n",
      "      Epoch    GPU_mem   box_loss  pose_loss  kobj_loss   cls_loss   dfl_loss  Instances       Size\n"
     ]
    },
    {
     "name": "stderr",
     "output_type": "stream",
     "text": [
      "     21/100      13.1G     0.9661     0.1895          0     0.4943     0.8336        498        640: 100%|██████████| 10/10 [00:03<00:00,  2.92it/s]\n",
      "                 Class     Images  Instances      Box(P          R      mAP50  mAP50-95)     Pose(P          R      mAP50  mAP50-95): 100%|██████████| 2/2 [00:00<00:00,  6.33it/s]"
     ]
    },
    {
     "name": "stdout",
     "output_type": "stream",
     "text": [
      "                   all         80        842      0.958      0.907      0.963      0.684      0.945      0.924      0.968      0.935\n"
     ]
    },
    {
     "name": "stderr",
     "output_type": "stream",
     "text": [
      "\n"
     ]
    },
    {
     "name": "stdout",
     "output_type": "stream",
     "text": [
      "\n",
      "      Epoch    GPU_mem   box_loss  pose_loss  kobj_loss   cls_loss   dfl_loss  Instances       Size\n"
     ]
    },
    {
     "name": "stderr",
     "output_type": "stream",
     "text": [
      "     22/100        13G     0.9881     0.1822          0     0.5048     0.8401        568        640: 100%|██████████| 10/10 [00:03<00:00,  2.75it/s]\n",
      "                 Class     Images  Instances      Box(P          R      mAP50  mAP50-95)     Pose(P          R      mAP50  mAP50-95): 100%|██████████| 2/2 [00:00<00:00,  5.78it/s]"
     ]
    },
    {
     "name": "stdout",
     "output_type": "stream",
     "text": [
      "                   all         80        842      0.939      0.919      0.965      0.706      0.947      0.923      0.973      0.943\n"
     ]
    },
    {
     "name": "stderr",
     "output_type": "stream",
     "text": [
      "\n"
     ]
    },
    {
     "name": "stdout",
     "output_type": "stream",
     "text": [
      "\n",
      "      Epoch    GPU_mem   box_loss  pose_loss  kobj_loss   cls_loss   dfl_loss  Instances       Size\n"
     ]
    },
    {
     "name": "stderr",
     "output_type": "stream",
     "text": [
      "     23/100      13.5G     0.9745     0.1745          0      0.507     0.8379        646        640: 100%|██████████| 10/10 [00:03<00:00,  2.75it/s]\n",
      "                 Class     Images  Instances      Box(P          R      mAP50  mAP50-95)     Pose(P          R      mAP50  mAP50-95): 100%|██████████| 2/2 [00:00<00:00,  6.46it/s]"
     ]
    },
    {
     "name": "stdout",
     "output_type": "stream",
     "text": [
      "                   all         80        842      0.941      0.908      0.953       0.68      0.953      0.921      0.962      0.933\n"
     ]
    },
    {
     "name": "stderr",
     "output_type": "stream",
     "text": [
      "\n"
     ]
    },
    {
     "name": "stdout",
     "output_type": "stream",
     "text": [
      "\n",
      "      Epoch    GPU_mem   box_loss  pose_loss  kobj_loss   cls_loss   dfl_loss  Instances       Size\n"
     ]
    },
    {
     "name": "stderr",
     "output_type": "stream",
     "text": [
      "     24/100      13.1G     0.9173     0.1498          0     0.4914     0.8345        441        640: 100%|██████████| 10/10 [00:03<00:00,  2.87it/s]\n",
      "                 Class     Images  Instances      Box(P          R      mAP50  mAP50-95)     Pose(P          R      mAP50  mAP50-95): 100%|██████████| 2/2 [00:00<00:00,  5.43it/s]"
     ]
    },
    {
     "name": "stdout",
     "output_type": "stream",
     "text": [
      "                   all         80        842      0.965      0.903       0.96       0.68      0.966      0.905      0.967      0.941\n"
     ]
    },
    {
     "name": "stderr",
     "output_type": "stream",
     "text": [
      "\n"
     ]
    },
    {
     "name": "stdout",
     "output_type": "stream",
     "text": [
      "\n",
      "      Epoch    GPU_mem   box_loss  pose_loss  kobj_loss   cls_loss   dfl_loss  Instances       Size\n"
     ]
    },
    {
     "name": "stderr",
     "output_type": "stream",
     "text": [
      "     25/100      13.1G     0.9577     0.1589          0     0.5021     0.8392        512        640: 100%|██████████| 10/10 [00:03<00:00,  3.01it/s]\n",
      "                 Class     Images  Instances      Box(P          R      mAP50  mAP50-95)     Pose(P          R      mAP50  mAP50-95): 100%|██████████| 2/2 [00:00<00:00,  6.35it/s]"
     ]
    },
    {
     "name": "stdout",
     "output_type": "stream",
     "text": [
      "                   all         80        842      0.885      0.871      0.924      0.636      0.903       0.91      0.952      0.913\n"
     ]
    },
    {
     "name": "stderr",
     "output_type": "stream",
     "text": [
      "\n"
     ]
    },
    {
     "name": "stdout",
     "output_type": "stream",
     "text": [
      "\n",
      "      Epoch    GPU_mem   box_loss  pose_loss  kobj_loss   cls_loss   dfl_loss  Instances       Size\n"
     ]
    },
    {
     "name": "stderr",
     "output_type": "stream",
     "text": [
      "     26/100      13.1G      0.929     0.1556          0     0.4837     0.8386        460        640: 100%|██████████| 10/10 [00:03<00:00,  2.87it/s]\n",
      "                 Class     Images  Instances      Box(P          R      mAP50  mAP50-95)     Pose(P          R      mAP50  mAP50-95): 100%|██████████| 2/2 [00:00<00:00,  6.64it/s]"
     ]
    },
    {
     "name": "stdout",
     "output_type": "stream",
     "text": [
      "                   all         80        842      0.966      0.899      0.958      0.679       0.98      0.919      0.972      0.947\n"
     ]
    },
    {
     "name": "stderr",
     "output_type": "stream",
     "text": [
      "\n"
     ]
    },
    {
     "name": "stdout",
     "output_type": "stream",
     "text": [
      "\n",
      "      Epoch    GPU_mem   box_loss  pose_loss  kobj_loss   cls_loss   dfl_loss  Instances       Size\n"
     ]
    },
    {
     "name": "stderr",
     "output_type": "stream",
     "text": [
      "     27/100      13.1G     0.9268     0.1555          0     0.4837      0.834        481        640: 100%|██████████| 10/10 [00:03<00:00,  2.92it/s]\n",
      "                 Class     Images  Instances      Box(P          R      mAP50  mAP50-95)     Pose(P          R      mAP50  mAP50-95): 100%|██████████| 2/2 [00:00<00:00,  6.10it/s]"
     ]
    },
    {
     "name": "stdout",
     "output_type": "stream",
     "text": [
      "                   all         80        842      0.953        0.9      0.959      0.668       0.96      0.916       0.97      0.946\n"
     ]
    },
    {
     "name": "stderr",
     "output_type": "stream",
     "text": [
      "\n"
     ]
    },
    {
     "name": "stdout",
     "output_type": "stream",
     "text": [
      "\n",
      "      Epoch    GPU_mem   box_loss  pose_loss  kobj_loss   cls_loss   dfl_loss  Instances       Size\n"
     ]
    },
    {
     "name": "stderr",
     "output_type": "stream",
     "text": [
      "     28/100      13.1G     0.9397     0.1483          0      0.492     0.8341        482        640: 100%|██████████| 10/10 [00:03<00:00,  2.96it/s]\n",
      "                 Class     Images  Instances      Box(P          R      mAP50  mAP50-95)     Pose(P          R      mAP50  mAP50-95): 100%|██████████| 2/2 [00:00<00:00,  6.14it/s]"
     ]
    },
    {
     "name": "stdout",
     "output_type": "stream",
     "text": [
      "                   all         80        842      0.966      0.938      0.969      0.719      0.971      0.943      0.973      0.955\n"
     ]
    },
    {
     "name": "stderr",
     "output_type": "stream",
     "text": [
      "\n"
     ]
    },
    {
     "name": "stdout",
     "output_type": "stream",
     "text": [
      "\n",
      "      Epoch    GPU_mem   box_loss  pose_loss  kobj_loss   cls_loss   dfl_loss  Instances       Size\n"
     ]
    },
    {
     "name": "stderr",
     "output_type": "stream",
     "text": [
      "     29/100      13.6G     0.9009     0.1398          0     0.4741     0.8321        464        640: 100%|██████████| 10/10 [00:03<00:00,  2.98it/s]\n",
      "                 Class     Images  Instances      Box(P          R      mAP50  mAP50-95)     Pose(P          R      mAP50  mAP50-95): 100%|██████████| 2/2 [00:00<00:00,  6.72it/s]"
     ]
    },
    {
     "name": "stdout",
     "output_type": "stream",
     "text": [
      "                   all         80        842       0.97      0.923       0.97      0.718      0.971      0.924      0.973      0.952\n"
     ]
    },
    {
     "name": "stderr",
     "output_type": "stream",
     "text": [
      "\n"
     ]
    },
    {
     "name": "stdout",
     "output_type": "stream",
     "text": [
      "\n",
      "      Epoch    GPU_mem   box_loss  pose_loss  kobj_loss   cls_loss   dfl_loss  Instances       Size\n"
     ]
    },
    {
     "name": "stderr",
     "output_type": "stream",
     "text": [
      "     30/100        13G     0.8826     0.1315          0     0.4786     0.8208        334        640: 100%|██████████| 10/10 [00:03<00:00,  2.94it/s]\n",
      "                 Class     Images  Instances      Box(P          R      mAP50  mAP50-95)     Pose(P          R      mAP50  mAP50-95): 100%|██████████| 2/2 [00:00<00:00,  6.09it/s]"
     ]
    },
    {
     "name": "stdout",
     "output_type": "stream",
     "text": [
      "                   all         80        842      0.985       0.93      0.966      0.728      0.989      0.933      0.973      0.957\n"
     ]
    },
    {
     "name": "stderr",
     "output_type": "stream",
     "text": [
      "\n"
     ]
    },
    {
     "name": "stdout",
     "output_type": "stream",
     "text": [
      "\n",
      "      Epoch    GPU_mem   box_loss  pose_loss  kobj_loss   cls_loss   dfl_loss  Instances       Size\n"
     ]
    },
    {
     "name": "stderr",
     "output_type": "stream",
     "text": [
      "     31/100        13G     0.8651     0.1224          0     0.4603     0.8239        545        640: 100%|██████████| 10/10 [00:03<00:00,  3.01it/s]\n",
      "                 Class     Images  Instances      Box(P          R      mAP50  mAP50-95)     Pose(P          R      mAP50  mAP50-95): 100%|██████████| 2/2 [00:00<00:00,  6.12it/s]"
     ]
    },
    {
     "name": "stdout",
     "output_type": "stream",
     "text": [
      "                   all         80        842      0.967      0.907      0.965      0.693      0.971      0.911      0.968      0.946\n"
     ]
    },
    {
     "name": "stderr",
     "output_type": "stream",
     "text": [
      "\n"
     ]
    },
    {
     "name": "stdout",
     "output_type": "stream",
     "text": [
      "\n",
      "      Epoch    GPU_mem   box_loss  pose_loss  kobj_loss   cls_loss   dfl_loss  Instances       Size\n"
     ]
    },
    {
     "name": "stderr",
     "output_type": "stream",
     "text": [
      "     32/100      13.2G     0.8581     0.1257          0     0.4494     0.8228        543        640: 100%|██████████| 10/10 [00:03<00:00,  3.04it/s]\n",
      "                 Class     Images  Instances      Box(P          R      mAP50  mAP50-95)     Pose(P          R      mAP50  mAP50-95): 100%|██████████| 2/2 [00:00<00:00,  6.63it/s]"
     ]
    },
    {
     "name": "stdout",
     "output_type": "stream",
     "text": [
      "                   all         80        842      0.964      0.929      0.968      0.745      0.969      0.933      0.972      0.953\n"
     ]
    },
    {
     "name": "stderr",
     "output_type": "stream",
     "text": [
      "\n"
     ]
    },
    {
     "name": "stdout",
     "output_type": "stream",
     "text": [
      "\n",
      "      Epoch    GPU_mem   box_loss  pose_loss  kobj_loss   cls_loss   dfl_loss  Instances       Size\n"
     ]
    },
    {
     "name": "stderr",
     "output_type": "stream",
     "text": [
      "     33/100        13G     0.8399     0.1216          0     0.4418     0.8219        503        640: 100%|██████████| 10/10 [00:03<00:00,  3.00it/s]\n",
      "                 Class     Images  Instances      Box(P          R      mAP50  mAP50-95)     Pose(P          R      mAP50  mAP50-95): 100%|██████████| 2/2 [00:00<00:00,  6.77it/s]"
     ]
    },
    {
     "name": "stdout",
     "output_type": "stream",
     "text": [
      "                   all         80        842      0.977       0.92      0.974       0.75      0.975      0.935      0.976      0.955\n"
     ]
    },
    {
     "name": "stderr",
     "output_type": "stream",
     "text": [
      "\n"
     ]
    },
    {
     "name": "stdout",
     "output_type": "stream",
     "text": [
      "\n",
      "      Epoch    GPU_mem   box_loss  pose_loss  kobj_loss   cls_loss   dfl_loss  Instances       Size\n"
     ]
    },
    {
     "name": "stderr",
     "output_type": "stream",
     "text": [
      "     34/100      13.1G     0.8414     0.1177          0     0.4358     0.8193        409        640: 100%|██████████| 10/10 [00:03<00:00,  3.04it/s]\n",
      "                 Class     Images  Instances      Box(P          R      mAP50  mAP50-95)     Pose(P          R      mAP50  mAP50-95): 100%|██████████| 2/2 [00:00<00:00,  6.79it/s]"
     ]
    },
    {
     "name": "stdout",
     "output_type": "stream",
     "text": [
      "                   all         80        842      0.968      0.925      0.968      0.723      0.961      0.931      0.977      0.958\n"
     ]
    },
    {
     "name": "stderr",
     "output_type": "stream",
     "text": [
      "\n"
     ]
    },
    {
     "name": "stdout",
     "output_type": "stream",
     "text": [
      "\n",
      "      Epoch    GPU_mem   box_loss  pose_loss  kobj_loss   cls_loss   dfl_loss  Instances       Size\n"
     ]
    },
    {
     "name": "stderr",
     "output_type": "stream",
     "text": [
      "     35/100      13.1G     0.8346      0.123          0     0.4387     0.8212        488        640: 100%|██████████| 10/10 [00:03<00:00,  2.99it/s]\n",
      "                 Class     Images  Instances      Box(P          R      mAP50  mAP50-95)     Pose(P          R      mAP50  mAP50-95): 100%|██████████| 2/2 [00:00<00:00,  6.72it/s]"
     ]
    },
    {
     "name": "stdout",
     "output_type": "stream",
     "text": [
      "                   all         80        842      0.969      0.927      0.972       0.75      0.973      0.936      0.978      0.961\n"
     ]
    },
    {
     "name": "stderr",
     "output_type": "stream",
     "text": [
      "\n"
     ]
    },
    {
     "name": "stdout",
     "output_type": "stream",
     "text": [
      "\n",
      "      Epoch    GPU_mem   box_loss  pose_loss  kobj_loss   cls_loss   dfl_loss  Instances       Size\n"
     ]
    },
    {
     "name": "stderr",
     "output_type": "stream",
     "text": [
      "     36/100      13.5G     0.8141     0.1153          0     0.4266      0.822        443        640: 100%|██████████| 10/10 [00:03<00:00,  3.01it/s]\n",
      "                 Class     Images  Instances      Box(P          R      mAP50  mAP50-95)     Pose(P          R      mAP50  mAP50-95): 100%|██████████| 2/2 [00:00<00:00,  6.77it/s]"
     ]
    },
    {
     "name": "stdout",
     "output_type": "stream",
     "text": [
      "                   all         80        842      0.966      0.936      0.971      0.738      0.969      0.938      0.978      0.955\n"
     ]
    },
    {
     "name": "stderr",
     "output_type": "stream",
     "text": [
      "\n"
     ]
    },
    {
     "name": "stdout",
     "output_type": "stream",
     "text": [
      "\n",
      "      Epoch    GPU_mem   box_loss  pose_loss  kobj_loss   cls_loss   dfl_loss  Instances       Size\n"
     ]
    },
    {
     "name": "stderr",
     "output_type": "stream",
     "text": [
      "     37/100      13.1G     0.8321     0.1186          0     0.4296     0.8194        421        640: 100%|██████████| 10/10 [00:03<00:00,  2.96it/s]\n",
      "                 Class     Images  Instances      Box(P          R      mAP50  mAP50-95)     Pose(P          R      mAP50  mAP50-95): 100%|██████████| 2/2 [00:00<00:00,  6.53it/s]"
     ]
    },
    {
     "name": "stdout",
     "output_type": "stream",
     "text": [
      "                   all         80        842      0.967      0.948      0.976      0.719      0.973      0.954      0.982      0.962\n"
     ]
    },
    {
     "name": "stderr",
     "output_type": "stream",
     "text": [
      "\n"
     ]
    },
    {
     "name": "stdout",
     "output_type": "stream",
     "text": [
      "\n",
      "      Epoch    GPU_mem   box_loss  pose_loss  kobj_loss   cls_loss   dfl_loss  Instances       Size\n"
     ]
    },
    {
     "name": "stderr",
     "output_type": "stream",
     "text": [
      "     38/100      13.6G     0.9019     0.1277          0     0.4543     0.8241        494        640: 100%|██████████| 10/10 [00:03<00:00,  2.91it/s]\n",
      "                 Class     Images  Instances      Box(P          R      mAP50  mAP50-95)     Pose(P          R      mAP50  mAP50-95): 100%|██████████| 2/2 [00:00<00:00,  6.06it/s]"
     ]
    },
    {
     "name": "stdout",
     "output_type": "stream",
     "text": [
      "                   all         80        842      0.954      0.894      0.954      0.641       0.96      0.922      0.972      0.949\n"
     ]
    },
    {
     "name": "stderr",
     "output_type": "stream",
     "text": [
      "\n"
     ]
    },
    {
     "name": "stdout",
     "output_type": "stream",
     "text": [
      "\n",
      "      Epoch    GPU_mem   box_loss  pose_loss  kobj_loss   cls_loss   dfl_loss  Instances       Size\n"
     ]
    },
    {
     "name": "stderr",
     "output_type": "stream",
     "text": [
      "     39/100        13G     0.9213      0.124          0     0.4551     0.8301        534        640: 100%|██████████| 10/10 [00:03<00:00,  2.97it/s]\n",
      "                 Class     Images  Instances      Box(P          R      mAP50  mAP50-95)     Pose(P          R      mAP50  mAP50-95): 100%|██████████| 2/2 [00:00<00:00,  6.48it/s]"
     ]
    },
    {
     "name": "stdout",
     "output_type": "stream",
     "text": [
      "                   all         80        842      0.955      0.902      0.964        0.7       0.96      0.904      0.964      0.943\n"
     ]
    },
    {
     "name": "stderr",
     "output_type": "stream",
     "text": [
      "\n"
     ]
    },
    {
     "name": "stdout",
     "output_type": "stream",
     "text": [
      "\n",
      "      Epoch    GPU_mem   box_loss  pose_loss  kobj_loss   cls_loss   dfl_loss  Instances       Size\n"
     ]
    },
    {
     "name": "stderr",
     "output_type": "stream",
     "text": [
      "     40/100        13G      0.874     0.1242          0     0.4444     0.8233        467        640: 100%|██████████| 10/10 [00:03<00:00,  3.00it/s]\n",
      "                 Class     Images  Instances      Box(P          R      mAP50  mAP50-95)     Pose(P          R      mAP50  mAP50-95): 100%|██████████| 2/2 [00:00<00:00,  6.73it/s]"
     ]
    },
    {
     "name": "stdout",
     "output_type": "stream",
     "text": [
      "                   all         80        842      0.982      0.928      0.978      0.748      0.982      0.935      0.982      0.965\n"
     ]
    },
    {
     "name": "stderr",
     "output_type": "stream",
     "text": [
      "\n"
     ]
    },
    {
     "name": "stdout",
     "output_type": "stream",
     "text": [
      "\n",
      "      Epoch    GPU_mem   box_loss  pose_loss  kobj_loss   cls_loss   dfl_loss  Instances       Size\n"
     ]
    },
    {
     "name": "stderr",
     "output_type": "stream",
     "text": [
      "     41/100        13G     0.8201     0.1035          0      0.422     0.8185        463        640: 100%|██████████| 10/10 [00:03<00:00,  3.01it/s]\n",
      "                 Class     Images  Instances      Box(P          R      mAP50  mAP50-95)     Pose(P          R      mAP50  mAP50-95): 100%|██████████| 2/2 [00:00<00:00,  6.75it/s]"
     ]
    },
    {
     "name": "stdout",
     "output_type": "stream",
     "text": [
      "                   all         80        842       0.97      0.923      0.972      0.732      0.976      0.926      0.977      0.961\n"
     ]
    },
    {
     "name": "stderr",
     "output_type": "stream",
     "text": [
      "\n"
     ]
    },
    {
     "name": "stdout",
     "output_type": "stream",
     "text": [
      "\n",
      "      Epoch    GPU_mem   box_loss  pose_loss  kobj_loss   cls_loss   dfl_loss  Instances       Size\n"
     ]
    },
    {
     "name": "stderr",
     "output_type": "stream",
     "text": [
      "     42/100      12.9G     0.8256     0.1026          0     0.4255     0.8163        475        640: 100%|██████████| 10/10 [00:03<00:00,  3.01it/s]\n",
      "                 Class     Images  Instances      Box(P          R      mAP50  mAP50-95)     Pose(P          R      mAP50  mAP50-95): 100%|██████████| 2/2 [00:00<00:00,  6.65it/s]"
     ]
    },
    {
     "name": "stdout",
     "output_type": "stream",
     "text": [
      "                   all         80        842      0.972      0.912      0.972      0.728      0.975      0.925      0.977      0.958\n"
     ]
    },
    {
     "name": "stderr",
     "output_type": "stream",
     "text": [
      "\n"
     ]
    },
    {
     "name": "stdout",
     "output_type": "stream",
     "text": [
      "\n",
      "      Epoch    GPU_mem   box_loss  pose_loss  kobj_loss   cls_loss   dfl_loss  Instances       Size\n"
     ]
    },
    {
     "name": "stderr",
     "output_type": "stream",
     "text": [
      "     43/100      13.1G     0.7902      0.102          0      0.419     0.8151        477        640: 100%|██████████| 10/10 [00:03<00:00,  2.79it/s]\n",
      "                 Class     Images  Instances      Box(P          R      mAP50  mAP50-95)     Pose(P          R      mAP50  mAP50-95): 100%|██████████| 2/2 [00:00<00:00,  6.35it/s]"
     ]
    },
    {
     "name": "stdout",
     "output_type": "stream",
     "text": [
      "                   all         80        842      0.961      0.926      0.973      0.726      0.967      0.932      0.978      0.959\n"
     ]
    },
    {
     "name": "stderr",
     "output_type": "stream",
     "text": [
      "\n"
     ]
    },
    {
     "name": "stdout",
     "output_type": "stream",
     "text": [
      "\n",
      "      Epoch    GPU_mem   box_loss  pose_loss  kobj_loss   cls_loss   dfl_loss  Instances       Size\n"
     ]
    },
    {
     "name": "stderr",
     "output_type": "stream",
     "text": [
      "     44/100      13.1G     0.7763    0.09954          0     0.4054      0.815        544        640: 100%|██████████| 10/10 [00:03<00:00,  3.02it/s]\n",
      "                 Class     Images  Instances      Box(P          R      mAP50  mAP50-95)     Pose(P          R      mAP50  mAP50-95): 100%|██████████| 2/2 [00:00<00:00,  6.68it/s]"
     ]
    },
    {
     "name": "stdout",
     "output_type": "stream",
     "text": [
      "                   all         80        842       0.96      0.932       0.97       0.74      0.963      0.935      0.975      0.957\n"
     ]
    },
    {
     "name": "stderr",
     "output_type": "stream",
     "text": [
      "\n"
     ]
    },
    {
     "name": "stdout",
     "output_type": "stream",
     "text": [
      "\n",
      "      Epoch    GPU_mem   box_loss  pose_loss  kobj_loss   cls_loss   dfl_loss  Instances       Size\n"
     ]
    },
    {
     "name": "stderr",
     "output_type": "stream",
     "text": [
      "     45/100      13.1G     0.7534    0.09194          0     0.4054     0.8109        425        640: 100%|██████████| 10/10 [00:03<00:00,  2.92it/s]\n",
      "                 Class     Images  Instances      Box(P          R      mAP50  mAP50-95)     Pose(P          R      mAP50  mAP50-95): 100%|██████████| 2/2 [00:00<00:00,  6.42it/s]"
     ]
    },
    {
     "name": "stdout",
     "output_type": "stream",
     "text": [
      "                   all         80        842      0.975      0.932      0.973       0.75      0.975      0.932      0.976      0.959\n"
     ]
    },
    {
     "name": "stderr",
     "output_type": "stream",
     "text": [
      "\n"
     ]
    },
    {
     "name": "stdout",
     "output_type": "stream",
     "text": [
      "\n",
      "      Epoch    GPU_mem   box_loss  pose_loss  kobj_loss   cls_loss   dfl_loss  Instances       Size\n"
     ]
    },
    {
     "name": "stderr",
     "output_type": "stream",
     "text": [
      "     46/100        13G     0.7802     0.1026          0     0.4166     0.8045        459        640: 100%|██████████| 10/10 [00:04<00:00,  2.33it/s]\n",
      "                 Class     Images  Instances      Box(P          R      mAP50  mAP50-95)     Pose(P          R      mAP50  mAP50-95): 100%|██████████| 2/2 [00:00<00:00,  5.48it/s]"
     ]
    },
    {
     "name": "stdout",
     "output_type": "stream",
     "text": [
      "                   all         80        842      0.982      0.918      0.972      0.756      0.975      0.931      0.977      0.963\n"
     ]
    },
    {
     "name": "stderr",
     "output_type": "stream",
     "text": [
      "\n"
     ]
    },
    {
     "name": "stdout",
     "output_type": "stream",
     "text": [
      "\n",
      "      Epoch    GPU_mem   box_loss  pose_loss  kobj_loss   cls_loss   dfl_loss  Instances       Size\n"
     ]
    },
    {
     "name": "stderr",
     "output_type": "stream",
     "text": [
      "     47/100      13.1G     0.7761     0.1002          0     0.4105     0.8106        584        640: 100%|██████████| 10/10 [00:03<00:00,  2.58it/s]\n",
      "                 Class     Images  Instances      Box(P          R      mAP50  mAP50-95)     Pose(P          R      mAP50  mAP50-95): 100%|██████████| 2/2 [00:00<00:00,  5.53it/s]"
     ]
    },
    {
     "name": "stdout",
     "output_type": "stream",
     "text": [
      "                   all         80        842      0.975      0.928       0.97      0.753      0.982       0.93      0.977       0.96\n"
     ]
    },
    {
     "name": "stderr",
     "output_type": "stream",
     "text": [
      "\n"
     ]
    },
    {
     "name": "stdout",
     "output_type": "stream",
     "text": [
      "\n",
      "      Epoch    GPU_mem   box_loss  pose_loss  kobj_loss   cls_loss   dfl_loss  Instances       Size\n"
     ]
    },
    {
     "name": "stderr",
     "output_type": "stream",
     "text": [
      "     48/100        13G     0.8051    0.09662          0     0.4155     0.8146        446        640: 100%|██████████| 10/10 [00:03<00:00,  2.67it/s]\n",
      "                 Class     Images  Instances      Box(P          R      mAP50  mAP50-95)     Pose(P          R      mAP50  mAP50-95): 100%|██████████| 2/2 [00:00<00:00,  5.55it/s]"
     ]
    },
    {
     "name": "stdout",
     "output_type": "stream",
     "text": [
      "                   all         80        842      0.977      0.907       0.97      0.755      0.976      0.906      0.972      0.957\n"
     ]
    },
    {
     "name": "stderr",
     "output_type": "stream",
     "text": [
      "\n"
     ]
    },
    {
     "name": "stdout",
     "output_type": "stream",
     "text": [
      "\n",
      "      Epoch    GPU_mem   box_loss  pose_loss  kobj_loss   cls_loss   dfl_loss  Instances       Size\n"
     ]
    },
    {
     "name": "stderr",
     "output_type": "stream",
     "text": [
      "     49/100        13G     0.7634     0.1006          0      0.406     0.8101        416        640: 100%|██████████| 10/10 [00:03<00:00,  2.73it/s]\n",
      "                 Class     Images  Instances      Box(P          R      mAP50  mAP50-95)     Pose(P          R      mAP50  mAP50-95): 100%|██████████| 2/2 [00:00<00:00,  5.51it/s]"
     ]
    },
    {
     "name": "stdout",
     "output_type": "stream",
     "text": [
      "                   all         80        842      0.942      0.922      0.964      0.708      0.944      0.923      0.971       0.95\n"
     ]
    },
    {
     "name": "stderr",
     "output_type": "stream",
     "text": [
      "\n"
     ]
    },
    {
     "name": "stdout",
     "output_type": "stream",
     "text": [
      "\n",
      "      Epoch    GPU_mem   box_loss  pose_loss  kobj_loss   cls_loss   dfl_loss  Instances       Size\n"
     ]
    },
    {
     "name": "stderr",
     "output_type": "stream",
     "text": [
      "     50/100      13.1G     0.7751     0.1031          0     0.4044       0.81        441        640: 100%|██████████| 10/10 [00:03<00:00,  2.74it/s]\n",
      "                 Class     Images  Instances      Box(P          R      mAP50  mAP50-95)     Pose(P          R      mAP50  mAP50-95): 100%|██████████| 2/2 [00:00<00:00,  5.16it/s]"
     ]
    },
    {
     "name": "stdout",
     "output_type": "stream",
     "text": [
      "                   all         80        842      0.976      0.924      0.974      0.731       0.98      0.926      0.977      0.959\n"
     ]
    },
    {
     "name": "stderr",
     "output_type": "stream",
     "text": [
      "\n"
     ]
    },
    {
     "name": "stdout",
     "output_type": "stream",
     "text": [
      "\n",
      "      Epoch    GPU_mem   box_loss  pose_loss  kobj_loss   cls_loss   dfl_loss  Instances       Size\n"
     ]
    },
    {
     "name": "stderr",
     "output_type": "stream",
     "text": [
      "     51/100      13.1G     0.7832     0.1023          0     0.4113     0.8117        544        640: 100%|██████████| 10/10 [00:03<00:00,  2.67it/s]\n",
      "                 Class     Images  Instances      Box(P          R      mAP50  mAP50-95)     Pose(P          R      mAP50  mAP50-95): 100%|██████████| 2/2 [00:00<00:00,  5.50it/s]"
     ]
    },
    {
     "name": "stdout",
     "output_type": "stream",
     "text": [
      "                   all         80        842      0.972      0.922       0.97      0.725       0.98      0.927      0.977      0.957\n"
     ]
    },
    {
     "name": "stderr",
     "output_type": "stream",
     "text": [
      "\n"
     ]
    },
    {
     "name": "stdout",
     "output_type": "stream",
     "text": [
      "\n",
      "      Epoch    GPU_mem   box_loss  pose_loss  kobj_loss   cls_loss   dfl_loss  Instances       Size\n"
     ]
    },
    {
     "name": "stderr",
     "output_type": "stream",
     "text": [
      "     52/100        13G     0.7628     0.1021          0     0.4015      0.812        396        640: 100%|██████████| 10/10 [00:03<00:00,  2.59it/s]\n",
      "                 Class     Images  Instances      Box(P          R      mAP50  mAP50-95)     Pose(P          R      mAP50  mAP50-95): 100%|██████████| 2/2 [00:00<00:00,  5.63it/s]"
     ]
    },
    {
     "name": "stdout",
     "output_type": "stream",
     "text": [
      "                   all         80        842      0.949      0.943       0.98      0.756      0.947       0.95      0.981      0.963\n"
     ]
    },
    {
     "name": "stderr",
     "output_type": "stream",
     "text": [
      "\n"
     ]
    },
    {
     "name": "stdout",
     "output_type": "stream",
     "text": [
      "\n",
      "      Epoch    GPU_mem   box_loss  pose_loss  kobj_loss   cls_loss   dfl_loss  Instances       Size\n"
     ]
    },
    {
     "name": "stderr",
     "output_type": "stream",
     "text": [
      "     53/100      13.3G     0.7406    0.08888          0     0.3871     0.8077        488        640: 100%|██████████| 10/10 [00:03<00:00,  2.58it/s]\n",
      "                 Class     Images  Instances      Box(P          R      mAP50  mAP50-95)     Pose(P          R      mAP50  mAP50-95): 100%|██████████| 2/2 [00:00<00:00,  5.39it/s]"
     ]
    },
    {
     "name": "stdout",
     "output_type": "stream",
     "text": [
      "                   all         80        842      0.966      0.936      0.979      0.759      0.971      0.937      0.979      0.963\n"
     ]
    },
    {
     "name": "stderr",
     "output_type": "stream",
     "text": [
      "\n"
     ]
    },
    {
     "name": "stdout",
     "output_type": "stream",
     "text": [
      "\n",
      "      Epoch    GPU_mem   box_loss  pose_loss  kobj_loss   cls_loss   dfl_loss  Instances       Size\n"
     ]
    },
    {
     "name": "stderr",
     "output_type": "stream",
     "text": [
      "     54/100      13.1G     0.7482    0.08672          0     0.3895     0.8056        549        640: 100%|██████████| 10/10 [00:03<00:00,  2.68it/s]\n",
      "                 Class     Images  Instances      Box(P          R      mAP50  mAP50-95)     Pose(P          R      mAP50  mAP50-95): 100%|██████████| 2/2 [00:00<00:00,  5.59it/s]"
     ]
    },
    {
     "name": "stdout",
     "output_type": "stream",
     "text": [
      "                   all         80        842      0.957      0.943      0.977      0.761      0.964       0.95      0.981      0.963\n"
     ]
    },
    {
     "name": "stderr",
     "output_type": "stream",
     "text": [
      "\n"
     ]
    },
    {
     "name": "stdout",
     "output_type": "stream",
     "text": [
      "\n",
      "      Epoch    GPU_mem   box_loss  pose_loss  kobj_loss   cls_loss   dfl_loss  Instances       Size\n"
     ]
    },
    {
     "name": "stderr",
     "output_type": "stream",
     "text": [
      "     55/100      13.5G       0.74    0.09318          0     0.3919     0.8032        538        640: 100%|██████████| 10/10 [00:03<00:00,  2.72it/s]\n",
      "                 Class     Images  Instances      Box(P          R      mAP50  mAP50-95)     Pose(P          R      mAP50  mAP50-95): 100%|██████████| 2/2 [00:00<00:00,  5.68it/s]"
     ]
    },
    {
     "name": "stdout",
     "output_type": "stream",
     "text": [
      "                   all         80        842      0.976      0.918      0.974      0.757      0.981      0.923      0.981      0.965\n"
     ]
    },
    {
     "name": "stderr",
     "output_type": "stream",
     "text": [
      "\n"
     ]
    },
    {
     "name": "stdout",
     "output_type": "stream",
     "text": [
      "\n",
      "      Epoch    GPU_mem   box_loss  pose_loss  kobj_loss   cls_loss   dfl_loss  Instances       Size\n"
     ]
    },
    {
     "name": "stderr",
     "output_type": "stream",
     "text": [
      "     56/100      13.1G     0.6872    0.08167          0     0.3783     0.8022        460        640: 100%|██████████| 10/10 [00:04<00:00,  2.18it/s]\n",
      "                 Class     Images  Instances      Box(P          R      mAP50  mAP50-95)     Pose(P          R      mAP50  mAP50-95): 100%|██████████| 2/2 [00:00<00:00,  5.13it/s]"
     ]
    },
    {
     "name": "stdout",
     "output_type": "stream",
     "text": [
      "                   all         80        842       0.97      0.944      0.979      0.768       0.97      0.947      0.979      0.961\n"
     ]
    },
    {
     "name": "stderr",
     "output_type": "stream",
     "text": [
      "\n"
     ]
    },
    {
     "name": "stdout",
     "output_type": "stream",
     "text": [
      "\n",
      "      Epoch    GPU_mem   box_loss  pose_loss  kobj_loss   cls_loss   dfl_loss  Instances       Size\n"
     ]
    },
    {
     "name": "stderr",
     "output_type": "stream",
     "text": [
      "     57/100      13.5G     0.7156     0.0836          0     0.3806     0.8039        612        640: 100%|██████████| 10/10 [00:04<00:00,  2.43it/s]\n",
      "                 Class     Images  Instances      Box(P          R      mAP50  mAP50-95)     Pose(P          R      mAP50  mAP50-95): 100%|██████████| 2/2 [00:00<00:00,  4.57it/s]"
     ]
    },
    {
     "name": "stdout",
     "output_type": "stream",
     "text": [
      "                   all         80        842      0.962      0.944      0.979      0.763      0.964       0.95      0.979      0.964\n"
     ]
    },
    {
     "name": "stderr",
     "output_type": "stream",
     "text": [
      "\n"
     ]
    },
    {
     "name": "stdout",
     "output_type": "stream",
     "text": [
      "\n",
      "      Epoch    GPU_mem   box_loss  pose_loss  kobj_loss   cls_loss   dfl_loss  Instances       Size\n"
     ]
    },
    {
     "name": "stderr",
     "output_type": "stream",
     "text": [
      "     58/100        13G     0.6979    0.08362          0     0.3782     0.8007        536        640: 100%|██████████| 10/10 [00:03<00:00,  2.50it/s]\n",
      "                 Class     Images  Instances      Box(P          R      mAP50  mAP50-95)     Pose(P          R      mAP50  mAP50-95): 100%|██████████| 2/2 [00:00<00:00,  4.78it/s]"
     ]
    },
    {
     "name": "stdout",
     "output_type": "stream",
     "text": [
      "                   all         80        842      0.963      0.929      0.975      0.757      0.971      0.933      0.977      0.963\n"
     ]
    },
    {
     "name": "stderr",
     "output_type": "stream",
     "text": [
      "\n"
     ]
    },
    {
     "name": "stdout",
     "output_type": "stream",
     "text": [
      "\n",
      "      Epoch    GPU_mem   box_loss  pose_loss  kobj_loss   cls_loss   dfl_loss  Instances       Size\n"
     ]
    },
    {
     "name": "stderr",
     "output_type": "stream",
     "text": [
      "     59/100      13.2G     0.7107    0.08151          0     0.3831     0.8055        484        640: 100%|██████████| 10/10 [00:04<00:00,  2.43it/s]\n",
      "                 Class     Images  Instances      Box(P          R      mAP50  mAP50-95)     Pose(P          R      mAP50  mAP50-95): 100%|██████████| 2/2 [00:00<00:00,  5.65it/s]"
     ]
    },
    {
     "name": "stdout",
     "output_type": "stream",
     "text": [
      "                   all         80        842      0.972      0.929      0.978      0.758      0.979       0.94      0.983      0.969\n"
     ]
    },
    {
     "name": "stderr",
     "output_type": "stream",
     "text": [
      "\n"
     ]
    },
    {
     "name": "stdout",
     "output_type": "stream",
     "text": [
      "\n",
      "      Epoch    GPU_mem   box_loss  pose_loss  kobj_loss   cls_loss   dfl_loss  Instances       Size\n"
     ]
    },
    {
     "name": "stderr",
     "output_type": "stream",
     "text": [
      "     60/100      13.1G      0.717    0.08115          0     0.3878     0.8047        492        640: 100%|██████████| 10/10 [00:03<00:00,  2.71it/s]\n",
      "                 Class     Images  Instances      Box(P          R      mAP50  mAP50-95)     Pose(P          R      mAP50  mAP50-95): 100%|██████████| 2/2 [00:00<00:00,  5.47it/s]"
     ]
    },
    {
     "name": "stdout",
     "output_type": "stream",
     "text": [
      "                   all         80        842      0.976      0.925      0.976      0.762      0.972      0.944      0.981      0.968\n"
     ]
    },
    {
     "name": "stderr",
     "output_type": "stream",
     "text": [
      "\n"
     ]
    },
    {
     "name": "stdout",
     "output_type": "stream",
     "text": [
      "\n",
      "      Epoch    GPU_mem   box_loss  pose_loss  kobj_loss   cls_loss   dfl_loss  Instances       Size\n"
     ]
    },
    {
     "name": "stderr",
     "output_type": "stream",
     "text": [
      "     61/100      13.1G     0.7309    0.07874          0     0.3815     0.8081        530        640: 100%|██████████| 10/10 [00:03<00:00,  2.79it/s]\n",
      "                 Class     Images  Instances      Box(P          R      mAP50  mAP50-95)     Pose(P          R      mAP50  mAP50-95): 100%|██████████| 2/2 [00:00<00:00,  6.15it/s]"
     ]
    },
    {
     "name": "stdout",
     "output_type": "stream",
     "text": [
      "                   all         80        842       0.96      0.937      0.976       0.75      0.965      0.942      0.982      0.967\n"
     ]
    },
    {
     "name": "stderr",
     "output_type": "stream",
     "text": [
      "\n"
     ]
    },
    {
     "name": "stdout",
     "output_type": "stream",
     "text": [
      "\n",
      "      Epoch    GPU_mem   box_loss  pose_loss  kobj_loss   cls_loss   dfl_loss  Instances       Size\n"
     ]
    },
    {
     "name": "stderr",
     "output_type": "stream",
     "text": [
      "     62/100      12.9G     0.7425    0.07737          0     0.3894     0.8074        485        640: 100%|██████████| 10/10 [00:03<00:00,  2.93it/s]\n",
      "                 Class     Images  Instances      Box(P          R      mAP50  mAP50-95)     Pose(P          R      mAP50  mAP50-95): 100%|██████████| 2/2 [00:00<00:00,  6.82it/s]"
     ]
    },
    {
     "name": "stdout",
     "output_type": "stream",
     "text": [
      "                   all         80        842      0.976      0.925      0.978      0.762      0.979      0.932      0.982      0.969\n"
     ]
    },
    {
     "name": "stderr",
     "output_type": "stream",
     "text": [
      "\n"
     ]
    },
    {
     "name": "stdout",
     "output_type": "stream",
     "text": [
      "\n",
      "      Epoch    GPU_mem   box_loss  pose_loss  kobj_loss   cls_loss   dfl_loss  Instances       Size\n"
     ]
    },
    {
     "name": "stderr",
     "output_type": "stream",
     "text": [
      "     63/100      13.5G     0.7242     0.0818          0     0.3776     0.8029        499        640: 100%|██████████| 10/10 [00:03<00:00,  2.95it/s]\n",
      "                 Class     Images  Instances      Box(P          R      mAP50  mAP50-95)     Pose(P          R      mAP50  mAP50-95): 100%|██████████| 2/2 [00:00<00:00,  6.63it/s]"
     ]
    },
    {
     "name": "stdout",
     "output_type": "stream",
     "text": [
      "                   all         80        842      0.981      0.936      0.979      0.774      0.986      0.936      0.982      0.969\n"
     ]
    },
    {
     "name": "stderr",
     "output_type": "stream",
     "text": [
      "\n"
     ]
    },
    {
     "name": "stdout",
     "output_type": "stream",
     "text": [
      "\n",
      "      Epoch    GPU_mem   box_loss  pose_loss  kobj_loss   cls_loss   dfl_loss  Instances       Size\n"
     ]
    },
    {
     "name": "stderr",
     "output_type": "stream",
     "text": [
      "     64/100      13.6G      0.693     0.0789          0     0.3673     0.8068        523        640: 100%|██████████| 10/10 [00:03<00:00,  2.94it/s]\n",
      "                 Class     Images  Instances      Box(P          R      mAP50  mAP50-95)     Pose(P          R      mAP50  mAP50-95): 100%|██████████| 2/2 [00:00<00:00,  6.58it/s]"
     ]
    },
    {
     "name": "stdout",
     "output_type": "stream",
     "text": [
      "                   all         80        842       0.97      0.939      0.979      0.763      0.983      0.931      0.981      0.967\n"
     ]
    },
    {
     "name": "stderr",
     "output_type": "stream",
     "text": [
      "\n"
     ]
    },
    {
     "name": "stdout",
     "output_type": "stream",
     "text": [
      "\n",
      "      Epoch    GPU_mem   box_loss  pose_loss  kobj_loss   cls_loss   dfl_loss  Instances       Size\n"
     ]
    },
    {
     "name": "stderr",
     "output_type": "stream",
     "text": [
      "     65/100      13.1G      0.645    0.07026          0     0.3516     0.8024        419        640: 100%|██████████| 10/10 [00:03<00:00,  2.99it/s]\n",
      "                 Class     Images  Instances      Box(P          R      mAP50  mAP50-95)     Pose(P          R      mAP50  mAP50-95): 100%|██████████| 2/2 [00:00<00:00,  6.63it/s]"
     ]
    },
    {
     "name": "stdout",
     "output_type": "stream",
     "text": [
      "                   all         80        842      0.981      0.937      0.976       0.77      0.984      0.939      0.978      0.968\n"
     ]
    },
    {
     "name": "stderr",
     "output_type": "stream",
     "text": [
      "\n"
     ]
    },
    {
     "name": "stdout",
     "output_type": "stream",
     "text": [
      "\n",
      "      Epoch    GPU_mem   box_loss  pose_loss  kobj_loss   cls_loss   dfl_loss  Instances       Size\n"
     ]
    },
    {
     "name": "stderr",
     "output_type": "stream",
     "text": [
      "     66/100      13.2G     0.6521    0.06641          0     0.3519     0.7985        430        640: 100%|██████████| 10/10 [00:03<00:00,  2.99it/s]\n",
      "                 Class     Images  Instances      Box(P          R      mAP50  mAP50-95)     Pose(P          R      mAP50  mAP50-95): 100%|██████████| 2/2 [00:00<00:00,  6.66it/s]"
     ]
    },
    {
     "name": "stdout",
     "output_type": "stream",
     "text": [
      "                   all         80        842      0.968      0.942      0.976      0.759      0.979      0.946      0.982      0.969\n"
     ]
    },
    {
     "name": "stderr",
     "output_type": "stream",
     "text": [
      "\n"
     ]
    },
    {
     "name": "stdout",
     "output_type": "stream",
     "text": [
      "\n",
      "      Epoch    GPU_mem   box_loss  pose_loss  kobj_loss   cls_loss   dfl_loss  Instances       Size\n"
     ]
    },
    {
     "name": "stderr",
     "output_type": "stream",
     "text": [
      "     67/100      12.9G      0.664    0.07521          0     0.3586     0.7983        606        640: 100%|██████████| 10/10 [00:03<00:00,  2.94it/s]\n",
      "                 Class     Images  Instances      Box(P          R      mAP50  mAP50-95)     Pose(P          R      mAP50  mAP50-95): 100%|██████████| 2/2 [00:00<00:00,  6.66it/s]"
     ]
    },
    {
     "name": "stdout",
     "output_type": "stream",
     "text": [
      "                   all         80        842      0.979      0.939      0.981      0.765      0.983      0.943      0.983       0.97\n"
     ]
    },
    {
     "name": "stderr",
     "output_type": "stream",
     "text": [
      "\n"
     ]
    },
    {
     "name": "stdout",
     "output_type": "stream",
     "text": [
      "\n",
      "      Epoch    GPU_mem   box_loss  pose_loss  kobj_loss   cls_loss   dfl_loss  Instances       Size\n"
     ]
    },
    {
     "name": "stderr",
     "output_type": "stream",
     "text": [
      "     68/100      13.5G      0.659    0.07344          0     0.3514     0.8002        416        640: 100%|██████████| 10/10 [00:03<00:00,  3.01it/s]\n",
      "                 Class     Images  Instances      Box(P          R      mAP50  mAP50-95)     Pose(P          R      mAP50  mAP50-95): 100%|██████████| 2/2 [00:00<00:00,  6.45it/s]"
     ]
    },
    {
     "name": "stdout",
     "output_type": "stream",
     "text": [
      "                   all         80        842      0.971      0.948      0.981      0.763      0.973       0.95      0.981      0.967\n"
     ]
    },
    {
     "name": "stderr",
     "output_type": "stream",
     "text": [
      "\n"
     ]
    },
    {
     "name": "stdout",
     "output_type": "stream",
     "text": [
      "\n",
      "      Epoch    GPU_mem   box_loss  pose_loss  kobj_loss   cls_loss   dfl_loss  Instances       Size\n"
     ]
    },
    {
     "name": "stderr",
     "output_type": "stream",
     "text": [
      "     69/100        13G     0.6465    0.07171          0     0.3499     0.7993        394        640: 100%|██████████| 10/10 [00:03<00:00,  2.96it/s]\n",
      "                 Class     Images  Instances      Box(P          R      mAP50  mAP50-95)     Pose(P          R      mAP50  mAP50-95): 100%|██████████| 2/2 [00:00<00:00,  6.65it/s]"
     ]
    },
    {
     "name": "stdout",
     "output_type": "stream",
     "text": [
      "                   all         80        842      0.969       0.94       0.98      0.776      0.972      0.942      0.982      0.967\n"
     ]
    },
    {
     "name": "stderr",
     "output_type": "stream",
     "text": [
      "\n"
     ]
    },
    {
     "name": "stdout",
     "output_type": "stream",
     "text": [
      "\n",
      "      Epoch    GPU_mem   box_loss  pose_loss  kobj_loss   cls_loss   dfl_loss  Instances       Size\n"
     ]
    },
    {
     "name": "stderr",
     "output_type": "stream",
     "text": [
      "     70/100      13.1G     0.6321    0.07362          0     0.3436     0.7968        389        640: 100%|██████████| 10/10 [00:03<00:00,  2.99it/s]\n",
      "                 Class     Images  Instances      Box(P          R      mAP50  mAP50-95)     Pose(P          R      mAP50  mAP50-95): 100%|██████████| 2/2 [00:00<00:00,  6.54it/s]"
     ]
    },
    {
     "name": "stdout",
     "output_type": "stream",
     "text": [
      "                   all         80        842      0.974      0.933      0.979      0.768      0.976      0.935      0.981      0.968\n"
     ]
    },
    {
     "name": "stderr",
     "output_type": "stream",
     "text": [
      "\n"
     ]
    },
    {
     "name": "stdout",
     "output_type": "stream",
     "text": [
      "\n",
      "      Epoch    GPU_mem   box_loss  pose_loss  kobj_loss   cls_loss   dfl_loss  Instances       Size\n"
     ]
    },
    {
     "name": "stderr",
     "output_type": "stream",
     "text": [
      "     71/100      13.1G     0.6342    0.07292          0     0.3407     0.7966        535        640: 100%|██████████| 10/10 [00:03<00:00,  2.51it/s]\n",
      "                 Class     Images  Instances      Box(P          R      mAP50  mAP50-95)     Pose(P          R      mAP50  mAP50-95): 100%|██████████| 2/2 [00:00<00:00,  5.47it/s]"
     ]
    },
    {
     "name": "stdout",
     "output_type": "stream",
     "text": [
      "                   all         80        842      0.968      0.946      0.978      0.772      0.972       0.95       0.98      0.966\n"
     ]
    },
    {
     "name": "stderr",
     "output_type": "stream",
     "text": [
      "\n"
     ]
    },
    {
     "name": "stdout",
     "output_type": "stream",
     "text": [
      "\n",
      "      Epoch    GPU_mem   box_loss  pose_loss  kobj_loss   cls_loss   dfl_loss  Instances       Size\n"
     ]
    },
    {
     "name": "stderr",
     "output_type": "stream",
     "text": [
      "     72/100      13.1G     0.6368    0.06883          0     0.3423     0.8008        545        640: 100%|██████████| 10/10 [00:03<00:00,  2.63it/s]\n",
      "                 Class     Images  Instances      Box(P          R      mAP50  mAP50-95)     Pose(P          R      mAP50  mAP50-95): 100%|██████████| 2/2 [00:00<00:00,  5.07it/s]"
     ]
    },
    {
     "name": "stdout",
     "output_type": "stream",
     "text": [
      "                   all         80        842      0.973      0.938      0.978      0.764      0.979      0.939      0.981      0.966\n"
     ]
    },
    {
     "name": "stderr",
     "output_type": "stream",
     "text": [
      "\n"
     ]
    },
    {
     "name": "stdout",
     "output_type": "stream",
     "text": [
      "\n",
      "      Epoch    GPU_mem   box_loss  pose_loss  kobj_loss   cls_loss   dfl_loss  Instances       Size\n"
     ]
    },
    {
     "name": "stderr",
     "output_type": "stream",
     "text": [
      "     73/100      13.1G     0.6101    0.06626          0     0.3337     0.7988        466        640: 100%|██████████| 10/10 [00:04<00:00,  2.49it/s]\n",
      "                 Class     Images  Instances      Box(P          R      mAP50  mAP50-95)     Pose(P          R      mAP50  mAP50-95): 100%|██████████| 2/2 [00:00<00:00,  5.32it/s]"
     ]
    },
    {
     "name": "stdout",
     "output_type": "stream",
     "text": [
      "                   all         80        842      0.975      0.935       0.98      0.767      0.968      0.941       0.98      0.968\n"
     ]
    },
    {
     "name": "stderr",
     "output_type": "stream",
     "text": [
      "\n"
     ]
    },
    {
     "name": "stdout",
     "output_type": "stream",
     "text": [
      "\n",
      "      Epoch    GPU_mem   box_loss  pose_loss  kobj_loss   cls_loss   dfl_loss  Instances       Size\n"
     ]
    },
    {
     "name": "stderr",
     "output_type": "stream",
     "text": [
      "     74/100        13G     0.6451    0.06819          0     0.3432     0.7961        563        640: 100%|██████████| 10/10 [00:03<00:00,  2.60it/s]\n",
      "                 Class     Images  Instances      Box(P          R      mAP50  mAP50-95)     Pose(P          R      mAP50  mAP50-95): 100%|██████████| 2/2 [00:00<00:00,  5.61it/s]"
     ]
    },
    {
     "name": "stdout",
     "output_type": "stream",
     "text": [
      "                   all         80        842      0.971      0.938      0.981      0.759      0.969      0.937       0.98      0.967\n"
     ]
    },
    {
     "name": "stderr",
     "output_type": "stream",
     "text": [
      "\n"
     ]
    },
    {
     "name": "stdout",
     "output_type": "stream",
     "text": [
      "\n",
      "      Epoch    GPU_mem   box_loss  pose_loss  kobj_loss   cls_loss   dfl_loss  Instances       Size\n"
     ]
    },
    {
     "name": "stderr",
     "output_type": "stream",
     "text": [
      "     75/100      13.1G     0.6314    0.07061          0      0.344     0.7964        475        640: 100%|██████████| 10/10 [00:03<00:00,  2.71it/s]\n",
      "                 Class     Images  Instances      Box(P          R      mAP50  mAP50-95)     Pose(P          R      mAP50  mAP50-95): 100%|██████████| 2/2 [00:00<00:00,  5.64it/s]"
     ]
    },
    {
     "name": "stdout",
     "output_type": "stream",
     "text": [
      "                   all         80        842      0.974       0.93       0.98      0.765      0.975      0.931      0.982      0.969\n"
     ]
    },
    {
     "name": "stderr",
     "output_type": "stream",
     "text": [
      "\n"
     ]
    },
    {
     "name": "stdout",
     "output_type": "stream",
     "text": [
      "\n",
      "      Epoch    GPU_mem   box_loss  pose_loss  kobj_loss   cls_loss   dfl_loss  Instances       Size\n"
     ]
    },
    {
     "name": "stderr",
     "output_type": "stream",
     "text": [
      "     76/100      13.1G     0.6115    0.06406          0     0.3341     0.7904        428        640: 100%|██████████| 10/10 [00:03<00:00,  2.54it/s]\n",
      "                 Class     Images  Instances      Box(P          R      mAP50  mAP50-95)     Pose(P          R      mAP50  mAP50-95): 100%|██████████| 2/2 [00:00<00:00,  5.24it/s]"
     ]
    },
    {
     "name": "stdout",
     "output_type": "stream",
     "text": [
      "                   all         80        842      0.967      0.933      0.978      0.767       0.97      0.936       0.98      0.969\n"
     ]
    },
    {
     "name": "stderr",
     "output_type": "stream",
     "text": [
      "\n"
     ]
    },
    {
     "name": "stdout",
     "output_type": "stream",
     "text": [
      "\n",
      "      Epoch    GPU_mem   box_loss  pose_loss  kobj_loss   cls_loss   dfl_loss  Instances       Size\n"
     ]
    },
    {
     "name": "stderr",
     "output_type": "stream",
     "text": [
      "     77/100        13G      0.618    0.06664          0     0.3312     0.7957        450        640: 100%|██████████| 10/10 [00:03<00:00,  2.75it/s]\n",
      "                 Class     Images  Instances      Box(P          R      mAP50  mAP50-95)     Pose(P          R      mAP50  mAP50-95): 100%|██████████| 2/2 [00:00<00:00,  5.57it/s]"
     ]
    },
    {
     "name": "stdout",
     "output_type": "stream",
     "text": [
      "                   all         80        842      0.963      0.951       0.98      0.779      0.962       0.95       0.98      0.968\n"
     ]
    },
    {
     "name": "stderr",
     "output_type": "stream",
     "text": [
      "\n"
     ]
    },
    {
     "name": "stdout",
     "output_type": "stream",
     "text": [
      "\n",
      "      Epoch    GPU_mem   box_loss  pose_loss  kobj_loss   cls_loss   dfl_loss  Instances       Size\n"
     ]
    },
    {
     "name": "stderr",
     "output_type": "stream",
     "text": [
      "     78/100      12.9G     0.6637    0.06549          0     0.3472     0.7963        537        640: 100%|██████████| 10/10 [00:04<00:00,  2.36it/s]\n",
      "                 Class     Images  Instances      Box(P          R      mAP50  mAP50-95)     Pose(P          R      mAP50  mAP50-95): 100%|██████████| 2/2 [00:00<00:00,  4.07it/s]"
     ]
    },
    {
     "name": "stdout",
     "output_type": "stream",
     "text": [
      "                   all         80        842      0.979      0.936       0.98      0.773       0.98      0.937       0.98      0.969\n"
     ]
    },
    {
     "name": "stderr",
     "output_type": "stream",
     "text": [
      "\n"
     ]
    },
    {
     "name": "stdout",
     "output_type": "stream",
     "text": [
      "\n",
      "      Epoch    GPU_mem   box_loss  pose_loss  kobj_loss   cls_loss   dfl_loss  Instances       Size\n"
     ]
    },
    {
     "name": "stderr",
     "output_type": "stream",
     "text": [
      "     79/100      12.9G      0.633    0.06505          0     0.3428     0.7935        445        640: 100%|██████████| 10/10 [00:04<00:00,  2.39it/s]\n",
      "                 Class     Images  Instances      Box(P          R      mAP50  mAP50-95)     Pose(P          R      mAP50  mAP50-95): 100%|██████████| 2/2 [00:00<00:00,  4.47it/s]"
     ]
    },
    {
     "name": "stdout",
     "output_type": "stream",
     "text": [
      "                   all         80        842      0.972      0.937       0.98      0.763      0.975       0.94      0.981       0.97\n"
     ]
    },
    {
     "name": "stderr",
     "output_type": "stream",
     "text": [
      "\n"
     ]
    },
    {
     "name": "stdout",
     "output_type": "stream",
     "text": [
      "\n",
      "      Epoch    GPU_mem   box_loss  pose_loss  kobj_loss   cls_loss   dfl_loss  Instances       Size\n"
     ]
    },
    {
     "name": "stderr",
     "output_type": "stream",
     "text": [
      "     80/100      13.1G     0.6009    0.05943          0     0.3297     0.7928        483        640: 100%|██████████| 10/10 [00:04<00:00,  2.43it/s]\n",
      "                 Class     Images  Instances      Box(P          R      mAP50  mAP50-95)     Pose(P          R      mAP50  mAP50-95): 100%|██████████| 2/2 [00:00<00:00,  5.19it/s]"
     ]
    },
    {
     "name": "stdout",
     "output_type": "stream",
     "text": [
      "                   all         80        842      0.977      0.937       0.98      0.767      0.981      0.937      0.982      0.971\n"
     ]
    },
    {
     "name": "stderr",
     "output_type": "stream",
     "text": [
      "\n"
     ]
    },
    {
     "name": "stdout",
     "output_type": "stream",
     "text": [
      "\n",
      "      Epoch    GPU_mem   box_loss  pose_loss  kobj_loss   cls_loss   dfl_loss  Instances       Size\n"
     ]
    },
    {
     "name": "stderr",
     "output_type": "stream",
     "text": [
      "     81/100      13.1G     0.6098    0.06414          0     0.3267     0.7946        427        640: 100%|██████████| 10/10 [00:03<00:00,  2.74it/s]\n",
      "                 Class     Images  Instances      Box(P          R      mAP50  mAP50-95)     Pose(P          R      mAP50  mAP50-95): 100%|██████████| 2/2 [00:00<00:00,  5.44it/s]"
     ]
    },
    {
     "name": "stdout",
     "output_type": "stream",
     "text": [
      "                   all         80        842      0.973      0.928      0.978       0.76      0.976      0.931      0.979      0.968\n"
     ]
    },
    {
     "name": "stderr",
     "output_type": "stream",
     "text": [
      "\n"
     ]
    },
    {
     "name": "stdout",
     "output_type": "stream",
     "text": [
      "\n",
      "      Epoch    GPU_mem   box_loss  pose_loss  kobj_loss   cls_loss   dfl_loss  Instances       Size\n"
     ]
    },
    {
     "name": "stderr",
     "output_type": "stream",
     "text": [
      "     82/100      13.1G     0.5929     0.0675          0     0.3202     0.7886        504        640: 100%|██████████| 10/10 [00:03<00:00,  2.71it/s]\n",
      "                 Class     Images  Instances      Box(P          R      mAP50  mAP50-95)     Pose(P          R      mAP50  mAP50-95): 100%|██████████| 2/2 [00:00<00:00,  5.37it/s]"
     ]
    },
    {
     "name": "stdout",
     "output_type": "stream",
     "text": [
      "                   all         80        842      0.978      0.923      0.979      0.772      0.984      0.929      0.982      0.969\n"
     ]
    },
    {
     "name": "stderr",
     "output_type": "stream",
     "text": [
      "\n"
     ]
    },
    {
     "name": "stdout",
     "output_type": "stream",
     "text": [
      "\n",
      "      Epoch    GPU_mem   box_loss  pose_loss  kobj_loss   cls_loss   dfl_loss  Instances       Size\n"
     ]
    },
    {
     "name": "stderr",
     "output_type": "stream",
     "text": [
      "     83/100        13G       0.58    0.06428          0     0.3148     0.7886        566        640: 100%|██████████| 10/10 [00:03<00:00,  2.69it/s]\n",
      "                 Class     Images  Instances      Box(P          R      mAP50  mAP50-95)     Pose(P          R      mAP50  mAP50-95): 100%|██████████| 2/2 [00:00<00:00,  5.44it/s]"
     ]
    },
    {
     "name": "stdout",
     "output_type": "stream",
     "text": [
      "                   all         80        842       0.98      0.936       0.98      0.781      0.985      0.941      0.982      0.969\n"
     ]
    },
    {
     "name": "stderr",
     "output_type": "stream",
     "text": [
      "\n"
     ]
    },
    {
     "name": "stdout",
     "output_type": "stream",
     "text": [
      "\n",
      "      Epoch    GPU_mem   box_loss  pose_loss  kobj_loss   cls_loss   dfl_loss  Instances       Size\n"
     ]
    },
    {
     "name": "stderr",
     "output_type": "stream",
     "text": [
      "     84/100      12.8G     0.5794    0.05953          0     0.3171     0.7893        453        640: 100%|██████████| 10/10 [00:03<00:00,  2.95it/s]\n",
      "                 Class     Images  Instances      Box(P          R      mAP50  mAP50-95)     Pose(P          R      mAP50  mAP50-95): 100%|██████████| 2/2 [00:00<00:00,  6.69it/s]"
     ]
    },
    {
     "name": "stdout",
     "output_type": "stream",
     "text": [
      "                   all         80        842      0.981      0.937      0.979      0.781      0.984      0.938      0.978      0.969\n"
     ]
    },
    {
     "name": "stderr",
     "output_type": "stream",
     "text": [
      "\n"
     ]
    },
    {
     "name": "stdout",
     "output_type": "stream",
     "text": [
      "\n",
      "      Epoch    GPU_mem   box_loss  pose_loss  kobj_loss   cls_loss   dfl_loss  Instances       Size\n"
     ]
    },
    {
     "name": "stderr",
     "output_type": "stream",
     "text": [
      "     85/100        13G     0.5825    0.06023          0     0.3165     0.7913        442        640: 100%|██████████| 10/10 [00:03<00:00,  2.99it/s]\n",
      "                 Class     Images  Instances      Box(P          R      mAP50  mAP50-95)     Pose(P          R      mAP50  mAP50-95): 100%|██████████| 2/2 [00:00<00:00,  6.76it/s]"
     ]
    },
    {
     "name": "stdout",
     "output_type": "stream",
     "text": [
      "                   all         80        842       0.97      0.943      0.982      0.785      0.972      0.944      0.979      0.971\n"
     ]
    },
    {
     "name": "stderr",
     "output_type": "stream",
     "text": [
      "\n"
     ]
    },
    {
     "name": "stdout",
     "output_type": "stream",
     "text": [
      "\n",
      "      Epoch    GPU_mem   box_loss  pose_loss  kobj_loss   cls_loss   dfl_loss  Instances       Size\n"
     ]
    },
    {
     "name": "stderr",
     "output_type": "stream",
     "text": [
      "     86/100        13G     0.5763    0.06181          0     0.3158     0.7899        525        640: 100%|██████████| 10/10 [00:03<00:00,  2.97it/s]\n",
      "                 Class     Images  Instances      Box(P          R      mAP50  mAP50-95)     Pose(P          R      mAP50  mAP50-95): 100%|██████████| 2/2 [00:00<00:00,  6.67it/s]"
     ]
    },
    {
     "name": "stdout",
     "output_type": "stream",
     "text": [
      "                   all         80        842      0.972      0.944       0.98      0.788      0.973      0.944       0.98      0.971\n"
     ]
    },
    {
     "name": "stderr",
     "output_type": "stream",
     "text": [
      "\n"
     ]
    },
    {
     "name": "stdout",
     "output_type": "stream",
     "text": [
      "\n",
      "      Epoch    GPU_mem   box_loss  pose_loss  kobj_loss   cls_loss   dfl_loss  Instances       Size\n"
     ]
    },
    {
     "name": "stderr",
     "output_type": "stream",
     "text": [
      "     87/100      13.5G     0.5592    0.05556          0     0.3093     0.7922        377        640: 100%|██████████| 10/10 [00:03<00:00,  2.92it/s]\n",
      "                 Class     Images  Instances      Box(P          R      mAP50  mAP50-95)     Pose(P          R      mAP50  mAP50-95): 100%|██████████| 2/2 [00:00<00:00,  6.52it/s]"
     ]
    },
    {
     "name": "stdout",
     "output_type": "stream",
     "text": [
      "                   all         80        842      0.973      0.949       0.98      0.786      0.982      0.941      0.982      0.972\n"
     ]
    },
    {
     "name": "stderr",
     "output_type": "stream",
     "text": [
      "\n"
     ]
    },
    {
     "name": "stdout",
     "output_type": "stream",
     "text": [
      "\n",
      "      Epoch    GPU_mem   box_loss  pose_loss  kobj_loss   cls_loss   dfl_loss  Instances       Size\n"
     ]
    },
    {
     "name": "stderr",
     "output_type": "stream",
     "text": [
      "     88/100        13G     0.5621    0.06303          0      0.308     0.7888        469        640: 100%|██████████| 10/10 [00:03<00:00,  2.70it/s]\n",
      "                 Class     Images  Instances      Box(P          R      mAP50  mAP50-95)     Pose(P          R      mAP50  mAP50-95): 100%|██████████| 2/2 [00:00<00:00,  5.46it/s]"
     ]
    },
    {
     "name": "stdout",
     "output_type": "stream",
     "text": [
      "                   all         80        842      0.981      0.939      0.983      0.779      0.984      0.941      0.982      0.972\n"
     ]
    },
    {
     "name": "stderr",
     "output_type": "stream",
     "text": [
      "\n"
     ]
    },
    {
     "name": "stdout",
     "output_type": "stream",
     "text": [
      "\n",
      "      Epoch    GPU_mem   box_loss  pose_loss  kobj_loss   cls_loss   dfl_loss  Instances       Size\n"
     ]
    },
    {
     "name": "stderr",
     "output_type": "stream",
     "text": [
      "     89/100      13.1G     0.5721    0.06272          0     0.3118     0.7914        492        640: 100%|██████████| 10/10 [00:04<00:00,  2.47it/s]\n",
      "                 Class     Images  Instances      Box(P          R      mAP50  mAP50-95)     Pose(P          R      mAP50  mAP50-95): 100%|██████████| 2/2 [00:00<00:00,  5.58it/s]"
     ]
    },
    {
     "name": "stdout",
     "output_type": "stream",
     "text": [
      "                   all         80        842      0.977      0.938      0.981      0.776      0.978      0.939      0.982      0.972\n"
     ]
    },
    {
     "name": "stderr",
     "output_type": "stream",
     "text": [
      "\n"
     ]
    },
    {
     "name": "stdout",
     "output_type": "stream",
     "text": [
      "\n",
      "      Epoch    GPU_mem   box_loss  pose_loss  kobj_loss   cls_loss   dfl_loss  Instances       Size\n"
     ]
    },
    {
     "name": "stderr",
     "output_type": "stream",
     "text": [
      "     90/100        13G     0.5586    0.05848          0     0.3025     0.7877        436        640: 100%|██████████| 10/10 [00:03<00:00,  2.75it/s]\n",
      "                 Class     Images  Instances      Box(P          R      mAP50  mAP50-95)     Pose(P          R      mAP50  mAP50-95): 100%|██████████| 2/2 [00:00<00:00,  5.51it/s]"
     ]
    },
    {
     "name": "stdout",
     "output_type": "stream",
     "text": [
      "                   all         80        842      0.982      0.943      0.981      0.779      0.982      0.943      0.982      0.972\n"
     ]
    },
    {
     "name": "stderr",
     "output_type": "stream",
     "text": [
      "\n"
     ]
    },
    {
     "name": "stdout",
     "output_type": "stream",
     "text": [
      "Closing dataloader mosaic\n",
      "\n",
      "      Epoch    GPU_mem   box_loss  pose_loss  kobj_loss   cls_loss   dfl_loss  Instances       Size\n"
     ]
    },
    {
     "name": "stderr",
     "output_type": "stream",
     "text": [
      "     91/100      13.6G     0.5662    0.05388          0     0.3137     0.7882        242        640: 100%|██████████| 10/10 [00:05<00:00,  1.97it/s]\n",
      "                 Class     Images  Instances      Box(P          R      mAP50  mAP50-95)     Pose(P          R      mAP50  mAP50-95): 100%|██████████| 2/2 [00:00<00:00,  5.51it/s]"
     ]
    },
    {
     "name": "stdout",
     "output_type": "stream",
     "text": [
      "                   all         80        842      0.975      0.942      0.978      0.788      0.975      0.942      0.979       0.97\n"
     ]
    },
    {
     "name": "stderr",
     "output_type": "stream",
     "text": [
      "\n"
     ]
    },
    {
     "name": "stdout",
     "output_type": "stream",
     "text": [
      "\n",
      "      Epoch    GPU_mem   box_loss  pose_loss  kobj_loss   cls_loss   dfl_loss  Instances       Size\n"
     ]
    },
    {
     "name": "stderr",
     "output_type": "stream",
     "text": [
      "     92/100      13.6G     0.5324    0.04761          0     0.2982     0.7864        279        640: 100%|██████████| 10/10 [00:03<00:00,  2.63it/s]\n",
      "                 Class     Images  Instances      Box(P          R      mAP50  mAP50-95)     Pose(P          R      mAP50  mAP50-95): 100%|██████████| 2/2 [00:00<00:00,  5.45it/s]"
     ]
    },
    {
     "name": "stdout",
     "output_type": "stream",
     "text": [
      "                   all         80        842       0.98      0.925      0.977       0.79       0.98      0.925      0.976      0.967\n"
     ]
    },
    {
     "name": "stderr",
     "output_type": "stream",
     "text": [
      "\n"
     ]
    },
    {
     "name": "stdout",
     "output_type": "stream",
     "text": [
      "\n",
      "      Epoch    GPU_mem   box_loss  pose_loss  kobj_loss   cls_loss   dfl_loss  Instances       Size\n"
     ]
    },
    {
     "name": "stderr",
     "output_type": "stream",
     "text": [
      "     93/100      13.5G      0.519    0.04579          0     0.2901     0.7844        226        640: 100%|██████████| 10/10 [00:03<00:00,  2.53it/s]\n",
      "                 Class     Images  Instances      Box(P          R      mAP50  mAP50-95)     Pose(P          R      mAP50  mAP50-95): 100%|██████████| 2/2 [00:00<00:00,  5.58it/s]"
     ]
    },
    {
     "name": "stdout",
     "output_type": "stream",
     "text": [
      "                   all         80        842      0.973      0.938      0.981      0.787      0.972      0.942      0.983      0.972\n"
     ]
    },
    {
     "name": "stderr",
     "output_type": "stream",
     "text": [
      "\n"
     ]
    },
    {
     "name": "stdout",
     "output_type": "stream",
     "text": [
      "\n",
      "      Epoch    GPU_mem   box_loss  pose_loss  kobj_loss   cls_loss   dfl_loss  Instances       Size\n"
     ]
    },
    {
     "name": "stderr",
     "output_type": "stream",
     "text": [
      "     94/100      13.6G     0.5264    0.04552          0     0.2928     0.7848        212        640: 100%|██████████| 10/10 [00:03<00:00,  2.61it/s]\n",
      "                 Class     Images  Instances      Box(P          R      mAP50  mAP50-95)     Pose(P          R      mAP50  mAP50-95): 100%|██████████| 2/2 [00:00<00:00,  5.63it/s]"
     ]
    },
    {
     "name": "stdout",
     "output_type": "stream",
     "text": [
      "                   all         80        842      0.984      0.929      0.982      0.777      0.977       0.94      0.983      0.972\n"
     ]
    },
    {
     "name": "stderr",
     "output_type": "stream",
     "text": [
      "\n"
     ]
    },
    {
     "name": "stdout",
     "output_type": "stream",
     "text": [
      "\n",
      "      Epoch    GPU_mem   box_loss  pose_loss  kobj_loss   cls_loss   dfl_loss  Instances       Size\n"
     ]
    },
    {
     "name": "stderr",
     "output_type": "stream",
     "text": [
      "     95/100      13.5G     0.5259     0.0438          0      0.289     0.7829        311        640: 100%|██████████| 10/10 [00:03<00:00,  2.60it/s]\n",
      "                 Class     Images  Instances      Box(P          R      mAP50  mAP50-95)     Pose(P          R      mAP50  mAP50-95): 100%|██████████| 2/2 [00:00<00:00,  5.63it/s]"
     ]
    },
    {
     "name": "stdout",
     "output_type": "stream",
     "text": [
      "                   all         80        842      0.979      0.932      0.978      0.784      0.981      0.936       0.98       0.97\n"
     ]
    },
    {
     "name": "stderr",
     "output_type": "stream",
     "text": [
      "\n"
     ]
    },
    {
     "name": "stdout",
     "output_type": "stream",
     "text": [
      "\n",
      "      Epoch    GPU_mem   box_loss  pose_loss  kobj_loss   cls_loss   dfl_loss  Instances       Size\n"
     ]
    },
    {
     "name": "stderr",
     "output_type": "stream",
     "text": [
      "     96/100      13.6G     0.5038    0.04303          0      0.281     0.7877        282        640: 100%|██████████| 10/10 [00:03<00:00,  2.67it/s]\n",
      "                 Class     Images  Instances      Box(P          R      mAP50  mAP50-95)     Pose(P          R      mAP50  mAP50-95): 100%|██████████| 2/2 [00:00<00:00,  4.97it/s]"
     ]
    },
    {
     "name": "stdout",
     "output_type": "stream",
     "text": [
      "                   all         80        842      0.982      0.932      0.978      0.782      0.973      0.939      0.979      0.969\n"
     ]
    },
    {
     "name": "stderr",
     "output_type": "stream",
     "text": [
      "\n"
     ]
    },
    {
     "name": "stdout",
     "output_type": "stream",
     "text": [
      "\n",
      "      Epoch    GPU_mem   box_loss  pose_loss  kobj_loss   cls_loss   dfl_loss  Instances       Size\n"
     ]
    },
    {
     "name": "stderr",
     "output_type": "stream",
     "text": [
      "     97/100      13.6G      0.494    0.04118          0     0.2779     0.7801        245        640: 100%|██████████| 10/10 [00:03<00:00,  2.69it/s]\n",
      "                 Class     Images  Instances      Box(P          R      mAP50  mAP50-95)     Pose(P          R      mAP50  mAP50-95): 100%|██████████| 2/2 [00:00<00:00,  5.56it/s]"
     ]
    },
    {
     "name": "stdout",
     "output_type": "stream",
     "text": [
      "                   all         80        842      0.982      0.932      0.979      0.782      0.978      0.935      0.977      0.969\n"
     ]
    },
    {
     "name": "stderr",
     "output_type": "stream",
     "text": [
      "\n"
     ]
    },
    {
     "name": "stdout",
     "output_type": "stream",
     "text": [
      "\n",
      "      Epoch    GPU_mem   box_loss  pose_loss  kobj_loss   cls_loss   dfl_loss  Instances       Size\n"
     ]
    },
    {
     "name": "stderr",
     "output_type": "stream",
     "text": [
      "     98/100      13.6G      0.493    0.04433          0     0.2761     0.7852        274        640: 100%|██████████| 10/10 [00:03<00:00,  2.58it/s]\n",
      "                 Class     Images  Instances      Box(P          R      mAP50  mAP50-95)     Pose(P          R      mAP50  mAP50-95): 100%|██████████| 2/2 [00:00<00:00,  5.50it/s]"
     ]
    },
    {
     "name": "stdout",
     "output_type": "stream",
     "text": [
      "                   all         80        842      0.976      0.935      0.979      0.788      0.976      0.936      0.979      0.969\n"
     ]
    },
    {
     "name": "stderr",
     "output_type": "stream",
     "text": [
      "\n"
     ]
    },
    {
     "name": "stdout",
     "output_type": "stream",
     "text": [
      "\n",
      "      Epoch    GPU_mem   box_loss  pose_loss  kobj_loss   cls_loss   dfl_loss  Instances       Size\n"
     ]
    },
    {
     "name": "stderr",
     "output_type": "stream",
     "text": [
      "     99/100      13.5G     0.4731     0.0424          0     0.2682     0.7797        282        640: 100%|██████████| 10/10 [00:03<00:00,  2.67it/s]\n",
      "                 Class     Images  Instances      Box(P          R      mAP50  mAP50-95)     Pose(P          R      mAP50  mAP50-95): 100%|██████████| 2/2 [00:00<00:00,  5.59it/s]"
     ]
    },
    {
     "name": "stdout",
     "output_type": "stream",
     "text": [
      "                   all         80        842      0.966      0.944      0.981      0.788      0.971      0.939       0.98       0.97\n"
     ]
    },
    {
     "name": "stderr",
     "output_type": "stream",
     "text": [
      "\n"
     ]
    },
    {
     "name": "stdout",
     "output_type": "stream",
     "text": [
      "\n",
      "      Epoch    GPU_mem   box_loss  pose_loss  kobj_loss   cls_loss   dfl_loss  Instances       Size\n"
     ]
    },
    {
     "name": "stderr",
     "output_type": "stream",
     "text": [
      "    100/100      13.6G     0.4569    0.04111          0     0.2624      0.781        330        640: 100%|██████████| 10/10 [00:03<00:00,  2.76it/s]\n",
      "                 Class     Images  Instances      Box(P          R      mAP50  mAP50-95)     Pose(P          R      mAP50  mAP50-95): 100%|██████████| 2/2 [00:00<00:00,  5.66it/s]"
     ]
    },
    {
     "name": "stdout",
     "output_type": "stream",
     "text": [
      "                   all         80        842      0.965       0.95      0.981      0.788      0.965       0.95      0.981      0.971\n"
     ]
    },
    {
     "name": "stderr",
     "output_type": "stream",
     "text": [
      "\n"
     ]
    },
    {
     "name": "stdout",
     "output_type": "stream",
     "text": [
      "\n",
      "100 epochs completed in 0.127 hours.\n",
      "Optimizer stripped from runs/pose/train15/weights/last.pt, 53.2MB\n",
      "Optimizer stripped from runs/pose/train15/weights/best.pt, 53.2MB\n",
      "\n",
      "Validating runs/pose/train15/weights/best.pt...\n",
      "Ultralytics YOLOv8.2.25 🚀 Python-3.11.6 torch-2.3.0 CUDA:0 (NVIDIA GeForce RTX 3090 Ti, 24214MiB)\n",
      "YOLOv8m-pose summary (fused): 237 layers, 26401087 parameters, 0 gradients\n"
     ]
    },
    {
     "name": "stderr",
     "output_type": "stream",
     "text": [
      "/home/kroep/miniforge3/envs/bee/lib/python3.11/site-packages/torch/nn/modules/conv.py:456: UserWarning: Plan failed with a cudnnException: CUDNN_BACKEND_EXECUTION_PLAN_DESCRIPTOR: cudnnFinalize Descriptor Failed cudnn_status: CUDNN_STATUS_NOT_SUPPORTED (Triggered internally at /opt/conda/conda-bld/pytorch_1712608853085/work/aten/src/ATen/native/cudnn/Conv_v8.cpp:919.)\n",
      "  return F.conv2d(input, weight, bias, self.stride,\n",
      "                 Class     Images  Instances      Box(P          R      mAP50  mAP50-95)     Pose(P          R      mAP50  mAP50-95): 100%|██████████| 2/2 [00:00<00:00,  4.96it/s]\n"
     ]
    },
    {
     "name": "stdout",
     "output_type": "stream",
     "text": [
      "                   all         80        842      0.972      0.938      0.981      0.788      0.971      0.942      0.983      0.972\n",
      "Speed: 0.1ms preprocess, 2.7ms inference, 0.0ms loss, 0.2ms postprocess per image\n",
      "Results saved to \u001B[1mruns/pose/train15\u001B[0m\n"
     ]
    },
    {
     "data": {
      "text/plain": [
       "ultralytics.utils.metrics.PoseMetrics object with attributes:\n",
       "\n",
       "ap_class_index: array([0])\n",
       "box: ultralytics.utils.metrics.Metric object\n",
       "confusion_matrix: <ultralytics.utils.metrics.ConfusionMatrix object at 0x7fc7c6104a50>\n",
       "curves: ['Precision-Recall(B)', 'F1-Confidence(B)', 'Precision-Confidence(B)', 'Recall-Confidence(B)', 'Precision-Recall(P)', 'F1-Confidence(P)', 'Precision-Confidence(P)', 'Recall-Confidence(P)']\n",
       "curves_results: [[array([          0,    0.001001,    0.002002,    0.003003,    0.004004,    0.005005,    0.006006,    0.007007,    0.008008,    0.009009,     0.01001,    0.011011,    0.012012,    0.013013,    0.014014,    0.015015,    0.016016,    0.017017,    0.018018,    0.019019,     0.02002,    0.021021,    0.022022,    0.023023,\n",
       "          0.024024,    0.025025,    0.026026,    0.027027,    0.028028,    0.029029,     0.03003,    0.031031,    0.032032,    0.033033,    0.034034,    0.035035,    0.036036,    0.037037,    0.038038,    0.039039,     0.04004,    0.041041,    0.042042,    0.043043,    0.044044,    0.045045,    0.046046,    0.047047,\n",
       "          0.048048,    0.049049,     0.05005,    0.051051,    0.052052,    0.053053,    0.054054,    0.055055,    0.056056,    0.057057,    0.058058,    0.059059,     0.06006,    0.061061,    0.062062,    0.063063,    0.064064,    0.065065,    0.066066,    0.067067,    0.068068,    0.069069,     0.07007,    0.071071,\n",
       "          0.072072,    0.073073,    0.074074,    0.075075,    0.076076,    0.077077,    0.078078,    0.079079,     0.08008,    0.081081,    0.082082,    0.083083,    0.084084,    0.085085,    0.086086,    0.087087,    0.088088,    0.089089,     0.09009,    0.091091,    0.092092,    0.093093,    0.094094,    0.095095,\n",
       "          0.096096,    0.097097,    0.098098,    0.099099,      0.1001,      0.1011,      0.1021,      0.1031,      0.1041,     0.10511,     0.10611,     0.10711,     0.10811,     0.10911,     0.11011,     0.11111,     0.11211,     0.11311,     0.11411,     0.11512,     0.11612,     0.11712,     0.11812,     0.11912,\n",
       "           0.12012,     0.12112,     0.12212,     0.12312,     0.12412,     0.12513,     0.12613,     0.12713,     0.12813,     0.12913,     0.13013,     0.13113,     0.13213,     0.13313,     0.13413,     0.13514,     0.13614,     0.13714,     0.13814,     0.13914,     0.14014,     0.14114,     0.14214,     0.14314,\n",
       "           0.14414,     0.14515,     0.14615,     0.14715,     0.14815,     0.14915,     0.15015,     0.15115,     0.15215,     0.15315,     0.15415,     0.15516,     0.15616,     0.15716,     0.15816,     0.15916,     0.16016,     0.16116,     0.16216,     0.16316,     0.16416,     0.16517,     0.16617,     0.16717,\n",
       "           0.16817,     0.16917,     0.17017,     0.17117,     0.17217,     0.17317,     0.17417,     0.17518,     0.17618,     0.17718,     0.17818,     0.17918,     0.18018,     0.18118,     0.18218,     0.18318,     0.18418,     0.18519,     0.18619,     0.18719,     0.18819,     0.18919,     0.19019,     0.19119,\n",
       "           0.19219,     0.19319,     0.19419,      0.1952,      0.1962,      0.1972,      0.1982,      0.1992,      0.2002,      0.2012,      0.2022,      0.2032,      0.2042,     0.20521,     0.20621,     0.20721,     0.20821,     0.20921,     0.21021,     0.21121,     0.21221,     0.21321,     0.21421,     0.21522,\n",
       "           0.21622,     0.21722,     0.21822,     0.21922,     0.22022,     0.22122,     0.22222,     0.22322,     0.22422,     0.22523,     0.22623,     0.22723,     0.22823,     0.22923,     0.23023,     0.23123,     0.23223,     0.23323,     0.23423,     0.23524,     0.23624,     0.23724,     0.23824,     0.23924,\n",
       "           0.24024,     0.24124,     0.24224,     0.24324,     0.24424,     0.24525,     0.24625,     0.24725,     0.24825,     0.24925,     0.25025,     0.25125,     0.25225,     0.25325,     0.25425,     0.25526,     0.25626,     0.25726,     0.25826,     0.25926,     0.26026,     0.26126,     0.26226,     0.26326,\n",
       "           0.26426,     0.26527,     0.26627,     0.26727,     0.26827,     0.26927,     0.27027,     0.27127,     0.27227,     0.27327,     0.27427,     0.27528,     0.27628,     0.27728,     0.27828,     0.27928,     0.28028,     0.28128,     0.28228,     0.28328,     0.28428,     0.28529,     0.28629,     0.28729,\n",
       "           0.28829,     0.28929,     0.29029,     0.29129,     0.29229,     0.29329,     0.29429,      0.2953,      0.2963,      0.2973,      0.2983,      0.2993,      0.3003,      0.3013,      0.3023,      0.3033,      0.3043,     0.30531,     0.30631,     0.30731,     0.30831,     0.30931,     0.31031,     0.31131,\n",
       "           0.31231,     0.31331,     0.31431,     0.31532,     0.31632,     0.31732,     0.31832,     0.31932,     0.32032,     0.32132,     0.32232,     0.32332,     0.32432,     0.32533,     0.32633,     0.32733,     0.32833,     0.32933,     0.33033,     0.33133,     0.33233,     0.33333,     0.33433,     0.33534,\n",
       "           0.33634,     0.33734,     0.33834,     0.33934,     0.34034,     0.34134,     0.34234,     0.34334,     0.34434,     0.34535,     0.34635,     0.34735,     0.34835,     0.34935,     0.35035,     0.35135,     0.35235,     0.35335,     0.35435,     0.35536,     0.35636,     0.35736,     0.35836,     0.35936,\n",
       "           0.36036,     0.36136,     0.36236,     0.36336,     0.36436,     0.36537,     0.36637,     0.36737,     0.36837,     0.36937,     0.37037,     0.37137,     0.37237,     0.37337,     0.37437,     0.37538,     0.37638,     0.37738,     0.37838,     0.37938,     0.38038,     0.38138,     0.38238,     0.38338,\n",
       "           0.38438,     0.38539,     0.38639,     0.38739,     0.38839,     0.38939,     0.39039,     0.39139,     0.39239,     0.39339,     0.39439,      0.3954,      0.3964,      0.3974,      0.3984,      0.3994,      0.4004,      0.4014,      0.4024,      0.4034,      0.4044,     0.40541,     0.40641,     0.40741,\n",
       "           0.40841,     0.40941,     0.41041,     0.41141,     0.41241,     0.41341,     0.41441,     0.41542,     0.41642,     0.41742,     0.41842,     0.41942,     0.42042,     0.42142,     0.42242,     0.42342,     0.42442,     0.42543,     0.42643,     0.42743,     0.42843,     0.42943,     0.43043,     0.43143,\n",
       "           0.43243,     0.43343,     0.43443,     0.43544,     0.43644,     0.43744,     0.43844,     0.43944,     0.44044,     0.44144,     0.44244,     0.44344,     0.44444,     0.44545,     0.44645,     0.44745,     0.44845,     0.44945,     0.45045,     0.45145,     0.45245,     0.45345,     0.45445,     0.45546,\n",
       "           0.45646,     0.45746,     0.45846,     0.45946,     0.46046,     0.46146,     0.46246,     0.46346,     0.46446,     0.46547,     0.46647,     0.46747,     0.46847,     0.46947,     0.47047,     0.47147,     0.47247,     0.47347,     0.47447,     0.47548,     0.47648,     0.47748,     0.47848,     0.47948,\n",
       "           0.48048,     0.48148,     0.48248,     0.48348,     0.48448,     0.48549,     0.48649,     0.48749,     0.48849,     0.48949,     0.49049,     0.49149,     0.49249,     0.49349,     0.49449,      0.4955,      0.4965,      0.4975,      0.4985,      0.4995,      0.5005,      0.5015,      0.5025,      0.5035,\n",
       "            0.5045,     0.50551,     0.50651,     0.50751,     0.50851,     0.50951,     0.51051,     0.51151,     0.51251,     0.51351,     0.51451,     0.51552,     0.51652,     0.51752,     0.51852,     0.51952,     0.52052,     0.52152,     0.52252,     0.52352,     0.52452,     0.52553,     0.52653,     0.52753,\n",
       "           0.52853,     0.52953,     0.53053,     0.53153,     0.53253,     0.53353,     0.53453,     0.53554,     0.53654,     0.53754,     0.53854,     0.53954,     0.54054,     0.54154,     0.54254,     0.54354,     0.54454,     0.54555,     0.54655,     0.54755,     0.54855,     0.54955,     0.55055,     0.55155,\n",
       "           0.55255,     0.55355,     0.55455,     0.55556,     0.55656,     0.55756,     0.55856,     0.55956,     0.56056,     0.56156,     0.56256,     0.56356,     0.56456,     0.56557,     0.56657,     0.56757,     0.56857,     0.56957,     0.57057,     0.57157,     0.57257,     0.57357,     0.57457,     0.57558,\n",
       "           0.57658,     0.57758,     0.57858,     0.57958,     0.58058,     0.58158,     0.58258,     0.58358,     0.58458,     0.58559,     0.58659,     0.58759,     0.58859,     0.58959,     0.59059,     0.59159,     0.59259,     0.59359,     0.59459,      0.5956,      0.5966,      0.5976,      0.5986,      0.5996,\n",
       "            0.6006,      0.6016,      0.6026,      0.6036,      0.6046,     0.60561,     0.60661,     0.60761,     0.60861,     0.60961,     0.61061,     0.61161,     0.61261,     0.61361,     0.61461,     0.61562,     0.61662,     0.61762,     0.61862,     0.61962,     0.62062,     0.62162,     0.62262,     0.62362,\n",
       "           0.62462,     0.62563,     0.62663,     0.62763,     0.62863,     0.62963,     0.63063,     0.63163,     0.63263,     0.63363,     0.63463,     0.63564,     0.63664,     0.63764,     0.63864,     0.63964,     0.64064,     0.64164,     0.64264,     0.64364,     0.64464,     0.64565,     0.64665,     0.64765,\n",
       "           0.64865,     0.64965,     0.65065,     0.65165,     0.65265,     0.65365,     0.65465,     0.65566,     0.65666,     0.65766,     0.65866,     0.65966,     0.66066,     0.66166,     0.66266,     0.66366,     0.66466,     0.66567,     0.66667,     0.66767,     0.66867,     0.66967,     0.67067,     0.67167,\n",
       "           0.67267,     0.67367,     0.67467,     0.67568,     0.67668,     0.67768,     0.67868,     0.67968,     0.68068,     0.68168,     0.68268,     0.68368,     0.68468,     0.68569,     0.68669,     0.68769,     0.68869,     0.68969,     0.69069,     0.69169,     0.69269,     0.69369,     0.69469,      0.6957,\n",
       "            0.6967,      0.6977,      0.6987,      0.6997,      0.7007,      0.7017,      0.7027,      0.7037,      0.7047,     0.70571,     0.70671,     0.70771,     0.70871,     0.70971,     0.71071,     0.71171,     0.71271,     0.71371,     0.71471,     0.71572,     0.71672,     0.71772,     0.71872,     0.71972,\n",
       "           0.72072,     0.72172,     0.72272,     0.72372,     0.72472,     0.72573,     0.72673,     0.72773,     0.72873,     0.72973,     0.73073,     0.73173,     0.73273,     0.73373,     0.73473,     0.73574,     0.73674,     0.73774,     0.73874,     0.73974,     0.74074,     0.74174,     0.74274,     0.74374,\n",
       "           0.74474,     0.74575,     0.74675,     0.74775,     0.74875,     0.74975,     0.75075,     0.75175,     0.75275,     0.75375,     0.75475,     0.75576,     0.75676,     0.75776,     0.75876,     0.75976,     0.76076,     0.76176,     0.76276,     0.76376,     0.76476,     0.76577,     0.76677,     0.76777,\n",
       "           0.76877,     0.76977,     0.77077,     0.77177,     0.77277,     0.77377,     0.77477,     0.77578,     0.77678,     0.77778,     0.77878,     0.77978,     0.78078,     0.78178,     0.78278,     0.78378,     0.78478,     0.78579,     0.78679,     0.78779,     0.78879,     0.78979,     0.79079,     0.79179,\n",
       "           0.79279,     0.79379,     0.79479,      0.7958,      0.7968,      0.7978,      0.7988,      0.7998,      0.8008,      0.8018,      0.8028,      0.8038,      0.8048,     0.80581,     0.80681,     0.80781,     0.80881,     0.80981,     0.81081,     0.81181,     0.81281,     0.81381,     0.81481,     0.81582,\n",
       "           0.81682,     0.81782,     0.81882,     0.81982,     0.82082,     0.82182,     0.82282,     0.82382,     0.82482,     0.82583,     0.82683,     0.82783,     0.82883,     0.82983,     0.83083,     0.83183,     0.83283,     0.83383,     0.83483,     0.83584,     0.83684,     0.83784,     0.83884,     0.83984,\n",
       "           0.84084,     0.84184,     0.84284,     0.84384,     0.84484,     0.84585,     0.84685,     0.84785,     0.84885,     0.84985,     0.85085,     0.85185,     0.85285,     0.85385,     0.85485,     0.85586,     0.85686,     0.85786,     0.85886,     0.85986,     0.86086,     0.86186,     0.86286,     0.86386,\n",
       "           0.86486,     0.86587,     0.86687,     0.86787,     0.86887,     0.86987,     0.87087,     0.87187,     0.87287,     0.87387,     0.87487,     0.87588,     0.87688,     0.87788,     0.87888,     0.87988,     0.88088,     0.88188,     0.88288,     0.88388,     0.88488,     0.88589,     0.88689,     0.88789,\n",
       "           0.88889,     0.88989,     0.89089,     0.89189,     0.89289,     0.89389,     0.89489,      0.8959,      0.8969,      0.8979,      0.8989,      0.8999,      0.9009,      0.9019,      0.9029,      0.9039,      0.9049,     0.90591,     0.90691,     0.90791,     0.90891,     0.90991,     0.91091,     0.91191,\n",
       "           0.91291,     0.91391,     0.91491,     0.91592,     0.91692,     0.91792,     0.91892,     0.91992,     0.92092,     0.92192,     0.92292,     0.92392,     0.92492,     0.92593,     0.92693,     0.92793,     0.92893,     0.92993,     0.93093,     0.93193,     0.93293,     0.93393,     0.93493,     0.93594,\n",
       "           0.93694,     0.93794,     0.93894,     0.93994,     0.94094,     0.94194,     0.94294,     0.94394,     0.94494,     0.94595,     0.94695,     0.94795,     0.94895,     0.94995,     0.95095,     0.95195,     0.95295,     0.95395,     0.95495,     0.95596,     0.95696,     0.95796,     0.95896,     0.95996,\n",
       "           0.96096,     0.96196,     0.96296,     0.96396,     0.96496,     0.96597,     0.96697,     0.96797,     0.96897,     0.96997,     0.97097,     0.97197,     0.97297,     0.97397,     0.97497,     0.97598,     0.97698,     0.97798,     0.97898,     0.97998,     0.98098,     0.98198,     0.98298,     0.98398,\n",
       "           0.98498,     0.98599,     0.98699,     0.98799,     0.98899,     0.98999,     0.99099,     0.99199,     0.99299,     0.99399,     0.99499,       0.996,       0.997,       0.998,       0.999,           1]), array([[          1,           1,           1,           1,           1,           1,           1,           1,           1,           1,           1,           1,           1,           1,           1,           1,           1,           1,           1,           1,           1,           1,           1,\n",
       "                  1,           1,           1,           1,           1,           1,           1,           1,           1,           1,           1,           1,           1,           1,           1,           1,           1,           1,           1,           1,           1,           1,           1,\n",
       "                  1,           1,           1,           1,           1,           1,           1,           1,           1,           1,           1,           1,           1,           1,           1,           1,           1,           1,           1,           1,           1,           1,           1,\n",
       "                  1,           1,           1,           1,           1,           1,           1,           1,           1,           1,           1,           1,           1,           1,           1,           1,           1,           1,           1,           1,           1,           1,           1,\n",
       "                  1,           1,           1,           1,           1,           1,           1,           1,           1,           1,           1,           1,           1,           1,           1,           1,           1,           1,           1,           1,           1,           1,           1,\n",
       "                  1,           1,           1,           1,           1,           1,           1,           1,           1,           1,           1,           1,           1,           1,           1,           1,           1,           1,           1,           1,           1,           1,           1,\n",
       "                  1,           1,           1,           1,           1,           1,           1,           1,           1,           1,           1,           1,           1,           1,           1,           1,           1,           1,           1,           1,           1,           1,           1,\n",
       "                  1,           1,           1,           1,           1,           1,           1,           1,           1,           1,           1,           1,           1,           1,           1,           1,           1,           1,           1,           1,           1,           1,           1,\n",
       "                  1,           1,           1,           1,           1,           1,           1,           1,           1,           1,           1,           1,           1,           1,           1,           1,           1,           1,           1,           1,           1,           1,           1,\n",
       "                  1,           1,           1,           1,           1,           1,           1,           1,           1,           1,           1,           1,           1,           1,           1,           1,           1,           1,           1,           1,           1,           1,           1,\n",
       "                  1,           1,           1,           1,           1,           1,           1,           1,           1,           1,           1,           1,           1,           1,           1,           1,           1,           1,           1,           1,           1,           1,           1,\n",
       "                  1,           1,           1,           1,           1,           1,           1,           1,           1,           1,           1,           1,           1,           1,           1,           1,           1,           1,           1,           1,           1,           1,           1,\n",
       "                  1,           1,           1,           1,           1,           1,           1,           1,           1,           1,           1,           1,           1,           1,           1,           1,           1,           1,           1,           1,           1,           1,           1,\n",
       "                  1,           1,           1,           1,           1,           1,           1,           1,           1,           1,           1,           1,           1,           1,           1,           1,           1,           1,           1,           1,           1,           1,           1,\n",
       "                  1,           1,           1,           1,           1,           1,           1,           1,           1,           1,           1,     0.99853,     0.99853,     0.99853,     0.99853,     0.99853,     0.99853,     0.99853,     0.99853,     0.99853,     0.99853,     0.99853,     0.99853,\n",
       "            0.99853,     0.99853,     0.99853,     0.99853,     0.99853,     0.99853,     0.99853,     0.99853,     0.99853,     0.99853,     0.99853,     0.99853,     0.99853,     0.99853,     0.99853,     0.99853,     0.99853,     0.99853,     0.99853,     0.99853,     0.99853,     0.99853,     0.99853,\n",
       "            0.99853,     0.99853,     0.99853,     0.99853,     0.99853,     0.99853,     0.99853,     0.99853,     0.99853,     0.99853,     0.99853,     0.99853,     0.99853,     0.99853,     0.99853,     0.99853,     0.99853,     0.99853,     0.99853,     0.99853,     0.99853,     0.99853,     0.99853,\n",
       "            0.99853,     0.99853,     0.99853,     0.99853,     0.99853,     0.99853,     0.99853,     0.99853,     0.99853,     0.99853,     0.99853,     0.99853,     0.99853,     0.99853,     0.99853,     0.99853,     0.99853,     0.99853,     0.99853,     0.99853,     0.99853,     0.99853,     0.99853,\n",
       "            0.99853,     0.99853,     0.99853,     0.99853,     0.99853,     0.99853,     0.99853,     0.99853,     0.99853,     0.99853,     0.99853,     0.99853,     0.99853,     0.99853,     0.99853,     0.99853,     0.99853,     0.99853,     0.99853,     0.99853,     0.99853,     0.99853,     0.99853,\n",
       "            0.99853,     0.99853,     0.99853,     0.99853,     0.99853,     0.99853,     0.99853,     0.99853,     0.99853,     0.99853,     0.99853,     0.99853,     0.99853,     0.99853,     0.99853,     0.99853,     0.99853,     0.99853,     0.99853,     0.99853,     0.99853,     0.99853,     0.99853,\n",
       "            0.99853,     0.99853,     0.99853,     0.99853,     0.99853,     0.99853,     0.99853,     0.99853,     0.99853,     0.99853,     0.99853,     0.99853,     0.99853,     0.99853,     0.99853,     0.99853,     0.99853,     0.99853,     0.99853,     0.99853,     0.99853,     0.99853,     0.99853,\n",
       "            0.99853,     0.99853,     0.99853,     0.99853,     0.99853,     0.99853,     0.99853,     0.99853,     0.99853,     0.99853,     0.99853,     0.99853,     0.99853,     0.99853,     0.99853,     0.99853,     0.99853,     0.99853,     0.99853,     0.99853,     0.99853,     0.99853,     0.99853,\n",
       "            0.99853,     0.99853,     0.99853,     0.99853,     0.99853,     0.99853,     0.99853,     0.99853,     0.99853,     0.99853,     0.99853,     0.99853,     0.99853,     0.99853,     0.99853,     0.99853,     0.99853,     0.99853,     0.99853,     0.99853,     0.99853,     0.99853,     0.99853,\n",
       "            0.99853,     0.99853,     0.99853,     0.99853,     0.99853,     0.99853,     0.99853,     0.99853,     0.99853,     0.99853,     0.99853,     0.99853,     0.99853,     0.99853,     0.99853,     0.99853,     0.99853,     0.99853,     0.99853,     0.99853,     0.99853,     0.99853,     0.99853,\n",
       "            0.99853,     0.99853,     0.99853,     0.99853,     0.99853,     0.99853,     0.99853,     0.99853,     0.99853,     0.99853,     0.99853,     0.99853,     0.99853,     0.99853,     0.99853,     0.99853,     0.99853,     0.99853,     0.99853,     0.99853,     0.99853,     0.99853,     0.99853,\n",
       "            0.99853,     0.99853,     0.99853,     0.99853,     0.99853,     0.99853,     0.99853,     0.99853,     0.99853,     0.99853,     0.99853,     0.99853,     0.99853,     0.99853,     0.99853,     0.99853,     0.99853,     0.99853,     0.99853,     0.99853,     0.99853,     0.99853,     0.99853,\n",
       "            0.99853,     0.99853,     0.99853,     0.99853,     0.99853,     0.99853,     0.99853,     0.99853,     0.99853,     0.99853,     0.99853,     0.99853,     0.99853,     0.99853,     0.99853,     0.99853,     0.99853,     0.99853,     0.99853,     0.99853,     0.99853,     0.99853,     0.99853,\n",
       "            0.99853,     0.99853,     0.99853,     0.99853,     0.99853,     0.99853,     0.99853,     0.99853,     0.99853,     0.99853,     0.99853,     0.99853,     0.99853,     0.99853,     0.99853,     0.99853,     0.99853,     0.99853,     0.99853,     0.99853,     0.99853,     0.99853,     0.99853,\n",
       "            0.99853,     0.99853,     0.99853,     0.99853,     0.99853,     0.99853,     0.99853,     0.99853,     0.99853,     0.99853,     0.99853,     0.99853,     0.99853,     0.99853,     0.99853,     0.99853,     0.99853,     0.99853,     0.99853,     0.99853,     0.99853,     0.99853,     0.99853,\n",
       "            0.99853,     0.99853,     0.99853,     0.99853,     0.99853,     0.99853,     0.99853,     0.99853,     0.99853,     0.99853,     0.99853,     0.99853,     0.99853,     0.99853,     0.99853,     0.99853,     0.99853,     0.99853,     0.99853,     0.99853,     0.99853,     0.99853,     0.99853,\n",
       "            0.99853,     0.99853,     0.99853,     0.99853,     0.99853,     0.99853,     0.99853,     0.99853,     0.99853,     0.99853,     0.99853,     0.99853,     0.99853,     0.99853,     0.99853,     0.99853,     0.99853,     0.99853,     0.99853,     0.99853,     0.99853,     0.99853,     0.99853,\n",
       "            0.99853,     0.99853,     0.99853,     0.99853,     0.99853,     0.99853,     0.99853,     0.99853,     0.99853,     0.99853,     0.99853,     0.99853,     0.99853,     0.99853,     0.99853,     0.99853,     0.99853,     0.99853,     0.99853,     0.99853,     0.99853,     0.99853,     0.99853,\n",
       "            0.99853,     0.99853,     0.99853,     0.99853,     0.99853,     0.99853,     0.99853,     0.99853,     0.99853,     0.99853,     0.99853,     0.99853,     0.99853,     0.99853,     0.99853,     0.99853,     0.99853,     0.99853,     0.99853,     0.99853,     0.99853,     0.99853,     0.99853,\n",
       "            0.99853,     0.99853,     0.99853,     0.99853,     0.99853,     0.99853,     0.99853,     0.99853,     0.99853,     0.99853,     0.99853,     0.99853,     0.99853,     0.99853,     0.99853,     0.99853,     0.99853,     0.99853,     0.99853,     0.99853,     0.99853,     0.99853,     0.99853,\n",
       "            0.99853,     0.99853,     0.99853,     0.99853,     0.99853,     0.99853,     0.99853,     0.99853,     0.99853,     0.99853,     0.99853,     0.99853,     0.99853,     0.99853,     0.99853,     0.99853,     0.99853,     0.99853,     0.99853,     0.99853,     0.99853,     0.99853,     0.99853,\n",
       "            0.99853,     0.99853,     0.99853,     0.99731,     0.99731,     0.99731,     0.99731,     0.99731,     0.99731,     0.99731,     0.99731,     0.99731,     0.99731,     0.99731,     0.99731,     0.99731,     0.99731,     0.99731,     0.99731,     0.99731,     0.99731,     0.99731,     0.99731,\n",
       "            0.99731,     0.99731,     0.99731,     0.99731,     0.99731,     0.99731,     0.99731,     0.99731,     0.99731,     0.99731,     0.99731,     0.99731,     0.99731,     0.99731,     0.99731,     0.99731,     0.99731,     0.99731,     0.99731,     0.99731,     0.99731,     0.99731,     0.99731,\n",
       "            0.99731,     0.99731,     0.99731,     0.99731,     0.99731,     0.99731,     0.99731,     0.99731,     0.99731,     0.99731,     0.99731,     0.99731,     0.99731,     0.99731,     0.99731,     0.99731,     0.99731,     0.99731,     0.99731,     0.99731,     0.99731,     0.99731,     0.99731,\n",
       "            0.99731,     0.99731,     0.99731,     0.99731,     0.99731,     0.99731,     0.99597,     0.99474,     0.99474,     0.99474,     0.99474,     0.99474,     0.99474,     0.99474,     0.99474,     0.99474,     0.99474,     0.99474,     0.99474,     0.99474,     0.99474,     0.99474,     0.99474,\n",
       "            0.99474,     0.99474,     0.99348,     0.99348,     0.99348,     0.99348,     0.99348,     0.99348,     0.99225,     0.99225,     0.99225,     0.99225,     0.99225,     0.99225,     0.99225,     0.99103,     0.99103,     0.99103,     0.99103,     0.99103,     0.99103,     0.98851,     0.98728,\n",
       "            0.98728,     0.98479,      0.9812,      0.9812,      0.9812,      0.9812,      0.9812,      0.9812,      0.9812,        0.98,        0.98,     0.97761,     0.97761,     0.97525,     0.97525,     0.97407,     0.97407,     0.97291,     0.97174,     0.96822,     0.96719,     0.96719,     0.96719,\n",
       "            0.96719,     0.96719,      0.9614,     0.96034,     0.96034,     0.95808,     0.95808,     0.94681,     0.94575,     0.94471,     0.93163,     0.93072,     0.93072,     0.93072,     0.92972,     0.92874,     0.92563,     0.92466,     0.92466,      0.9195,     0.91855,     0.91041,     0.90556,\n",
       "            0.90556,     0.89083,     0.89083,     0.88901,     0.88528,     0.87876,     0.87327,     0.82018,     0.82018,     0.79038,     0.73365,     0.70175,     0.66985,     0.63795,     0.60606,     0.57416,     0.54226,     0.51036,     0.47846,     0.44657,     0.41467,     0.38277,     0.35087,\n",
       "            0.31898,     0.28708,     0.25518,     0.22328,     0.19139,     0.15949,     0.12759,    0.095693,    0.063795,    0.031898,           0]]), 'Recall', 'Precision'], [array([          0,    0.001001,    0.002002,    0.003003,    0.004004,    0.005005,    0.006006,    0.007007,    0.008008,    0.009009,     0.01001,    0.011011,    0.012012,    0.013013,    0.014014,    0.015015,    0.016016,    0.017017,    0.018018,    0.019019,     0.02002,    0.021021,    0.022022,    0.023023,\n",
       "          0.024024,    0.025025,    0.026026,    0.027027,    0.028028,    0.029029,     0.03003,    0.031031,    0.032032,    0.033033,    0.034034,    0.035035,    0.036036,    0.037037,    0.038038,    0.039039,     0.04004,    0.041041,    0.042042,    0.043043,    0.044044,    0.045045,    0.046046,    0.047047,\n",
       "          0.048048,    0.049049,     0.05005,    0.051051,    0.052052,    0.053053,    0.054054,    0.055055,    0.056056,    0.057057,    0.058058,    0.059059,     0.06006,    0.061061,    0.062062,    0.063063,    0.064064,    0.065065,    0.066066,    0.067067,    0.068068,    0.069069,     0.07007,    0.071071,\n",
       "          0.072072,    0.073073,    0.074074,    0.075075,    0.076076,    0.077077,    0.078078,    0.079079,     0.08008,    0.081081,    0.082082,    0.083083,    0.084084,    0.085085,    0.086086,    0.087087,    0.088088,    0.089089,     0.09009,    0.091091,    0.092092,    0.093093,    0.094094,    0.095095,\n",
       "          0.096096,    0.097097,    0.098098,    0.099099,      0.1001,      0.1011,      0.1021,      0.1031,      0.1041,     0.10511,     0.10611,     0.10711,     0.10811,     0.10911,     0.11011,     0.11111,     0.11211,     0.11311,     0.11411,     0.11512,     0.11612,     0.11712,     0.11812,     0.11912,\n",
       "           0.12012,     0.12112,     0.12212,     0.12312,     0.12412,     0.12513,     0.12613,     0.12713,     0.12813,     0.12913,     0.13013,     0.13113,     0.13213,     0.13313,     0.13413,     0.13514,     0.13614,     0.13714,     0.13814,     0.13914,     0.14014,     0.14114,     0.14214,     0.14314,\n",
       "           0.14414,     0.14515,     0.14615,     0.14715,     0.14815,     0.14915,     0.15015,     0.15115,     0.15215,     0.15315,     0.15415,     0.15516,     0.15616,     0.15716,     0.15816,     0.15916,     0.16016,     0.16116,     0.16216,     0.16316,     0.16416,     0.16517,     0.16617,     0.16717,\n",
       "           0.16817,     0.16917,     0.17017,     0.17117,     0.17217,     0.17317,     0.17417,     0.17518,     0.17618,     0.17718,     0.17818,     0.17918,     0.18018,     0.18118,     0.18218,     0.18318,     0.18418,     0.18519,     0.18619,     0.18719,     0.18819,     0.18919,     0.19019,     0.19119,\n",
       "           0.19219,     0.19319,     0.19419,      0.1952,      0.1962,      0.1972,      0.1982,      0.1992,      0.2002,      0.2012,      0.2022,      0.2032,      0.2042,     0.20521,     0.20621,     0.20721,     0.20821,     0.20921,     0.21021,     0.21121,     0.21221,     0.21321,     0.21421,     0.21522,\n",
       "           0.21622,     0.21722,     0.21822,     0.21922,     0.22022,     0.22122,     0.22222,     0.22322,     0.22422,     0.22523,     0.22623,     0.22723,     0.22823,     0.22923,     0.23023,     0.23123,     0.23223,     0.23323,     0.23423,     0.23524,     0.23624,     0.23724,     0.23824,     0.23924,\n",
       "           0.24024,     0.24124,     0.24224,     0.24324,     0.24424,     0.24525,     0.24625,     0.24725,     0.24825,     0.24925,     0.25025,     0.25125,     0.25225,     0.25325,     0.25425,     0.25526,     0.25626,     0.25726,     0.25826,     0.25926,     0.26026,     0.26126,     0.26226,     0.26326,\n",
       "           0.26426,     0.26527,     0.26627,     0.26727,     0.26827,     0.26927,     0.27027,     0.27127,     0.27227,     0.27327,     0.27427,     0.27528,     0.27628,     0.27728,     0.27828,     0.27928,     0.28028,     0.28128,     0.28228,     0.28328,     0.28428,     0.28529,     0.28629,     0.28729,\n",
       "           0.28829,     0.28929,     0.29029,     0.29129,     0.29229,     0.29329,     0.29429,      0.2953,      0.2963,      0.2973,      0.2983,      0.2993,      0.3003,      0.3013,      0.3023,      0.3033,      0.3043,     0.30531,     0.30631,     0.30731,     0.30831,     0.30931,     0.31031,     0.31131,\n",
       "           0.31231,     0.31331,     0.31431,     0.31532,     0.31632,     0.31732,     0.31832,     0.31932,     0.32032,     0.32132,     0.32232,     0.32332,     0.32432,     0.32533,     0.32633,     0.32733,     0.32833,     0.32933,     0.33033,     0.33133,     0.33233,     0.33333,     0.33433,     0.33534,\n",
       "           0.33634,     0.33734,     0.33834,     0.33934,     0.34034,     0.34134,     0.34234,     0.34334,     0.34434,     0.34535,     0.34635,     0.34735,     0.34835,     0.34935,     0.35035,     0.35135,     0.35235,     0.35335,     0.35435,     0.35536,     0.35636,     0.35736,     0.35836,     0.35936,\n",
       "           0.36036,     0.36136,     0.36236,     0.36336,     0.36436,     0.36537,     0.36637,     0.36737,     0.36837,     0.36937,     0.37037,     0.37137,     0.37237,     0.37337,     0.37437,     0.37538,     0.37638,     0.37738,     0.37838,     0.37938,     0.38038,     0.38138,     0.38238,     0.38338,\n",
       "           0.38438,     0.38539,     0.38639,     0.38739,     0.38839,     0.38939,     0.39039,     0.39139,     0.39239,     0.39339,     0.39439,      0.3954,      0.3964,      0.3974,      0.3984,      0.3994,      0.4004,      0.4014,      0.4024,      0.4034,      0.4044,     0.40541,     0.40641,     0.40741,\n",
       "           0.40841,     0.40941,     0.41041,     0.41141,     0.41241,     0.41341,     0.41441,     0.41542,     0.41642,     0.41742,     0.41842,     0.41942,     0.42042,     0.42142,     0.42242,     0.42342,     0.42442,     0.42543,     0.42643,     0.42743,     0.42843,     0.42943,     0.43043,     0.43143,\n",
       "           0.43243,     0.43343,     0.43443,     0.43544,     0.43644,     0.43744,     0.43844,     0.43944,     0.44044,     0.44144,     0.44244,     0.44344,     0.44444,     0.44545,     0.44645,     0.44745,     0.44845,     0.44945,     0.45045,     0.45145,     0.45245,     0.45345,     0.45445,     0.45546,\n",
       "           0.45646,     0.45746,     0.45846,     0.45946,     0.46046,     0.46146,     0.46246,     0.46346,     0.46446,     0.46547,     0.46647,     0.46747,     0.46847,     0.46947,     0.47047,     0.47147,     0.47247,     0.47347,     0.47447,     0.47548,     0.47648,     0.47748,     0.47848,     0.47948,\n",
       "           0.48048,     0.48148,     0.48248,     0.48348,     0.48448,     0.48549,     0.48649,     0.48749,     0.48849,     0.48949,     0.49049,     0.49149,     0.49249,     0.49349,     0.49449,      0.4955,      0.4965,      0.4975,      0.4985,      0.4995,      0.5005,      0.5015,      0.5025,      0.5035,\n",
       "            0.5045,     0.50551,     0.50651,     0.50751,     0.50851,     0.50951,     0.51051,     0.51151,     0.51251,     0.51351,     0.51451,     0.51552,     0.51652,     0.51752,     0.51852,     0.51952,     0.52052,     0.52152,     0.52252,     0.52352,     0.52452,     0.52553,     0.52653,     0.52753,\n",
       "           0.52853,     0.52953,     0.53053,     0.53153,     0.53253,     0.53353,     0.53453,     0.53554,     0.53654,     0.53754,     0.53854,     0.53954,     0.54054,     0.54154,     0.54254,     0.54354,     0.54454,     0.54555,     0.54655,     0.54755,     0.54855,     0.54955,     0.55055,     0.55155,\n",
       "           0.55255,     0.55355,     0.55455,     0.55556,     0.55656,     0.55756,     0.55856,     0.55956,     0.56056,     0.56156,     0.56256,     0.56356,     0.56456,     0.56557,     0.56657,     0.56757,     0.56857,     0.56957,     0.57057,     0.57157,     0.57257,     0.57357,     0.57457,     0.57558,\n",
       "           0.57658,     0.57758,     0.57858,     0.57958,     0.58058,     0.58158,     0.58258,     0.58358,     0.58458,     0.58559,     0.58659,     0.58759,     0.58859,     0.58959,     0.59059,     0.59159,     0.59259,     0.59359,     0.59459,      0.5956,      0.5966,      0.5976,      0.5986,      0.5996,\n",
       "            0.6006,      0.6016,      0.6026,      0.6036,      0.6046,     0.60561,     0.60661,     0.60761,     0.60861,     0.60961,     0.61061,     0.61161,     0.61261,     0.61361,     0.61461,     0.61562,     0.61662,     0.61762,     0.61862,     0.61962,     0.62062,     0.62162,     0.62262,     0.62362,\n",
       "           0.62462,     0.62563,     0.62663,     0.62763,     0.62863,     0.62963,     0.63063,     0.63163,     0.63263,     0.63363,     0.63463,     0.63564,     0.63664,     0.63764,     0.63864,     0.63964,     0.64064,     0.64164,     0.64264,     0.64364,     0.64464,     0.64565,     0.64665,     0.64765,\n",
       "           0.64865,     0.64965,     0.65065,     0.65165,     0.65265,     0.65365,     0.65465,     0.65566,     0.65666,     0.65766,     0.65866,     0.65966,     0.66066,     0.66166,     0.66266,     0.66366,     0.66466,     0.66567,     0.66667,     0.66767,     0.66867,     0.66967,     0.67067,     0.67167,\n",
       "           0.67267,     0.67367,     0.67467,     0.67568,     0.67668,     0.67768,     0.67868,     0.67968,     0.68068,     0.68168,     0.68268,     0.68368,     0.68468,     0.68569,     0.68669,     0.68769,     0.68869,     0.68969,     0.69069,     0.69169,     0.69269,     0.69369,     0.69469,      0.6957,\n",
       "            0.6967,      0.6977,      0.6987,      0.6997,      0.7007,      0.7017,      0.7027,      0.7037,      0.7047,     0.70571,     0.70671,     0.70771,     0.70871,     0.70971,     0.71071,     0.71171,     0.71271,     0.71371,     0.71471,     0.71572,     0.71672,     0.71772,     0.71872,     0.71972,\n",
       "           0.72072,     0.72172,     0.72272,     0.72372,     0.72472,     0.72573,     0.72673,     0.72773,     0.72873,     0.72973,     0.73073,     0.73173,     0.73273,     0.73373,     0.73473,     0.73574,     0.73674,     0.73774,     0.73874,     0.73974,     0.74074,     0.74174,     0.74274,     0.74374,\n",
       "           0.74474,     0.74575,     0.74675,     0.74775,     0.74875,     0.74975,     0.75075,     0.75175,     0.75275,     0.75375,     0.75475,     0.75576,     0.75676,     0.75776,     0.75876,     0.75976,     0.76076,     0.76176,     0.76276,     0.76376,     0.76476,     0.76577,     0.76677,     0.76777,\n",
       "           0.76877,     0.76977,     0.77077,     0.77177,     0.77277,     0.77377,     0.77477,     0.77578,     0.77678,     0.77778,     0.77878,     0.77978,     0.78078,     0.78178,     0.78278,     0.78378,     0.78478,     0.78579,     0.78679,     0.78779,     0.78879,     0.78979,     0.79079,     0.79179,\n",
       "           0.79279,     0.79379,     0.79479,      0.7958,      0.7968,      0.7978,      0.7988,      0.7998,      0.8008,      0.8018,      0.8028,      0.8038,      0.8048,     0.80581,     0.80681,     0.80781,     0.80881,     0.80981,     0.81081,     0.81181,     0.81281,     0.81381,     0.81481,     0.81582,\n",
       "           0.81682,     0.81782,     0.81882,     0.81982,     0.82082,     0.82182,     0.82282,     0.82382,     0.82482,     0.82583,     0.82683,     0.82783,     0.82883,     0.82983,     0.83083,     0.83183,     0.83283,     0.83383,     0.83483,     0.83584,     0.83684,     0.83784,     0.83884,     0.83984,\n",
       "           0.84084,     0.84184,     0.84284,     0.84384,     0.84484,     0.84585,     0.84685,     0.84785,     0.84885,     0.84985,     0.85085,     0.85185,     0.85285,     0.85385,     0.85485,     0.85586,     0.85686,     0.85786,     0.85886,     0.85986,     0.86086,     0.86186,     0.86286,     0.86386,\n",
       "           0.86486,     0.86587,     0.86687,     0.86787,     0.86887,     0.86987,     0.87087,     0.87187,     0.87287,     0.87387,     0.87487,     0.87588,     0.87688,     0.87788,     0.87888,     0.87988,     0.88088,     0.88188,     0.88288,     0.88388,     0.88488,     0.88589,     0.88689,     0.88789,\n",
       "           0.88889,     0.88989,     0.89089,     0.89189,     0.89289,     0.89389,     0.89489,      0.8959,      0.8969,      0.8979,      0.8989,      0.8999,      0.9009,      0.9019,      0.9029,      0.9039,      0.9049,     0.90591,     0.90691,     0.90791,     0.90891,     0.90991,     0.91091,     0.91191,\n",
       "           0.91291,     0.91391,     0.91491,     0.91592,     0.91692,     0.91792,     0.91892,     0.91992,     0.92092,     0.92192,     0.92292,     0.92392,     0.92492,     0.92593,     0.92693,     0.92793,     0.92893,     0.92993,     0.93093,     0.93193,     0.93293,     0.93393,     0.93493,     0.93594,\n",
       "           0.93694,     0.93794,     0.93894,     0.93994,     0.94094,     0.94194,     0.94294,     0.94394,     0.94494,     0.94595,     0.94695,     0.94795,     0.94895,     0.94995,     0.95095,     0.95195,     0.95295,     0.95395,     0.95495,     0.95596,     0.95696,     0.95796,     0.95896,     0.95996,\n",
       "           0.96096,     0.96196,     0.96296,     0.96396,     0.96496,     0.96597,     0.96697,     0.96797,     0.96897,     0.96997,     0.97097,     0.97197,     0.97297,     0.97397,     0.97497,     0.97598,     0.97698,     0.97798,     0.97898,     0.97998,     0.98098,     0.98198,     0.98298,     0.98398,\n",
       "           0.98498,     0.98599,     0.98699,     0.98799,     0.98899,     0.98999,     0.99099,     0.99199,     0.99299,     0.99399,     0.99499,       0.996,       0.997,       0.998,       0.999,           1]), array([[     0.8527,      0.8527,     0.87946,     0.89421,     0.90209,     0.90467,     0.91036,     0.91466,     0.91835,     0.92039,     0.92137,     0.92211,     0.92292,     0.92413,     0.92632,     0.92762,     0.92758,     0.92785,     0.92847,     0.92968,     0.93006,     0.93032,     0.93048,\n",
       "            0.93062,     0.93076,     0.93091,     0.93133,     0.93181,     0.93257,     0.93337,     0.93385,     0.93444,     0.93496,     0.93539,     0.93464,     0.93571,     0.93648,     0.93665,     0.93672,     0.93688,     0.93705,     0.93769,     0.93837,     0.93877,     0.93905,      0.9393,\n",
       "            0.93944,     0.93958,     0.93973,     0.94026,     0.94045,     0.94054,     0.94064,     0.94074,     0.94083,     0.94077,     0.94032,      0.9406,     0.94025,     0.94048,     0.94071,     0.94089,     0.94105,     0.94121,     0.94159,     0.94193,     0.94202,     0.94212,     0.94222,\n",
       "            0.94231,     0.94241,     0.94292,     0.94284,     0.94276,     0.94269,     0.94261,     0.94254,     0.94246,     0.94238,     0.94264,     0.94227,     0.94246,     0.94265,     0.94286,     0.94333,      0.9435,     0.94364,     0.94377,     0.94391,     0.94332,     0.94355,     0.94379,\n",
       "            0.94317,     0.94303,      0.9429,     0.94277,     0.94263,     0.94267,     0.94293,     0.94306,     0.94293,     0.94279,     0.94266,     0.94253,     0.94262,     0.94281,       0.943,     0.94316,      0.9433,     0.94345,      0.9436,      0.9445,     0.94501,     0.94533,     0.94553,\n",
       "            0.94573,     0.94622,     0.94651,     0.94668,     0.94685,     0.94704,     0.94727,     0.94749,     0.94795,     0.94868,     0.94886,     0.94904,     0.94914,     0.94902,      0.9489,     0.94878,     0.94866,     0.94856,      0.9487,     0.94884,     0.94898,     0.94911,       0.949,\n",
       "            0.94889,     0.94878,     0.94867,     0.94855,     0.94851,     0.94855,     0.94858,     0.94862,     0.94866,      0.9487,     0.94874,     0.94878,     0.94882,     0.94886,      0.9489,     0.94894,     0.94898,     0.94901,     0.94905,     0.94891,     0.94878,     0.94865,     0.94851,\n",
       "            0.94848,     0.94861,     0.94874,     0.94888,     0.94902,     0.94928,     0.94954,     0.94962,     0.94969,     0.94975,     0.94982,     0.94989,     0.94996,     0.95003,     0.95009,     0.95018,     0.95026,     0.95035,     0.95044,     0.95053,     0.95062,      0.9513,     0.95146,\n",
       "            0.95163,     0.95179,     0.95185,     0.95189,     0.95193,     0.95196,       0.952,     0.95204,     0.95208,     0.95212,     0.95216,      0.9522,     0.95224,     0.95227,     0.95231,     0.95235,     0.95246,     0.95277,     0.95298,     0.95305,     0.95311,     0.95318,     0.95325,\n",
       "            0.95332,     0.95339,     0.95346,     0.95354,     0.95371,     0.95388,     0.95406,     0.95405,       0.954,     0.95396,     0.95391,     0.95387,     0.95383,     0.95378,     0.95374,     0.95369,     0.95365,      0.9536,     0.95356,     0.95351,     0.95347,     0.95352,     0.95359,\n",
       "            0.95367,     0.95374,     0.95382,     0.95389,     0.95397,     0.95405,     0.95421,     0.95437,     0.95453,     0.95456,     0.95448,     0.95441,     0.95434,     0.95427,      0.9542,     0.95412,     0.95405,     0.95398,     0.95394,     0.95391,     0.95388,     0.95385,     0.95381,\n",
       "            0.95378,     0.95375,     0.95372,     0.95368,     0.95365,     0.95362,     0.95359,     0.95356,     0.95352,     0.95349,     0.95346,     0.95343,     0.95339,     0.95336,     0.95342,     0.95353,     0.95363,     0.95374,     0.95385,      0.9539,     0.95384,     0.95378,     0.95372,\n",
       "            0.95366,      0.9536,     0.95353,     0.95347,     0.95341,     0.95335,     0.95332,     0.95371,     0.95421,      0.9545,      0.9546,      0.9547,     0.95481,     0.95491,     0.95501,      0.9554,      0.9556,     0.95565,     0.95569,     0.95573,     0.95577,     0.95581,     0.95585,\n",
       "            0.95589,     0.95594,     0.95598,     0.95602,     0.95606,      0.9561,     0.95614,     0.95599,     0.95573,     0.95545,     0.95509,     0.95477,     0.95452,     0.95427,     0.95423,     0.95419,     0.95415,     0.95412,     0.95408,     0.95404,       0.954,     0.95396,     0.95392,\n",
       "            0.95388,     0.95385,     0.95381,     0.95377,     0.95373,     0.95369,     0.95365,     0.95376,     0.95393,      0.9541,     0.95417,     0.95403,     0.95389,     0.95374,      0.9536,     0.95361,     0.95364,     0.95367,      0.9537,     0.95373,     0.95375,     0.95378,     0.95381,\n",
       "            0.95384,     0.95387,      0.9539,     0.95392,     0.95395,     0.95398,     0.95401,     0.95404,     0.95407,      0.9541,     0.95412,     0.95415,      0.9543,     0.95452,     0.95473,     0.95475,     0.95477,     0.95478,      0.9548,     0.95481,     0.95483,     0.95484,     0.95486,\n",
       "            0.95487,     0.95489,      0.9549,     0.95492,     0.95493,     0.95495,     0.95496,     0.95498,     0.95499,     0.95501,     0.95502,     0.95504,     0.95505,     0.95507,     0.95508,      0.9551,     0.95511,     0.95513,     0.95514,     0.95516,     0.95517,     0.95519,      0.9552,\n",
       "            0.95522,     0.95523,     0.95525,     0.95526,     0.95528,     0.95529,     0.95531,     0.95529,     0.95525,      0.9552,     0.95516,     0.95512,     0.95507,     0.95503,     0.95498,     0.95494,     0.95489,     0.95485,      0.9548,     0.95476,     0.95471,      0.9547,     0.95476,\n",
       "            0.95482,     0.95488,     0.95494,       0.955,     0.95507,     0.95513,     0.95519,     0.95525,     0.95497,     0.95464,     0.95479,     0.95494,     0.95508,     0.95519,     0.95513,     0.95507,     0.95501,     0.95495,     0.95489,     0.95483,     0.95477,     0.95471,     0.95465,\n",
       "            0.95459,     0.95462,     0.95468,     0.95475,     0.95482,     0.95488,     0.95495,     0.95501,     0.95508,     0.95515,     0.95486,     0.95453,     0.95436,      0.9542,     0.95404,      0.9539,      0.9542,     0.95448,     0.95464,      0.9548,     0.95496,     0.95494,     0.95473,\n",
       "            0.95451,     0.95434,     0.95421,     0.95408,     0.95395,     0.95382,      0.9538,     0.95385,      0.9539,     0.95395,       0.954,     0.95405,      0.9541,     0.95415,      0.9542,     0.95425,      0.9543,     0.95435,      0.9544,     0.95446,     0.95451,     0.95457,     0.95462,\n",
       "            0.95467,     0.95473,     0.95478,     0.95484,     0.95489,     0.95492,     0.95485,     0.95479,     0.95472,     0.95466,     0.95459,     0.95453,     0.95446,      0.9544,     0.95433,     0.95433,     0.95442,     0.95451,     0.95459,     0.95468,     0.95476,     0.95485,     0.95474,\n",
       "            0.95452,     0.95431,     0.95413,     0.95396,      0.9538,     0.95364,     0.95308,     0.95286,     0.95272,     0.95259,     0.95246,     0.95233,     0.95222,     0.95211,       0.952,     0.95189,     0.95178,     0.95168,     0.95161,     0.95154,     0.95148,     0.95141,     0.95135,\n",
       "            0.95128,     0.95122,     0.95115,     0.95108,     0.95114,     0.95144,     0.95226,     0.95241,     0.95256,     0.95271,     0.95271,     0.95255,     0.95238,     0.95222,     0.95232,     0.95262,     0.95276,     0.95281,     0.95286,     0.95291,     0.95295,       0.953,     0.95305,\n",
       "             0.9531,     0.95315,     0.95319,     0.95324,     0.95329,     0.95329,     0.95323,     0.95317,     0.95311,     0.95305,     0.95299,     0.95293,     0.95287,     0.95281,     0.95275,     0.95269,     0.95244,     0.95211,     0.95205,     0.95215,     0.95225,     0.95235,     0.95245,\n",
       "            0.95255,     0.95261,     0.95268,     0.95274,      0.9528,     0.95287,     0.95293,     0.95299,     0.95306,     0.95312,     0.95229,     0.95196,     0.95178,     0.95167,     0.95156,     0.95145,     0.95134,     0.95122,     0.95093,      0.9506,      0.9505,     0.95043,     0.95036,\n",
       "            0.95029,     0.95022,     0.95015,     0.95008,     0.95001,     0.94994,     0.95009,     0.95039,     0.95048,     0.95047,     0.95045,     0.95044,     0.95042,      0.9504,     0.95039,     0.95037,     0.95035,     0.95034,     0.95032,     0.95031,     0.95029,     0.95027,     0.95026,\n",
       "            0.95024,     0.95022,     0.95021,     0.95019,     0.95018,     0.95016,     0.95014,     0.95013,     0.95011,     0.95009,     0.95008,     0.95006,     0.95005,     0.95003,     0.95001,        0.95,     0.94998,     0.94996,     0.94995,     0.94993,     0.94992,      0.9499,     0.94988,\n",
       "            0.94987,     0.94985,     0.94963,      0.9493,     0.94888,     0.94853,     0.94847,     0.94841,     0.94835,     0.94829,     0.94822,     0.94816,      0.9481,     0.94804,     0.94798,     0.94792,     0.94772,     0.94739,     0.94718,     0.94709,     0.94699,      0.9469,      0.9468,\n",
       "            0.94671,     0.94661,     0.94661,     0.94664,     0.94668,     0.94671,     0.94675,     0.94678,     0.94682,     0.94685,     0.94688,     0.94692,     0.94695,     0.94699,     0.94702,     0.94706,     0.94709,     0.94713,     0.94716,     0.94714,     0.94708,     0.94702,     0.94697,\n",
       "            0.94691,     0.94686,      0.9468,     0.94674,     0.94669,     0.94663,     0.94658,     0.94652,     0.94648,     0.94643,     0.94639,     0.94634,      0.9463,     0.94625,     0.94621,     0.94616,     0.94612,     0.94607,     0.94603,     0.94598,     0.94594,     0.94589,     0.94584,\n",
       "            0.94578,     0.94572,     0.94566,      0.9456,     0.94554,     0.94548,     0.94541,     0.94535,     0.94529,     0.94523,     0.94509,      0.9449,     0.94471,     0.94454,     0.94447,     0.94439,     0.94432,     0.94425,     0.94418,     0.94411,     0.94404,     0.94397,      0.9439,\n",
       "            0.94441,     0.94434,     0.94426,     0.94419,     0.94411,     0.94404,     0.94396,     0.94389,     0.94314,     0.94299,     0.94284,     0.94269,     0.94254,     0.94151,     0.93973,     0.93928,     0.93915,     0.93911,     0.93908,     0.93904,       0.939,     0.93896,     0.93892,\n",
       "            0.93888,     0.93884,      0.9388,     0.93876,     0.93873,     0.93869,     0.93865,     0.93861,     0.93857,     0.93853,     0.93819,     0.93779,     0.93757,     0.93734,     0.93709,     0.93682,     0.93655,     0.93611,     0.93565,     0.93519,     0.93451,     0.93463,     0.93483,\n",
       "            0.93431,     0.93385,     0.93283,     0.93255,     0.93224,     0.93178,     0.93085,     0.93067,      0.9305,     0.93033,     0.92974,     0.92855,     0.92679,     0.92651,     0.92623,     0.92578,     0.92452,     0.92393,     0.92346,     0.92318,      0.9229,     0.92237,     0.92192,\n",
       "            0.92164,     0.92064,     0.92017,     0.91953,     0.91782,     0.91764,     0.91746,     0.91729,     0.91597,     0.91476,     0.91419,     0.91348,     0.91146,     0.91098,     0.91062,     0.90955,     0.90907,     0.90845,     0.90773,     0.90715,     0.90663,      0.9052,     0.90309,\n",
       "             0.9026,     0.90194,     0.90049,     0.89904,      0.8985,      0.8972,     0.89574,       0.895,     0.89426,     0.89348,     0.89299,     0.89225,     0.89004,     0.88929,     0.88781,     0.88636,     0.88598,     0.88559,     0.88508,     0.88441,     0.88392,     0.88354,     0.88287,\n",
       "            0.88211,     0.87838,     0.87686,      0.8761,     0.87458,     0.87305,     0.87077,     0.86696,     0.86312,     0.85769,     0.85497,     0.85262,     0.85181,     0.84866,     0.84311,     0.84229,     0.83909,     0.83385,     0.83059,     0.82813,     0.82566,      0.8221,     0.81697,\n",
       "            0.81278,     0.80604,     0.79964,     0.79533,     0.79145,     0.78443,     0.77022,     0.76565,     0.75977,     0.75609,     0.74822,     0.73963,     0.73264,     0.72495,     0.70385,     0.69556,     0.68715,     0.66265,     0.64834,     0.63719,     0.62157,     0.60385,     0.59048,\n",
       "            0.56088,     0.54662,     0.52235,     0.48354,     0.45639,     0.43328,     0.39298,     0.39122,      0.3504,     0.32713,     0.30294,     0.25773,     0.22691,     0.19788,     0.17493,     0.15625,     0.12536,      0.1166,    0.093306,    0.078891,    0.071249,    0.041984,    0.033863,\n",
       "            0.02226,    0.017972,    0.016319,    0.013921,    0.011614,    0.010008,   0.0068283,   0.0052149,   0.0043118,   0.0037056,   0.0030989,    0.002492,           0,           0,           0,           0,           0,           0,           0,           0,           0,           0,           0,\n",
       "                  0,           0,           0,           0,           0,           0,           0,           0,           0,           0,           0,           0,           0,           0,           0,           0,           0,           0,           0,           0,           0,           0,           0,\n",
       "                  0,           0,           0,           0,           0,           0,           0,           0,           0,           0,           0,           0,           0,           0,           0,           0,           0,           0,           0,           0,           0,           0,           0,\n",
       "                  0,           0,           0,           0,           0,           0,           0,           0,           0,           0,           0]]), 'Confidence', 'F1'], [array([          0,    0.001001,    0.002002,    0.003003,    0.004004,    0.005005,    0.006006,    0.007007,    0.008008,    0.009009,     0.01001,    0.011011,    0.012012,    0.013013,    0.014014,    0.015015,    0.016016,    0.017017,    0.018018,    0.019019,     0.02002,    0.021021,    0.022022,    0.023023,\n",
       "          0.024024,    0.025025,    0.026026,    0.027027,    0.028028,    0.029029,     0.03003,    0.031031,    0.032032,    0.033033,    0.034034,    0.035035,    0.036036,    0.037037,    0.038038,    0.039039,     0.04004,    0.041041,    0.042042,    0.043043,    0.044044,    0.045045,    0.046046,    0.047047,\n",
       "          0.048048,    0.049049,     0.05005,    0.051051,    0.052052,    0.053053,    0.054054,    0.055055,    0.056056,    0.057057,    0.058058,    0.059059,     0.06006,    0.061061,    0.062062,    0.063063,    0.064064,    0.065065,    0.066066,    0.067067,    0.068068,    0.069069,     0.07007,    0.071071,\n",
       "          0.072072,    0.073073,    0.074074,    0.075075,    0.076076,    0.077077,    0.078078,    0.079079,     0.08008,    0.081081,    0.082082,    0.083083,    0.084084,    0.085085,    0.086086,    0.087087,    0.088088,    0.089089,     0.09009,    0.091091,    0.092092,    0.093093,    0.094094,    0.095095,\n",
       "          0.096096,    0.097097,    0.098098,    0.099099,      0.1001,      0.1011,      0.1021,      0.1031,      0.1041,     0.10511,     0.10611,     0.10711,     0.10811,     0.10911,     0.11011,     0.11111,     0.11211,     0.11311,     0.11411,     0.11512,     0.11612,     0.11712,     0.11812,     0.11912,\n",
       "           0.12012,     0.12112,     0.12212,     0.12312,     0.12412,     0.12513,     0.12613,     0.12713,     0.12813,     0.12913,     0.13013,     0.13113,     0.13213,     0.13313,     0.13413,     0.13514,     0.13614,     0.13714,     0.13814,     0.13914,     0.14014,     0.14114,     0.14214,     0.14314,\n",
       "           0.14414,     0.14515,     0.14615,     0.14715,     0.14815,     0.14915,     0.15015,     0.15115,     0.15215,     0.15315,     0.15415,     0.15516,     0.15616,     0.15716,     0.15816,     0.15916,     0.16016,     0.16116,     0.16216,     0.16316,     0.16416,     0.16517,     0.16617,     0.16717,\n",
       "           0.16817,     0.16917,     0.17017,     0.17117,     0.17217,     0.17317,     0.17417,     0.17518,     0.17618,     0.17718,     0.17818,     0.17918,     0.18018,     0.18118,     0.18218,     0.18318,     0.18418,     0.18519,     0.18619,     0.18719,     0.18819,     0.18919,     0.19019,     0.19119,\n",
       "           0.19219,     0.19319,     0.19419,      0.1952,      0.1962,      0.1972,      0.1982,      0.1992,      0.2002,      0.2012,      0.2022,      0.2032,      0.2042,     0.20521,     0.20621,     0.20721,     0.20821,     0.20921,     0.21021,     0.21121,     0.21221,     0.21321,     0.21421,     0.21522,\n",
       "           0.21622,     0.21722,     0.21822,     0.21922,     0.22022,     0.22122,     0.22222,     0.22322,     0.22422,     0.22523,     0.22623,     0.22723,     0.22823,     0.22923,     0.23023,     0.23123,     0.23223,     0.23323,     0.23423,     0.23524,     0.23624,     0.23724,     0.23824,     0.23924,\n",
       "           0.24024,     0.24124,     0.24224,     0.24324,     0.24424,     0.24525,     0.24625,     0.24725,     0.24825,     0.24925,     0.25025,     0.25125,     0.25225,     0.25325,     0.25425,     0.25526,     0.25626,     0.25726,     0.25826,     0.25926,     0.26026,     0.26126,     0.26226,     0.26326,\n",
       "           0.26426,     0.26527,     0.26627,     0.26727,     0.26827,     0.26927,     0.27027,     0.27127,     0.27227,     0.27327,     0.27427,     0.27528,     0.27628,     0.27728,     0.27828,     0.27928,     0.28028,     0.28128,     0.28228,     0.28328,     0.28428,     0.28529,     0.28629,     0.28729,\n",
       "           0.28829,     0.28929,     0.29029,     0.29129,     0.29229,     0.29329,     0.29429,      0.2953,      0.2963,      0.2973,      0.2983,      0.2993,      0.3003,      0.3013,      0.3023,      0.3033,      0.3043,     0.30531,     0.30631,     0.30731,     0.30831,     0.30931,     0.31031,     0.31131,\n",
       "           0.31231,     0.31331,     0.31431,     0.31532,     0.31632,     0.31732,     0.31832,     0.31932,     0.32032,     0.32132,     0.32232,     0.32332,     0.32432,     0.32533,     0.32633,     0.32733,     0.32833,     0.32933,     0.33033,     0.33133,     0.33233,     0.33333,     0.33433,     0.33534,\n",
       "           0.33634,     0.33734,     0.33834,     0.33934,     0.34034,     0.34134,     0.34234,     0.34334,     0.34434,     0.34535,     0.34635,     0.34735,     0.34835,     0.34935,     0.35035,     0.35135,     0.35235,     0.35335,     0.35435,     0.35536,     0.35636,     0.35736,     0.35836,     0.35936,\n",
       "           0.36036,     0.36136,     0.36236,     0.36336,     0.36436,     0.36537,     0.36637,     0.36737,     0.36837,     0.36937,     0.37037,     0.37137,     0.37237,     0.37337,     0.37437,     0.37538,     0.37638,     0.37738,     0.37838,     0.37938,     0.38038,     0.38138,     0.38238,     0.38338,\n",
       "           0.38438,     0.38539,     0.38639,     0.38739,     0.38839,     0.38939,     0.39039,     0.39139,     0.39239,     0.39339,     0.39439,      0.3954,      0.3964,      0.3974,      0.3984,      0.3994,      0.4004,      0.4014,      0.4024,      0.4034,      0.4044,     0.40541,     0.40641,     0.40741,\n",
       "           0.40841,     0.40941,     0.41041,     0.41141,     0.41241,     0.41341,     0.41441,     0.41542,     0.41642,     0.41742,     0.41842,     0.41942,     0.42042,     0.42142,     0.42242,     0.42342,     0.42442,     0.42543,     0.42643,     0.42743,     0.42843,     0.42943,     0.43043,     0.43143,\n",
       "           0.43243,     0.43343,     0.43443,     0.43544,     0.43644,     0.43744,     0.43844,     0.43944,     0.44044,     0.44144,     0.44244,     0.44344,     0.44444,     0.44545,     0.44645,     0.44745,     0.44845,     0.44945,     0.45045,     0.45145,     0.45245,     0.45345,     0.45445,     0.45546,\n",
       "           0.45646,     0.45746,     0.45846,     0.45946,     0.46046,     0.46146,     0.46246,     0.46346,     0.46446,     0.46547,     0.46647,     0.46747,     0.46847,     0.46947,     0.47047,     0.47147,     0.47247,     0.47347,     0.47447,     0.47548,     0.47648,     0.47748,     0.47848,     0.47948,\n",
       "           0.48048,     0.48148,     0.48248,     0.48348,     0.48448,     0.48549,     0.48649,     0.48749,     0.48849,     0.48949,     0.49049,     0.49149,     0.49249,     0.49349,     0.49449,      0.4955,      0.4965,      0.4975,      0.4985,      0.4995,      0.5005,      0.5015,      0.5025,      0.5035,\n",
       "            0.5045,     0.50551,     0.50651,     0.50751,     0.50851,     0.50951,     0.51051,     0.51151,     0.51251,     0.51351,     0.51451,     0.51552,     0.51652,     0.51752,     0.51852,     0.51952,     0.52052,     0.52152,     0.52252,     0.52352,     0.52452,     0.52553,     0.52653,     0.52753,\n",
       "           0.52853,     0.52953,     0.53053,     0.53153,     0.53253,     0.53353,     0.53453,     0.53554,     0.53654,     0.53754,     0.53854,     0.53954,     0.54054,     0.54154,     0.54254,     0.54354,     0.54454,     0.54555,     0.54655,     0.54755,     0.54855,     0.54955,     0.55055,     0.55155,\n",
       "           0.55255,     0.55355,     0.55455,     0.55556,     0.55656,     0.55756,     0.55856,     0.55956,     0.56056,     0.56156,     0.56256,     0.56356,     0.56456,     0.56557,     0.56657,     0.56757,     0.56857,     0.56957,     0.57057,     0.57157,     0.57257,     0.57357,     0.57457,     0.57558,\n",
       "           0.57658,     0.57758,     0.57858,     0.57958,     0.58058,     0.58158,     0.58258,     0.58358,     0.58458,     0.58559,     0.58659,     0.58759,     0.58859,     0.58959,     0.59059,     0.59159,     0.59259,     0.59359,     0.59459,      0.5956,      0.5966,      0.5976,      0.5986,      0.5996,\n",
       "            0.6006,      0.6016,      0.6026,      0.6036,      0.6046,     0.60561,     0.60661,     0.60761,     0.60861,     0.60961,     0.61061,     0.61161,     0.61261,     0.61361,     0.61461,     0.61562,     0.61662,     0.61762,     0.61862,     0.61962,     0.62062,     0.62162,     0.62262,     0.62362,\n",
       "           0.62462,     0.62563,     0.62663,     0.62763,     0.62863,     0.62963,     0.63063,     0.63163,     0.63263,     0.63363,     0.63463,     0.63564,     0.63664,     0.63764,     0.63864,     0.63964,     0.64064,     0.64164,     0.64264,     0.64364,     0.64464,     0.64565,     0.64665,     0.64765,\n",
       "           0.64865,     0.64965,     0.65065,     0.65165,     0.65265,     0.65365,     0.65465,     0.65566,     0.65666,     0.65766,     0.65866,     0.65966,     0.66066,     0.66166,     0.66266,     0.66366,     0.66466,     0.66567,     0.66667,     0.66767,     0.66867,     0.66967,     0.67067,     0.67167,\n",
       "           0.67267,     0.67367,     0.67467,     0.67568,     0.67668,     0.67768,     0.67868,     0.67968,     0.68068,     0.68168,     0.68268,     0.68368,     0.68468,     0.68569,     0.68669,     0.68769,     0.68869,     0.68969,     0.69069,     0.69169,     0.69269,     0.69369,     0.69469,      0.6957,\n",
       "            0.6967,      0.6977,      0.6987,      0.6997,      0.7007,      0.7017,      0.7027,      0.7037,      0.7047,     0.70571,     0.70671,     0.70771,     0.70871,     0.70971,     0.71071,     0.71171,     0.71271,     0.71371,     0.71471,     0.71572,     0.71672,     0.71772,     0.71872,     0.71972,\n",
       "           0.72072,     0.72172,     0.72272,     0.72372,     0.72472,     0.72573,     0.72673,     0.72773,     0.72873,     0.72973,     0.73073,     0.73173,     0.73273,     0.73373,     0.73473,     0.73574,     0.73674,     0.73774,     0.73874,     0.73974,     0.74074,     0.74174,     0.74274,     0.74374,\n",
       "           0.74474,     0.74575,     0.74675,     0.74775,     0.74875,     0.74975,     0.75075,     0.75175,     0.75275,     0.75375,     0.75475,     0.75576,     0.75676,     0.75776,     0.75876,     0.75976,     0.76076,     0.76176,     0.76276,     0.76376,     0.76476,     0.76577,     0.76677,     0.76777,\n",
       "           0.76877,     0.76977,     0.77077,     0.77177,     0.77277,     0.77377,     0.77477,     0.77578,     0.77678,     0.77778,     0.77878,     0.77978,     0.78078,     0.78178,     0.78278,     0.78378,     0.78478,     0.78579,     0.78679,     0.78779,     0.78879,     0.78979,     0.79079,     0.79179,\n",
       "           0.79279,     0.79379,     0.79479,      0.7958,      0.7968,      0.7978,      0.7988,      0.7998,      0.8008,      0.8018,      0.8028,      0.8038,      0.8048,     0.80581,     0.80681,     0.80781,     0.80881,     0.80981,     0.81081,     0.81181,     0.81281,     0.81381,     0.81481,     0.81582,\n",
       "           0.81682,     0.81782,     0.81882,     0.81982,     0.82082,     0.82182,     0.82282,     0.82382,     0.82482,     0.82583,     0.82683,     0.82783,     0.82883,     0.82983,     0.83083,     0.83183,     0.83283,     0.83383,     0.83483,     0.83584,     0.83684,     0.83784,     0.83884,     0.83984,\n",
       "           0.84084,     0.84184,     0.84284,     0.84384,     0.84484,     0.84585,     0.84685,     0.84785,     0.84885,     0.84985,     0.85085,     0.85185,     0.85285,     0.85385,     0.85485,     0.85586,     0.85686,     0.85786,     0.85886,     0.85986,     0.86086,     0.86186,     0.86286,     0.86386,\n",
       "           0.86486,     0.86587,     0.86687,     0.86787,     0.86887,     0.86987,     0.87087,     0.87187,     0.87287,     0.87387,     0.87487,     0.87588,     0.87688,     0.87788,     0.87888,     0.87988,     0.88088,     0.88188,     0.88288,     0.88388,     0.88488,     0.88589,     0.88689,     0.88789,\n",
       "           0.88889,     0.88989,     0.89089,     0.89189,     0.89289,     0.89389,     0.89489,      0.8959,      0.8969,      0.8979,      0.8989,      0.8999,      0.9009,      0.9019,      0.9029,      0.9039,      0.9049,     0.90591,     0.90691,     0.90791,     0.90891,     0.90991,     0.91091,     0.91191,\n",
       "           0.91291,     0.91391,     0.91491,     0.91592,     0.91692,     0.91792,     0.91892,     0.91992,     0.92092,     0.92192,     0.92292,     0.92392,     0.92492,     0.92593,     0.92693,     0.92793,     0.92893,     0.92993,     0.93093,     0.93193,     0.93293,     0.93393,     0.93493,     0.93594,\n",
       "           0.93694,     0.93794,     0.93894,     0.93994,     0.94094,     0.94194,     0.94294,     0.94394,     0.94494,     0.94595,     0.94695,     0.94795,     0.94895,     0.94995,     0.95095,     0.95195,     0.95295,     0.95395,     0.95495,     0.95596,     0.95696,     0.95796,     0.95896,     0.95996,\n",
       "           0.96096,     0.96196,     0.96296,     0.96396,     0.96496,     0.96597,     0.96697,     0.96797,     0.96897,     0.96997,     0.97097,     0.97197,     0.97297,     0.97397,     0.97497,     0.97598,     0.97698,     0.97798,     0.97898,     0.97998,     0.98098,     0.98198,     0.98298,     0.98398,\n",
       "           0.98498,     0.98599,     0.98699,     0.98799,     0.98899,     0.98999,     0.99099,     0.99199,     0.99299,     0.99399,     0.99499,       0.996,       0.997,       0.998,       0.999,           1]), array([[    0.75691,     0.75691,     0.80094,      0.8266,     0.84016,     0.84466,     0.85463,     0.86224,     0.86882,     0.87248,     0.87521,     0.87654,     0.87867,     0.88116,     0.88516,     0.88853,     0.88946,     0.89074,      0.8921,     0.89434,     0.89504,     0.89552,     0.89582,\n",
       "            0.89608,     0.89634,     0.89661,     0.89739,     0.89829,      0.8997,     0.90119,     0.90209,     0.90318,     0.90415,      0.9055,     0.90565,     0.90765,      0.9091,     0.91033,      0.9106,     0.91092,     0.91123,     0.91245,     0.91373,      0.9145,     0.91502,      0.9155,\n",
       "            0.91577,     0.91604,     0.91631,     0.91732,     0.91768,     0.91786,     0.91805,     0.91823,     0.91841,     0.91853,     0.91852,     0.91905,     0.91947,     0.91991,     0.92035,     0.92069,     0.92099,      0.9213,     0.92204,     0.92268,     0.92286,     0.92305,     0.92323,\n",
       "            0.92342,     0.92361,     0.92465,     0.92464,     0.92463,     0.92462,     0.92461,      0.9246,     0.92459,     0.92458,     0.92515,     0.92554,     0.92591,     0.92627,     0.92667,     0.92759,     0.92791,     0.92818,     0.92844,     0.92871,     0.92866,     0.92912,     0.92959,\n",
       "            0.93063,     0.93062,      0.9306,     0.93058,     0.93057,     0.93077,     0.93129,     0.93163,     0.93161,     0.93159,     0.93158,     0.93156,     0.93182,     0.93219,     0.93256,     0.93286,     0.93315,     0.93343,     0.93372,      0.9355,      0.9365,     0.93712,     0.93752,\n",
       "            0.93791,     0.93888,     0.93944,     0.93978,     0.94011,      0.9405,     0.94094,     0.94138,     0.94228,     0.94372,     0.94409,     0.94445,      0.9447,     0.94469,     0.94468,     0.94466,     0.94465,     0.94466,     0.94493,     0.94521,     0.94549,     0.94575,     0.94574,\n",
       "            0.94573,     0.94572,     0.94571,      0.9457,     0.94572,      0.9458,     0.94588,     0.94596,     0.94603,     0.94611,     0.94619,     0.94627,     0.94634,     0.94642,      0.9465,     0.94658,     0.94666,     0.94673,     0.94681,     0.94679,     0.94678,     0.94677,     0.94675,\n",
       "            0.94685,     0.94711,     0.94737,     0.94764,     0.94793,     0.94844,     0.94896,     0.94912,     0.94925,     0.94939,     0.94953,     0.94966,      0.9498,     0.94993,     0.95007,     0.95023,     0.95041,     0.95059,     0.95077,     0.95095,     0.95112,     0.95248,     0.95281,\n",
       "            0.95314,     0.95348,     0.95358,     0.95366,     0.95374,     0.95382,      0.9539,     0.95397,     0.95405,     0.95413,     0.95421,     0.95428,     0.95436,     0.95444,     0.95452,      0.9546,     0.95481,     0.95543,     0.95585,     0.95599,     0.95613,     0.95627,      0.9564,\n",
       "            0.95654,     0.95668,     0.95682,     0.95698,     0.95733,     0.95768,     0.95803,     0.95808,     0.95808,     0.95807,     0.95807,     0.95807,     0.95806,     0.95806,     0.95806,     0.95805,     0.95805,     0.95805,     0.95804,     0.95804,     0.95803,     0.95815,      0.9583,\n",
       "            0.95845,      0.9586,     0.95875,      0.9589,     0.95905,     0.95923,     0.95955,     0.95988,      0.9602,     0.96033,     0.96033,     0.96032,     0.96032,     0.96031,     0.96031,      0.9603,     0.96029,     0.96029,     0.96029,     0.96028,     0.96028,     0.96028,     0.96028,\n",
       "            0.96027,     0.96027,     0.96027,     0.96027,     0.96026,     0.96026,     0.96026,     0.96026,     0.96025,     0.96025,     0.96025,     0.96025,     0.96024,     0.96024,     0.96038,      0.9606,     0.96082,     0.96103,     0.96125,      0.9614,     0.96139,     0.96139,     0.96138,\n",
       "            0.96138,     0.96138,     0.96137,     0.96137,     0.96136,     0.96136,      0.9614,     0.96219,     0.96322,     0.96381,     0.96402,     0.96423,     0.96443,     0.96464,     0.96485,     0.96565,     0.96607,     0.96615,     0.96623,     0.96632,      0.9664,     0.96649,     0.96657,\n",
       "            0.96666,     0.96674,     0.96683,     0.96691,     0.96699,     0.96708,     0.96716,     0.96718,     0.96717,     0.96715,     0.96713,     0.96711,     0.96709,     0.96707,     0.96707,     0.96707,     0.96707,     0.96706,     0.96706,     0.96706,     0.96706,     0.96705,     0.96705,\n",
       "            0.96705,     0.96705,     0.96704,     0.96704,     0.96704,     0.96704,     0.96703,     0.96728,     0.96763,     0.96797,     0.96821,      0.9682,     0.96819,     0.96819,     0.96818,     0.96823,     0.96829,     0.96835,     0.96841,     0.96846,     0.96852,     0.96858,     0.96864,\n",
       "             0.9687,     0.96876,     0.96882,     0.96887,     0.96893,     0.96899,     0.96905,     0.96911,     0.96917,     0.96923,     0.96928,     0.96934,     0.96966,      0.9701,     0.97055,     0.97058,     0.97061,     0.97064,     0.97068,     0.97071,     0.97074,     0.97077,      0.9708,\n",
       "            0.97083,     0.97086,     0.97089,     0.97092,     0.97095,     0.97098,     0.97102,     0.97105,     0.97108,     0.97111,     0.97114,     0.97117,      0.9712,     0.97123,     0.97126,     0.97129,     0.97133,     0.97136,     0.97139,     0.97142,     0.97145,     0.97148,     0.97151,\n",
       "            0.97154,     0.97157,      0.9716,     0.97163,     0.97167,      0.9717,     0.97173,     0.97174,     0.97174,     0.97174,     0.97174,     0.97173,     0.97173,     0.97173,     0.97173,     0.97172,     0.97172,     0.97172,     0.97172,     0.97171,     0.97171,     0.97175,     0.97187,\n",
       "              0.972,     0.97213,     0.97225,     0.97238,      0.9725,     0.97263,     0.97275,     0.97288,     0.97289,      0.9729,     0.97321,     0.97351,     0.97382,     0.97407,     0.97407,     0.97407,     0.97406,     0.97406,     0.97406,     0.97406,     0.97405,     0.97405,     0.97405,\n",
       "            0.97404,     0.97414,     0.97427,     0.97441,     0.97455,     0.97469,     0.97482,     0.97496,      0.9751,     0.97524,     0.97523,     0.97522,     0.97521,      0.9752,     0.97519,     0.97522,     0.97584,     0.97643,     0.97677,      0.9771,     0.97743,     0.97761,      0.9776,\n",
       "            0.97759,     0.97758,     0.97758,     0.97757,     0.97756,     0.97756,     0.97762,     0.97773,     0.97783,     0.97794,     0.97804,     0.97814,     0.97825,     0.97835,     0.97846,     0.97856,     0.97867,     0.97877,     0.97888,       0.979,     0.97911,     0.97923,     0.97934,\n",
       "            0.97945,     0.97957,     0.97968,      0.9798,     0.97991,        0.98,        0.98,     0.97999,     0.97999,     0.97999,     0.97999,     0.97998,     0.97998,     0.97998,     0.97998,     0.98006,     0.98024,     0.98042,      0.9806,     0.98078,     0.98096,     0.98114,      0.9812,\n",
       "            0.98119,     0.98118,     0.98118,     0.98117,     0.98116,     0.98116,     0.98114,     0.98113,     0.98112,     0.98112,     0.98111,     0.98111,      0.9811,      0.9811,      0.9811,     0.98109,     0.98109,     0.98108,     0.98108,     0.98108,     0.98108,     0.98107,     0.98107,\n",
       "            0.98107,     0.98107,     0.98106,     0.98106,     0.98127,     0.98191,     0.98367,     0.98398,      0.9843,     0.98462,     0.98479,     0.98478,     0.98478,     0.98477,     0.98514,     0.98578,     0.98609,     0.98619,     0.98629,      0.9864,      0.9865,      0.9866,      0.9867,\n",
       "            0.98681,     0.98691,     0.98701,     0.98712,     0.98722,     0.98728,     0.98728,     0.98727,     0.98727,     0.98727,     0.98727,     0.98727,     0.98727,     0.98726,     0.98726,     0.98726,     0.98726,     0.98725,     0.98865,     0.98887,     0.98908,      0.9893,     0.98952,\n",
       "            0.98973,     0.98988,     0.99002,     0.99015,     0.99029,     0.99043,     0.99056,      0.9907,     0.99084,     0.99097,     0.99101,       0.991,       0.991,       0.991,       0.991,       0.991,     0.99099,     0.99099,     0.99099,     0.99098,     0.99098,     0.99098,     0.99098,\n",
       "            0.99097,     0.99097,     0.99097,     0.99097,     0.99097,     0.99097,     0.99136,     0.99202,     0.99225,     0.99225,     0.99225,     0.99225,     0.99225,     0.99225,     0.99225,     0.99225,     0.99225,     0.99225,     0.99225,     0.99225,     0.99224,     0.99224,     0.99224,\n",
       "            0.99224,     0.99224,     0.99224,     0.99224,     0.99224,     0.99224,     0.99224,     0.99224,     0.99224,     0.99224,     0.99224,     0.99224,     0.99224,     0.99224,     0.99224,     0.99224,     0.99224,     0.99224,     0.99224,     0.99224,     0.99224,     0.99224,     0.99224,\n",
       "            0.99224,     0.99224,     0.99223,     0.99223,     0.99222,     0.99222,     0.99222,     0.99222,     0.99221,     0.99221,     0.99221,     0.99221,     0.99221,     0.99221,     0.99221,     0.99221,     0.99221,      0.9922,      0.9922,      0.9922,     0.99219,     0.99219,     0.99219,\n",
       "            0.99219,     0.99219,     0.99224,     0.99232,     0.99239,     0.99247,     0.99255,     0.99262,      0.9927,     0.99277,     0.99285,     0.99292,       0.993,     0.99308,     0.99315,     0.99323,      0.9933,     0.99338,     0.99345,     0.99348,     0.99348,     0.99348,     0.99348,\n",
       "            0.99348,     0.99348,     0.99348,     0.99348,     0.99347,     0.99347,     0.99347,     0.99347,     0.99347,     0.99347,     0.99347,     0.99347,     0.99347,     0.99347,     0.99347,     0.99347,     0.99347,     0.99347,     0.99347,     0.99347,     0.99347,     0.99346,     0.99346,\n",
       "            0.99346,     0.99346,     0.99346,     0.99346,     0.99346,     0.99346,     0.99346,     0.99346,     0.99346,     0.99346,     0.99345,     0.99345,     0.99345,     0.99345,     0.99345,     0.99344,     0.99344,     0.99344,     0.99344,     0.99344,     0.99344,     0.99344,     0.99344,\n",
       "            0.99474,     0.99474,     0.99474,     0.99474,     0.99474,     0.99474,     0.99474,     0.99474,     0.99473,     0.99473,     0.99473,     0.99472,     0.99472,     0.99471,     0.99469,     0.99469,     0.99469,     0.99469,     0.99469,     0.99469,     0.99469,     0.99469,     0.99469,\n",
       "            0.99468,     0.99468,     0.99468,     0.99468,     0.99468,     0.99468,     0.99468,     0.99468,     0.99468,     0.99468,     0.99468,     0.99467,     0.99467,     0.99467,     0.99467,     0.99466,     0.99466,     0.99466,     0.99465,     0.99465,     0.99464,     0.99642,     0.99688,\n",
       "             0.9973,      0.9973,      0.9973,     0.99729,     0.99729,     0.99729,     0.99729,     0.99728,     0.99728,     0.99728,     0.99728,     0.99727,     0.99726,     0.99726,     0.99726,     0.99726,     0.99725,     0.99725,     0.99725,     0.99724,     0.99724,     0.99724,     0.99724,\n",
       "            0.99724,     0.99723,     0.99723,     0.99722,     0.99721,     0.99721,     0.99721,     0.99721,      0.9972,      0.9972,     0.99719,     0.99719,     0.99718,     0.99718,     0.99717,     0.99717,     0.99716,     0.99716,     0.99716,     0.99715,     0.99715,     0.99714,     0.99713,\n",
       "            0.99713,     0.99712,     0.99711,     0.99711,      0.9971,      0.9971,     0.99709,     0.99708,     0.99708,     0.99853,     0.99853,     0.99853,     0.99852,     0.99852,     0.99852,     0.99851,     0.99851,     0.99851,     0.99851,     0.99851,      0.9985,      0.9985,      0.9985,\n",
       "             0.9985,     0.99849,     0.99848,     0.99848,     0.99848,     0.99847,     0.99846,     0.99845,     0.99844,     0.99842,     0.99841,     0.99841,      0.9984,     0.99839,     0.99837,     0.99837,     0.99836,     0.99834,     0.99833,     0.99832,     0.99832,      0.9983,     0.99829,\n",
       "            0.99827,     0.99825,     0.99822,     0.99821,     0.99819,     0.99817,     0.99811,     0.99809,     0.99807,     0.99805,     0.99802,     0.99798,     0.99795,     0.99792,     0.99782,     0.99778,     0.99774,     0.99761,     0.99753,     0.99747,     0.99738,     0.99726,     0.99718,\n",
       "            0.99697,     0.99686,     0.99666,           1,           1,           1,           1,           1,           1,           1,           1,           1,           1,           1,           1,           1,           1,           1,           1,           1,           1,           1,           1,\n",
       "                  1,           1,           1,           1,           1,           1,           1,           1,           1,           1,           1,           1,           1,           1,           1,           1,           1,           1,           1,           1,           1,           1,           1,\n",
       "                  1,           1,           1,           1,           1,           1,           1,           1,           1,           1,           1,           1,           1,           1,           1,           1,           1,           1,           1,           1,           1,           1,           1,\n",
       "                  1,           1,           1,           1,           1,           1,           1,           1,           1,           1,           1,           1,           1,           1,           1,           1,           1,           1,           1,           1,           1,           1,           1,\n",
       "                  1,           1,           1,           1,           1,           1,           1,           1,           1,           1,           1]]), 'Confidence', 'Precision'], [array([          0,    0.001001,    0.002002,    0.003003,    0.004004,    0.005005,    0.006006,    0.007007,    0.008008,    0.009009,     0.01001,    0.011011,    0.012012,    0.013013,    0.014014,    0.015015,    0.016016,    0.017017,    0.018018,    0.019019,     0.02002,    0.021021,    0.022022,    0.023023,\n",
       "          0.024024,    0.025025,    0.026026,    0.027027,    0.028028,    0.029029,     0.03003,    0.031031,    0.032032,    0.033033,    0.034034,    0.035035,    0.036036,    0.037037,    0.038038,    0.039039,     0.04004,    0.041041,    0.042042,    0.043043,    0.044044,    0.045045,    0.046046,    0.047047,\n",
       "          0.048048,    0.049049,     0.05005,    0.051051,    0.052052,    0.053053,    0.054054,    0.055055,    0.056056,    0.057057,    0.058058,    0.059059,     0.06006,    0.061061,    0.062062,    0.063063,    0.064064,    0.065065,    0.066066,    0.067067,    0.068068,    0.069069,     0.07007,    0.071071,\n",
       "          0.072072,    0.073073,    0.074074,    0.075075,    0.076076,    0.077077,    0.078078,    0.079079,     0.08008,    0.081081,    0.082082,    0.083083,    0.084084,    0.085085,    0.086086,    0.087087,    0.088088,    0.089089,     0.09009,    0.091091,    0.092092,    0.093093,    0.094094,    0.095095,\n",
       "          0.096096,    0.097097,    0.098098,    0.099099,      0.1001,      0.1011,      0.1021,      0.1031,      0.1041,     0.10511,     0.10611,     0.10711,     0.10811,     0.10911,     0.11011,     0.11111,     0.11211,     0.11311,     0.11411,     0.11512,     0.11612,     0.11712,     0.11812,     0.11912,\n",
       "           0.12012,     0.12112,     0.12212,     0.12312,     0.12412,     0.12513,     0.12613,     0.12713,     0.12813,     0.12913,     0.13013,     0.13113,     0.13213,     0.13313,     0.13413,     0.13514,     0.13614,     0.13714,     0.13814,     0.13914,     0.14014,     0.14114,     0.14214,     0.14314,\n",
       "           0.14414,     0.14515,     0.14615,     0.14715,     0.14815,     0.14915,     0.15015,     0.15115,     0.15215,     0.15315,     0.15415,     0.15516,     0.15616,     0.15716,     0.15816,     0.15916,     0.16016,     0.16116,     0.16216,     0.16316,     0.16416,     0.16517,     0.16617,     0.16717,\n",
       "           0.16817,     0.16917,     0.17017,     0.17117,     0.17217,     0.17317,     0.17417,     0.17518,     0.17618,     0.17718,     0.17818,     0.17918,     0.18018,     0.18118,     0.18218,     0.18318,     0.18418,     0.18519,     0.18619,     0.18719,     0.18819,     0.18919,     0.19019,     0.19119,\n",
       "           0.19219,     0.19319,     0.19419,      0.1952,      0.1962,      0.1972,      0.1982,      0.1992,      0.2002,      0.2012,      0.2022,      0.2032,      0.2042,     0.20521,     0.20621,     0.20721,     0.20821,     0.20921,     0.21021,     0.21121,     0.21221,     0.21321,     0.21421,     0.21522,\n",
       "           0.21622,     0.21722,     0.21822,     0.21922,     0.22022,     0.22122,     0.22222,     0.22322,     0.22422,     0.22523,     0.22623,     0.22723,     0.22823,     0.22923,     0.23023,     0.23123,     0.23223,     0.23323,     0.23423,     0.23524,     0.23624,     0.23724,     0.23824,     0.23924,\n",
       "           0.24024,     0.24124,     0.24224,     0.24324,     0.24424,     0.24525,     0.24625,     0.24725,     0.24825,     0.24925,     0.25025,     0.25125,     0.25225,     0.25325,     0.25425,     0.25526,     0.25626,     0.25726,     0.25826,     0.25926,     0.26026,     0.26126,     0.26226,     0.26326,\n",
       "           0.26426,     0.26527,     0.26627,     0.26727,     0.26827,     0.26927,     0.27027,     0.27127,     0.27227,     0.27327,     0.27427,     0.27528,     0.27628,     0.27728,     0.27828,     0.27928,     0.28028,     0.28128,     0.28228,     0.28328,     0.28428,     0.28529,     0.28629,     0.28729,\n",
       "           0.28829,     0.28929,     0.29029,     0.29129,     0.29229,     0.29329,     0.29429,      0.2953,      0.2963,      0.2973,      0.2983,      0.2993,      0.3003,      0.3013,      0.3023,      0.3033,      0.3043,     0.30531,     0.30631,     0.30731,     0.30831,     0.30931,     0.31031,     0.31131,\n",
       "           0.31231,     0.31331,     0.31431,     0.31532,     0.31632,     0.31732,     0.31832,     0.31932,     0.32032,     0.32132,     0.32232,     0.32332,     0.32432,     0.32533,     0.32633,     0.32733,     0.32833,     0.32933,     0.33033,     0.33133,     0.33233,     0.33333,     0.33433,     0.33534,\n",
       "           0.33634,     0.33734,     0.33834,     0.33934,     0.34034,     0.34134,     0.34234,     0.34334,     0.34434,     0.34535,     0.34635,     0.34735,     0.34835,     0.34935,     0.35035,     0.35135,     0.35235,     0.35335,     0.35435,     0.35536,     0.35636,     0.35736,     0.35836,     0.35936,\n",
       "           0.36036,     0.36136,     0.36236,     0.36336,     0.36436,     0.36537,     0.36637,     0.36737,     0.36837,     0.36937,     0.37037,     0.37137,     0.37237,     0.37337,     0.37437,     0.37538,     0.37638,     0.37738,     0.37838,     0.37938,     0.38038,     0.38138,     0.38238,     0.38338,\n",
       "           0.38438,     0.38539,     0.38639,     0.38739,     0.38839,     0.38939,     0.39039,     0.39139,     0.39239,     0.39339,     0.39439,      0.3954,      0.3964,      0.3974,      0.3984,      0.3994,      0.4004,      0.4014,      0.4024,      0.4034,      0.4044,     0.40541,     0.40641,     0.40741,\n",
       "           0.40841,     0.40941,     0.41041,     0.41141,     0.41241,     0.41341,     0.41441,     0.41542,     0.41642,     0.41742,     0.41842,     0.41942,     0.42042,     0.42142,     0.42242,     0.42342,     0.42442,     0.42543,     0.42643,     0.42743,     0.42843,     0.42943,     0.43043,     0.43143,\n",
       "           0.43243,     0.43343,     0.43443,     0.43544,     0.43644,     0.43744,     0.43844,     0.43944,     0.44044,     0.44144,     0.44244,     0.44344,     0.44444,     0.44545,     0.44645,     0.44745,     0.44845,     0.44945,     0.45045,     0.45145,     0.45245,     0.45345,     0.45445,     0.45546,\n",
       "           0.45646,     0.45746,     0.45846,     0.45946,     0.46046,     0.46146,     0.46246,     0.46346,     0.46446,     0.46547,     0.46647,     0.46747,     0.46847,     0.46947,     0.47047,     0.47147,     0.47247,     0.47347,     0.47447,     0.47548,     0.47648,     0.47748,     0.47848,     0.47948,\n",
       "           0.48048,     0.48148,     0.48248,     0.48348,     0.48448,     0.48549,     0.48649,     0.48749,     0.48849,     0.48949,     0.49049,     0.49149,     0.49249,     0.49349,     0.49449,      0.4955,      0.4965,      0.4975,      0.4985,      0.4995,      0.5005,      0.5015,      0.5025,      0.5035,\n",
       "            0.5045,     0.50551,     0.50651,     0.50751,     0.50851,     0.50951,     0.51051,     0.51151,     0.51251,     0.51351,     0.51451,     0.51552,     0.51652,     0.51752,     0.51852,     0.51952,     0.52052,     0.52152,     0.52252,     0.52352,     0.52452,     0.52553,     0.52653,     0.52753,\n",
       "           0.52853,     0.52953,     0.53053,     0.53153,     0.53253,     0.53353,     0.53453,     0.53554,     0.53654,     0.53754,     0.53854,     0.53954,     0.54054,     0.54154,     0.54254,     0.54354,     0.54454,     0.54555,     0.54655,     0.54755,     0.54855,     0.54955,     0.55055,     0.55155,\n",
       "           0.55255,     0.55355,     0.55455,     0.55556,     0.55656,     0.55756,     0.55856,     0.55956,     0.56056,     0.56156,     0.56256,     0.56356,     0.56456,     0.56557,     0.56657,     0.56757,     0.56857,     0.56957,     0.57057,     0.57157,     0.57257,     0.57357,     0.57457,     0.57558,\n",
       "           0.57658,     0.57758,     0.57858,     0.57958,     0.58058,     0.58158,     0.58258,     0.58358,     0.58458,     0.58559,     0.58659,     0.58759,     0.58859,     0.58959,     0.59059,     0.59159,     0.59259,     0.59359,     0.59459,      0.5956,      0.5966,      0.5976,      0.5986,      0.5996,\n",
       "            0.6006,      0.6016,      0.6026,      0.6036,      0.6046,     0.60561,     0.60661,     0.60761,     0.60861,     0.60961,     0.61061,     0.61161,     0.61261,     0.61361,     0.61461,     0.61562,     0.61662,     0.61762,     0.61862,     0.61962,     0.62062,     0.62162,     0.62262,     0.62362,\n",
       "           0.62462,     0.62563,     0.62663,     0.62763,     0.62863,     0.62963,     0.63063,     0.63163,     0.63263,     0.63363,     0.63463,     0.63564,     0.63664,     0.63764,     0.63864,     0.63964,     0.64064,     0.64164,     0.64264,     0.64364,     0.64464,     0.64565,     0.64665,     0.64765,\n",
       "           0.64865,     0.64965,     0.65065,     0.65165,     0.65265,     0.65365,     0.65465,     0.65566,     0.65666,     0.65766,     0.65866,     0.65966,     0.66066,     0.66166,     0.66266,     0.66366,     0.66466,     0.66567,     0.66667,     0.66767,     0.66867,     0.66967,     0.67067,     0.67167,\n",
       "           0.67267,     0.67367,     0.67467,     0.67568,     0.67668,     0.67768,     0.67868,     0.67968,     0.68068,     0.68168,     0.68268,     0.68368,     0.68468,     0.68569,     0.68669,     0.68769,     0.68869,     0.68969,     0.69069,     0.69169,     0.69269,     0.69369,     0.69469,      0.6957,\n",
       "            0.6967,      0.6977,      0.6987,      0.6997,      0.7007,      0.7017,      0.7027,      0.7037,      0.7047,     0.70571,     0.70671,     0.70771,     0.70871,     0.70971,     0.71071,     0.71171,     0.71271,     0.71371,     0.71471,     0.71572,     0.71672,     0.71772,     0.71872,     0.71972,\n",
       "           0.72072,     0.72172,     0.72272,     0.72372,     0.72472,     0.72573,     0.72673,     0.72773,     0.72873,     0.72973,     0.73073,     0.73173,     0.73273,     0.73373,     0.73473,     0.73574,     0.73674,     0.73774,     0.73874,     0.73974,     0.74074,     0.74174,     0.74274,     0.74374,\n",
       "           0.74474,     0.74575,     0.74675,     0.74775,     0.74875,     0.74975,     0.75075,     0.75175,     0.75275,     0.75375,     0.75475,     0.75576,     0.75676,     0.75776,     0.75876,     0.75976,     0.76076,     0.76176,     0.76276,     0.76376,     0.76476,     0.76577,     0.76677,     0.76777,\n",
       "           0.76877,     0.76977,     0.77077,     0.77177,     0.77277,     0.77377,     0.77477,     0.77578,     0.77678,     0.77778,     0.77878,     0.77978,     0.78078,     0.78178,     0.78278,     0.78378,     0.78478,     0.78579,     0.78679,     0.78779,     0.78879,     0.78979,     0.79079,     0.79179,\n",
       "           0.79279,     0.79379,     0.79479,      0.7958,      0.7968,      0.7978,      0.7988,      0.7998,      0.8008,      0.8018,      0.8028,      0.8038,      0.8048,     0.80581,     0.80681,     0.80781,     0.80881,     0.80981,     0.81081,     0.81181,     0.81281,     0.81381,     0.81481,     0.81582,\n",
       "           0.81682,     0.81782,     0.81882,     0.81982,     0.82082,     0.82182,     0.82282,     0.82382,     0.82482,     0.82583,     0.82683,     0.82783,     0.82883,     0.82983,     0.83083,     0.83183,     0.83283,     0.83383,     0.83483,     0.83584,     0.83684,     0.83784,     0.83884,     0.83984,\n",
       "           0.84084,     0.84184,     0.84284,     0.84384,     0.84484,     0.84585,     0.84685,     0.84785,     0.84885,     0.84985,     0.85085,     0.85185,     0.85285,     0.85385,     0.85485,     0.85586,     0.85686,     0.85786,     0.85886,     0.85986,     0.86086,     0.86186,     0.86286,     0.86386,\n",
       "           0.86486,     0.86587,     0.86687,     0.86787,     0.86887,     0.86987,     0.87087,     0.87187,     0.87287,     0.87387,     0.87487,     0.87588,     0.87688,     0.87788,     0.87888,     0.87988,     0.88088,     0.88188,     0.88288,     0.88388,     0.88488,     0.88589,     0.88689,     0.88789,\n",
       "           0.88889,     0.88989,     0.89089,     0.89189,     0.89289,     0.89389,     0.89489,      0.8959,      0.8969,      0.8979,      0.8989,      0.8999,      0.9009,      0.9019,      0.9029,      0.9039,      0.9049,     0.90591,     0.90691,     0.90791,     0.90891,     0.90991,     0.91091,     0.91191,\n",
       "           0.91291,     0.91391,     0.91491,     0.91592,     0.91692,     0.91792,     0.91892,     0.91992,     0.92092,     0.92192,     0.92292,     0.92392,     0.92492,     0.92593,     0.92693,     0.92793,     0.92893,     0.92993,     0.93093,     0.93193,     0.93293,     0.93393,     0.93493,     0.93594,\n",
       "           0.93694,     0.93794,     0.93894,     0.93994,     0.94094,     0.94194,     0.94294,     0.94394,     0.94494,     0.94595,     0.94695,     0.94795,     0.94895,     0.94995,     0.95095,     0.95195,     0.95295,     0.95395,     0.95495,     0.95596,     0.95696,     0.95796,     0.95896,     0.95996,\n",
       "           0.96096,     0.96196,     0.96296,     0.96396,     0.96496,     0.96597,     0.96697,     0.96797,     0.96897,     0.96997,     0.97097,     0.97197,     0.97297,     0.97397,     0.97497,     0.97598,     0.97698,     0.97798,     0.97898,     0.97998,     0.98098,     0.98198,     0.98298,     0.98398,\n",
       "           0.98498,     0.98599,     0.98699,     0.98799,     0.98899,     0.98999,     0.99099,     0.99199,     0.99299,     0.99399,     0.99499,       0.996,       0.997,       0.998,       0.999,           1]), array([[    0.97625,     0.97625,     0.97506,     0.97387,     0.97387,     0.97387,     0.97387,     0.97387,     0.97387,     0.97387,     0.97268,     0.97268,     0.97186,      0.9715,      0.9715,     0.97031,     0.96912,     0.96818,     0.96793,     0.96793,     0.96793,     0.96793,     0.96793,\n",
       "            0.96793,     0.96793,     0.96793,     0.96793,     0.96793,     0.96793,     0.96793,     0.96793,     0.96793,     0.96793,     0.96731,     0.96556,     0.96556,     0.96556,     0.96455,     0.96437,     0.96437,     0.96437,     0.96437,     0.96437,     0.96437,     0.96437,     0.96437,\n",
       "            0.96437,     0.96437,     0.96437,     0.96437,     0.96437,     0.96437,     0.96437,     0.96437,     0.96437,     0.96411,     0.96318,     0.96318,       0.962,       0.962,       0.962,       0.962,       0.962,       0.962,       0.962,       0.962,       0.962,       0.962,       0.962,\n",
       "              0.962,       0.962,     0.96192,     0.96177,     0.96162,     0.96148,     0.96133,     0.96118,     0.96103,     0.96089,     0.96081,     0.95962,     0.95962,     0.95962,     0.95962,     0.95962,     0.95962,     0.95962,     0.95962,     0.95962,     0.95846,     0.95843,     0.95843,\n",
       "            0.95604,     0.95579,     0.95553,     0.95528,     0.95502,     0.95487,     0.95487,     0.95478,     0.95452,     0.95427,     0.95401,     0.95376,     0.95368,     0.95368,     0.95368,     0.95368,     0.95368,     0.95368,     0.95368,     0.95368,     0.95368,     0.95368,     0.95368,\n",
       "            0.95368,     0.95368,     0.95368,     0.95368,     0.95368,     0.95368,     0.95368,     0.95368,     0.95368,     0.95368,     0.95368,     0.95368,     0.95361,     0.95339,     0.95316,     0.95294,     0.95271,     0.95249,     0.95249,     0.95249,     0.95249,     0.95249,     0.95228,\n",
       "            0.95206,     0.95185,     0.95164,     0.95143,     0.95131,     0.95131,     0.95131,     0.95131,     0.95131,     0.95131,     0.95131,     0.95131,     0.95131,     0.95131,     0.95131,     0.95131,     0.95131,     0.95131,      0.9513,     0.95104,     0.95079,     0.95053,     0.95027,\n",
       "            0.95012,     0.95012,     0.95012,     0.95012,     0.95012,     0.95012,     0.95012,     0.95012,     0.95012,     0.95012,     0.95012,     0.95012,     0.95012,     0.95012,     0.95012,     0.95012,     0.95012,     0.95012,     0.95012,     0.95012,     0.95012,     0.95012,     0.95012,\n",
       "            0.95012,     0.95012,     0.95012,     0.95012,     0.95012,     0.95012,     0.95012,     0.95012,     0.95012,     0.95012,     0.95012,     0.95012,     0.95012,     0.95012,     0.95012,     0.95012,     0.95012,     0.95012,     0.95012,     0.95012,     0.95012,     0.95012,     0.95012,\n",
       "            0.95012,     0.95012,     0.95012,     0.95012,     0.95012,     0.95012,     0.95012,     0.95005,     0.94996,     0.94988,     0.94979,     0.94971,     0.94962,     0.94954,     0.94946,     0.94937,     0.94929,      0.9492,     0.94912,     0.94903,     0.94895,     0.94893,     0.94893,\n",
       "            0.94893,     0.94893,     0.94893,     0.94893,     0.94893,     0.94893,     0.94893,     0.94893,     0.94893,     0.94885,     0.94871,     0.94858,     0.94844,      0.9483,     0.94816,     0.94803,     0.94789,     0.94775,     0.94769,     0.94762,     0.94756,      0.9475,     0.94744,\n",
       "            0.94738,     0.94732,     0.94725,     0.94719,     0.94713,     0.94707,     0.94701,     0.94695,     0.94688,     0.94682,     0.94676,      0.9467,     0.94664,     0.94658,     0.94656,     0.94656,     0.94656,     0.94656,     0.94656,     0.94652,     0.94641,     0.94629,     0.94617,\n",
       "            0.94606,     0.94594,     0.94583,     0.94571,     0.94559,     0.94548,     0.94537,     0.94537,     0.94537,     0.94537,     0.94537,     0.94537,     0.94537,     0.94537,     0.94537,     0.94537,     0.94537,     0.94537,     0.94537,     0.94537,     0.94537,     0.94537,     0.94537,\n",
       "            0.94537,     0.94537,     0.94537,     0.94537,     0.94537,     0.94537,     0.94537,     0.94506,     0.94457,     0.94404,     0.94334,     0.94275,     0.94226,      0.9418,     0.94173,     0.94166,     0.94158,     0.94151,     0.94144,     0.94137,     0.94129,     0.94122,     0.94115,\n",
       "            0.94107,       0.941,     0.94093,     0.94086,     0.94078,     0.94071,     0.94064,     0.94062,     0.94062,     0.94062,     0.94054,     0.94027,        0.94,     0.93972,     0.93945,     0.93943,     0.93943,     0.93943,     0.93943,     0.93943,     0.93943,     0.93943,     0.93943,\n",
       "            0.93943,     0.93943,     0.93943,     0.93943,     0.93943,     0.93943,     0.93943,     0.93943,     0.93943,     0.93943,     0.93943,     0.93943,     0.93943,     0.93943,     0.93943,     0.93943,     0.93943,     0.93943,     0.93943,     0.93943,     0.93943,     0.93943,     0.93943,\n",
       "            0.93943,     0.93943,     0.93943,     0.93943,     0.93943,     0.93943,     0.93943,     0.93943,     0.93943,     0.93943,     0.93943,     0.93943,     0.93943,     0.93943,     0.93943,     0.93943,     0.93943,     0.93943,     0.93943,     0.93943,     0.93943,     0.93943,     0.93943,\n",
       "            0.93943,     0.93943,     0.93943,     0.93943,     0.93943,     0.93943,     0.93943,     0.93939,     0.93931,     0.93922,     0.93914,     0.93906,     0.93897,     0.93889,      0.9388,     0.93872,     0.93864,     0.93855,     0.93847,     0.93838,      0.9383,     0.93824,     0.93824,\n",
       "            0.93824,     0.93824,     0.93824,     0.93824,     0.93824,     0.93824,     0.93824,     0.93824,     0.93769,     0.93705,     0.93705,     0.93705,     0.93705,     0.93703,     0.93692,     0.93681,     0.93669,     0.93658,     0.93647,     0.93635,     0.93624,     0.93613,     0.93601,\n",
       "             0.9359,     0.93587,     0.93587,     0.93587,     0.93587,     0.93587,     0.93587,     0.93587,     0.93587,     0.93587,     0.93531,      0.9347,     0.93439,     0.93408,     0.93378,     0.93349,     0.93349,     0.93349,     0.93349,     0.93349,     0.93349,     0.93331,      0.9329,\n",
       "             0.9325,     0.93218,     0.93193,     0.93169,     0.93145,      0.9312,     0.93112,     0.93112,     0.93112,     0.93112,     0.93112,     0.93112,     0.93112,     0.93112,     0.93112,     0.93112,     0.93112,     0.93112,     0.93112,     0.93112,     0.93112,     0.93112,     0.93112,\n",
       "            0.93112,     0.93112,     0.93112,     0.93112,     0.93112,     0.93109,     0.93097,     0.93085,     0.93073,      0.9306,     0.93048,     0.93036,     0.93024,     0.93012,        0.93,     0.92993,     0.92993,     0.92993,     0.92993,     0.92993,     0.92993,     0.92993,     0.92968,\n",
       "            0.92927,     0.92886,     0.92853,     0.92823,     0.92792,     0.92762,     0.92659,     0.92617,     0.92592,     0.92568,     0.92544,     0.92519,     0.92499,     0.92478,     0.92458,     0.92438,     0.92418,     0.92398,     0.92386,     0.92374,     0.92361,     0.92349,     0.92337,\n",
       "            0.92325,     0.92313,     0.92301,     0.92288,      0.9228,      0.9228,      0.9228,      0.9228,      0.9228,      0.9228,     0.92266,     0.92235,     0.92205,     0.92174,     0.92162,     0.92162,     0.92162,     0.92162,     0.92162,     0.92162,     0.92162,     0.92162,     0.92162,\n",
       "            0.92162,     0.92162,     0.92162,     0.92162,     0.92162,     0.92157,     0.92146,     0.92135,     0.92124,     0.92113,     0.92101,      0.9209,     0.92079,     0.92068,     0.92057,     0.92046,        0.92,     0.91939,     0.91805,     0.91805,     0.91805,     0.91805,     0.91805,\n",
       "            0.91805,     0.91805,     0.91805,     0.91805,     0.91805,     0.91805,     0.91805,     0.91805,     0.91805,     0.91805,     0.91648,     0.91588,     0.91554,     0.91534,     0.91513,     0.91493,     0.91473,     0.91453,     0.91399,     0.91338,     0.91319,     0.91306,     0.91293,\n",
       "            0.91281,     0.91268,     0.91255,     0.91242,     0.91229,     0.91217,     0.91211,     0.91211,     0.91209,     0.91207,     0.91204,     0.91201,     0.91198,     0.91195,     0.91192,     0.91189,     0.91186,     0.91183,      0.9118,     0.91177,     0.91174,     0.91171,     0.91168,\n",
       "            0.91165,     0.91162,     0.91159,     0.91156,     0.91153,      0.9115,     0.91147,     0.91144,     0.91141,     0.91138,     0.91135,     0.91132,     0.91129,     0.91126,     0.91123,      0.9112,     0.91117,     0.91114,     0.91111,     0.91109,     0.91106,     0.91103,       0.911,\n",
       "            0.91097,     0.91094,     0.91053,     0.90992,     0.90917,     0.90853,     0.90841,      0.9083,     0.90819,     0.90808,     0.90797,     0.90786,     0.90775,     0.90764,     0.90753,     0.90742,     0.90706,     0.90645,     0.90608,     0.90591,     0.90573,     0.90556,     0.90538,\n",
       "            0.90521,     0.90504,     0.90499,     0.90499,     0.90499,     0.90499,     0.90499,     0.90499,     0.90499,     0.90499,     0.90499,     0.90499,     0.90499,     0.90499,     0.90499,     0.90499,     0.90499,     0.90499,     0.90499,     0.90492,     0.90482,     0.90472,     0.90462,\n",
       "            0.90452,     0.90441,     0.90431,     0.90421,     0.90411,     0.90401,     0.90391,     0.90381,     0.90372,     0.90364,     0.90356,     0.90348,      0.9034,     0.90332,     0.90324,     0.90316,     0.90307,     0.90299,     0.90291,     0.90283,     0.90275,     0.90267,     0.90258,\n",
       "            0.90247,     0.90236,     0.90225,     0.90214,     0.90203,     0.90191,      0.9018,     0.90169,     0.90158,     0.90147,     0.90122,     0.90088,     0.90053,     0.90022,     0.90009,     0.89996,     0.89983,      0.8997,     0.89958,     0.89945,     0.89932,     0.89919,     0.89906,\n",
       "            0.89893,     0.89879,     0.89866,     0.89852,     0.89839,     0.89825,     0.89812,     0.89798,     0.89664,     0.89637,      0.8961,     0.89583,     0.89556,     0.89371,     0.89052,     0.88971,     0.88949,     0.88942,     0.88935,     0.88928,     0.88921,     0.88915,     0.88908,\n",
       "            0.88901,     0.88894,     0.88887,      0.8888,     0.88873,     0.88866,     0.88859,     0.88852,     0.88845,     0.88838,     0.88777,     0.88707,     0.88666,     0.88626,     0.88582,     0.88534,     0.88485,     0.88407,     0.88326,     0.88245,     0.88124,     0.88005,     0.88005,\n",
       "             0.8788,     0.87799,     0.87619,      0.8757,     0.87516,     0.87435,     0.87271,      0.8724,      0.8721,     0.87179,     0.87076,     0.86869,     0.86562,     0.86513,     0.86465,     0.86386,     0.86167,     0.86065,     0.85985,     0.85936,     0.85887,     0.85796,     0.85719,\n",
       "             0.8567,     0.85497,     0.85416,     0.85306,     0.85014,     0.84983,     0.84953,     0.84922,     0.84698,     0.84492,     0.84395,     0.84273,     0.83931,      0.8385,     0.83789,     0.83609,     0.83528,     0.83424,     0.83302,     0.83205,     0.83118,     0.82878,     0.82526,\n",
       "            0.82445,     0.82334,     0.82094,     0.81853,     0.81764,      0.8155,      0.8131,     0.81188,     0.81066,     0.80844,     0.80762,     0.80642,     0.80283,     0.80161,      0.7992,     0.79686,     0.79625,     0.79561,      0.7948,     0.79371,     0.79292,     0.79231,     0.79125,\n",
       "            0.79003,     0.78406,     0.78166,     0.78044,     0.77803,     0.77563,     0.77204,     0.76607,      0.7601,     0.75173,     0.74757,     0.74398,     0.74276,     0.73798,     0.72964,     0.72842,     0.72364,     0.71589,     0.71111,     0.70752,     0.70392,     0.69876,     0.69139,\n",
       "            0.68543,     0.67589,     0.66696,     0.66099,     0.65565,     0.64608,     0.62705,     0.62103,     0.61333,     0.60855,     0.59843,     0.58754,     0.57877,     0.56924,     0.54368,     0.53385,     0.52402,     0.49608,     0.48023,     0.46811,     0.45146,     0.43302,     0.41942,\n",
       "             0.3902,     0.37655,     0.35392,     0.31886,     0.29567,     0.27655,     0.24454,     0.24318,     0.21241,     0.19555,     0.17851,     0.14793,     0.12797,      0.1098,    0.095846,    0.084744,     0.06687,    0.061909,    0.048936,    0.041065,    0.036941,    0.021442,    0.017223,\n",
       "           0.011255,   0.0090673,   0.0082268,   0.0070094,   0.0058408,   0.0050292,   0.0034258,   0.0026143,   0.0021606,   0.0018562,   0.0015519,   0.0012475,           0,           0,           0,           0,           0,           0,           0,           0,           0,           0,           0,\n",
       "                  0,           0,           0,           0,           0,           0,           0,           0,           0,           0,           0,           0,           0,           0,           0,           0,           0,           0,           0,           0,           0,           0,           0,\n",
       "                  0,           0,           0,           0,           0,           0,           0,           0,           0,           0,           0,           0,           0,           0,           0,           0,           0,           0,           0,           0,           0,           0,           0,\n",
       "                  0,           0,           0,           0,           0,           0,           0,           0,           0,           0,           0]]), 'Confidence', 'Recall'], [array([          0,    0.001001,    0.002002,    0.003003,    0.004004,    0.005005,    0.006006,    0.007007,    0.008008,    0.009009,     0.01001,    0.011011,    0.012012,    0.013013,    0.014014,    0.015015,    0.016016,    0.017017,    0.018018,    0.019019,     0.02002,    0.021021,    0.022022,    0.023023,\n",
       "          0.024024,    0.025025,    0.026026,    0.027027,    0.028028,    0.029029,     0.03003,    0.031031,    0.032032,    0.033033,    0.034034,    0.035035,    0.036036,    0.037037,    0.038038,    0.039039,     0.04004,    0.041041,    0.042042,    0.043043,    0.044044,    0.045045,    0.046046,    0.047047,\n",
       "          0.048048,    0.049049,     0.05005,    0.051051,    0.052052,    0.053053,    0.054054,    0.055055,    0.056056,    0.057057,    0.058058,    0.059059,     0.06006,    0.061061,    0.062062,    0.063063,    0.064064,    0.065065,    0.066066,    0.067067,    0.068068,    0.069069,     0.07007,    0.071071,\n",
       "          0.072072,    0.073073,    0.074074,    0.075075,    0.076076,    0.077077,    0.078078,    0.079079,     0.08008,    0.081081,    0.082082,    0.083083,    0.084084,    0.085085,    0.086086,    0.087087,    0.088088,    0.089089,     0.09009,    0.091091,    0.092092,    0.093093,    0.094094,    0.095095,\n",
       "          0.096096,    0.097097,    0.098098,    0.099099,      0.1001,      0.1011,      0.1021,      0.1031,      0.1041,     0.10511,     0.10611,     0.10711,     0.10811,     0.10911,     0.11011,     0.11111,     0.11211,     0.11311,     0.11411,     0.11512,     0.11612,     0.11712,     0.11812,     0.11912,\n",
       "           0.12012,     0.12112,     0.12212,     0.12312,     0.12412,     0.12513,     0.12613,     0.12713,     0.12813,     0.12913,     0.13013,     0.13113,     0.13213,     0.13313,     0.13413,     0.13514,     0.13614,     0.13714,     0.13814,     0.13914,     0.14014,     0.14114,     0.14214,     0.14314,\n",
       "           0.14414,     0.14515,     0.14615,     0.14715,     0.14815,     0.14915,     0.15015,     0.15115,     0.15215,     0.15315,     0.15415,     0.15516,     0.15616,     0.15716,     0.15816,     0.15916,     0.16016,     0.16116,     0.16216,     0.16316,     0.16416,     0.16517,     0.16617,     0.16717,\n",
       "           0.16817,     0.16917,     0.17017,     0.17117,     0.17217,     0.17317,     0.17417,     0.17518,     0.17618,     0.17718,     0.17818,     0.17918,     0.18018,     0.18118,     0.18218,     0.18318,     0.18418,     0.18519,     0.18619,     0.18719,     0.18819,     0.18919,     0.19019,     0.19119,\n",
       "           0.19219,     0.19319,     0.19419,      0.1952,      0.1962,      0.1972,      0.1982,      0.1992,      0.2002,      0.2012,      0.2022,      0.2032,      0.2042,     0.20521,     0.20621,     0.20721,     0.20821,     0.20921,     0.21021,     0.21121,     0.21221,     0.21321,     0.21421,     0.21522,\n",
       "           0.21622,     0.21722,     0.21822,     0.21922,     0.22022,     0.22122,     0.22222,     0.22322,     0.22422,     0.22523,     0.22623,     0.22723,     0.22823,     0.22923,     0.23023,     0.23123,     0.23223,     0.23323,     0.23423,     0.23524,     0.23624,     0.23724,     0.23824,     0.23924,\n",
       "           0.24024,     0.24124,     0.24224,     0.24324,     0.24424,     0.24525,     0.24625,     0.24725,     0.24825,     0.24925,     0.25025,     0.25125,     0.25225,     0.25325,     0.25425,     0.25526,     0.25626,     0.25726,     0.25826,     0.25926,     0.26026,     0.26126,     0.26226,     0.26326,\n",
       "           0.26426,     0.26527,     0.26627,     0.26727,     0.26827,     0.26927,     0.27027,     0.27127,     0.27227,     0.27327,     0.27427,     0.27528,     0.27628,     0.27728,     0.27828,     0.27928,     0.28028,     0.28128,     0.28228,     0.28328,     0.28428,     0.28529,     0.28629,     0.28729,\n",
       "           0.28829,     0.28929,     0.29029,     0.29129,     0.29229,     0.29329,     0.29429,      0.2953,      0.2963,      0.2973,      0.2983,      0.2993,      0.3003,      0.3013,      0.3023,      0.3033,      0.3043,     0.30531,     0.30631,     0.30731,     0.30831,     0.30931,     0.31031,     0.31131,\n",
       "           0.31231,     0.31331,     0.31431,     0.31532,     0.31632,     0.31732,     0.31832,     0.31932,     0.32032,     0.32132,     0.32232,     0.32332,     0.32432,     0.32533,     0.32633,     0.32733,     0.32833,     0.32933,     0.33033,     0.33133,     0.33233,     0.33333,     0.33433,     0.33534,\n",
       "           0.33634,     0.33734,     0.33834,     0.33934,     0.34034,     0.34134,     0.34234,     0.34334,     0.34434,     0.34535,     0.34635,     0.34735,     0.34835,     0.34935,     0.35035,     0.35135,     0.35235,     0.35335,     0.35435,     0.35536,     0.35636,     0.35736,     0.35836,     0.35936,\n",
       "           0.36036,     0.36136,     0.36236,     0.36336,     0.36436,     0.36537,     0.36637,     0.36737,     0.36837,     0.36937,     0.37037,     0.37137,     0.37237,     0.37337,     0.37437,     0.37538,     0.37638,     0.37738,     0.37838,     0.37938,     0.38038,     0.38138,     0.38238,     0.38338,\n",
       "           0.38438,     0.38539,     0.38639,     0.38739,     0.38839,     0.38939,     0.39039,     0.39139,     0.39239,     0.39339,     0.39439,      0.3954,      0.3964,      0.3974,      0.3984,      0.3994,      0.4004,      0.4014,      0.4024,      0.4034,      0.4044,     0.40541,     0.40641,     0.40741,\n",
       "           0.40841,     0.40941,     0.41041,     0.41141,     0.41241,     0.41341,     0.41441,     0.41542,     0.41642,     0.41742,     0.41842,     0.41942,     0.42042,     0.42142,     0.42242,     0.42342,     0.42442,     0.42543,     0.42643,     0.42743,     0.42843,     0.42943,     0.43043,     0.43143,\n",
       "           0.43243,     0.43343,     0.43443,     0.43544,     0.43644,     0.43744,     0.43844,     0.43944,     0.44044,     0.44144,     0.44244,     0.44344,     0.44444,     0.44545,     0.44645,     0.44745,     0.44845,     0.44945,     0.45045,     0.45145,     0.45245,     0.45345,     0.45445,     0.45546,\n",
       "           0.45646,     0.45746,     0.45846,     0.45946,     0.46046,     0.46146,     0.46246,     0.46346,     0.46446,     0.46547,     0.46647,     0.46747,     0.46847,     0.46947,     0.47047,     0.47147,     0.47247,     0.47347,     0.47447,     0.47548,     0.47648,     0.47748,     0.47848,     0.47948,\n",
       "           0.48048,     0.48148,     0.48248,     0.48348,     0.48448,     0.48549,     0.48649,     0.48749,     0.48849,     0.48949,     0.49049,     0.49149,     0.49249,     0.49349,     0.49449,      0.4955,      0.4965,      0.4975,      0.4985,      0.4995,      0.5005,      0.5015,      0.5025,      0.5035,\n",
       "            0.5045,     0.50551,     0.50651,     0.50751,     0.50851,     0.50951,     0.51051,     0.51151,     0.51251,     0.51351,     0.51451,     0.51552,     0.51652,     0.51752,     0.51852,     0.51952,     0.52052,     0.52152,     0.52252,     0.52352,     0.52452,     0.52553,     0.52653,     0.52753,\n",
       "           0.52853,     0.52953,     0.53053,     0.53153,     0.53253,     0.53353,     0.53453,     0.53554,     0.53654,     0.53754,     0.53854,     0.53954,     0.54054,     0.54154,     0.54254,     0.54354,     0.54454,     0.54555,     0.54655,     0.54755,     0.54855,     0.54955,     0.55055,     0.55155,\n",
       "           0.55255,     0.55355,     0.55455,     0.55556,     0.55656,     0.55756,     0.55856,     0.55956,     0.56056,     0.56156,     0.56256,     0.56356,     0.56456,     0.56557,     0.56657,     0.56757,     0.56857,     0.56957,     0.57057,     0.57157,     0.57257,     0.57357,     0.57457,     0.57558,\n",
       "           0.57658,     0.57758,     0.57858,     0.57958,     0.58058,     0.58158,     0.58258,     0.58358,     0.58458,     0.58559,     0.58659,     0.58759,     0.58859,     0.58959,     0.59059,     0.59159,     0.59259,     0.59359,     0.59459,      0.5956,      0.5966,      0.5976,      0.5986,      0.5996,\n",
       "            0.6006,      0.6016,      0.6026,      0.6036,      0.6046,     0.60561,     0.60661,     0.60761,     0.60861,     0.60961,     0.61061,     0.61161,     0.61261,     0.61361,     0.61461,     0.61562,     0.61662,     0.61762,     0.61862,     0.61962,     0.62062,     0.62162,     0.62262,     0.62362,\n",
       "           0.62462,     0.62563,     0.62663,     0.62763,     0.62863,     0.62963,     0.63063,     0.63163,     0.63263,     0.63363,     0.63463,     0.63564,     0.63664,     0.63764,     0.63864,     0.63964,     0.64064,     0.64164,     0.64264,     0.64364,     0.64464,     0.64565,     0.64665,     0.64765,\n",
       "           0.64865,     0.64965,     0.65065,     0.65165,     0.65265,     0.65365,     0.65465,     0.65566,     0.65666,     0.65766,     0.65866,     0.65966,     0.66066,     0.66166,     0.66266,     0.66366,     0.66466,     0.66567,     0.66667,     0.66767,     0.66867,     0.66967,     0.67067,     0.67167,\n",
       "           0.67267,     0.67367,     0.67467,     0.67568,     0.67668,     0.67768,     0.67868,     0.67968,     0.68068,     0.68168,     0.68268,     0.68368,     0.68468,     0.68569,     0.68669,     0.68769,     0.68869,     0.68969,     0.69069,     0.69169,     0.69269,     0.69369,     0.69469,      0.6957,\n",
       "            0.6967,      0.6977,      0.6987,      0.6997,      0.7007,      0.7017,      0.7027,      0.7037,      0.7047,     0.70571,     0.70671,     0.70771,     0.70871,     0.70971,     0.71071,     0.71171,     0.71271,     0.71371,     0.71471,     0.71572,     0.71672,     0.71772,     0.71872,     0.71972,\n",
       "           0.72072,     0.72172,     0.72272,     0.72372,     0.72472,     0.72573,     0.72673,     0.72773,     0.72873,     0.72973,     0.73073,     0.73173,     0.73273,     0.73373,     0.73473,     0.73574,     0.73674,     0.73774,     0.73874,     0.73974,     0.74074,     0.74174,     0.74274,     0.74374,\n",
       "           0.74474,     0.74575,     0.74675,     0.74775,     0.74875,     0.74975,     0.75075,     0.75175,     0.75275,     0.75375,     0.75475,     0.75576,     0.75676,     0.75776,     0.75876,     0.75976,     0.76076,     0.76176,     0.76276,     0.76376,     0.76476,     0.76577,     0.76677,     0.76777,\n",
       "           0.76877,     0.76977,     0.77077,     0.77177,     0.77277,     0.77377,     0.77477,     0.77578,     0.77678,     0.77778,     0.77878,     0.77978,     0.78078,     0.78178,     0.78278,     0.78378,     0.78478,     0.78579,     0.78679,     0.78779,     0.78879,     0.78979,     0.79079,     0.79179,\n",
       "           0.79279,     0.79379,     0.79479,      0.7958,      0.7968,      0.7978,      0.7988,      0.7998,      0.8008,      0.8018,      0.8028,      0.8038,      0.8048,     0.80581,     0.80681,     0.80781,     0.80881,     0.80981,     0.81081,     0.81181,     0.81281,     0.81381,     0.81481,     0.81582,\n",
       "           0.81682,     0.81782,     0.81882,     0.81982,     0.82082,     0.82182,     0.82282,     0.82382,     0.82482,     0.82583,     0.82683,     0.82783,     0.82883,     0.82983,     0.83083,     0.83183,     0.83283,     0.83383,     0.83483,     0.83584,     0.83684,     0.83784,     0.83884,     0.83984,\n",
       "           0.84084,     0.84184,     0.84284,     0.84384,     0.84484,     0.84585,     0.84685,     0.84785,     0.84885,     0.84985,     0.85085,     0.85185,     0.85285,     0.85385,     0.85485,     0.85586,     0.85686,     0.85786,     0.85886,     0.85986,     0.86086,     0.86186,     0.86286,     0.86386,\n",
       "           0.86486,     0.86587,     0.86687,     0.86787,     0.86887,     0.86987,     0.87087,     0.87187,     0.87287,     0.87387,     0.87487,     0.87588,     0.87688,     0.87788,     0.87888,     0.87988,     0.88088,     0.88188,     0.88288,     0.88388,     0.88488,     0.88589,     0.88689,     0.88789,\n",
       "           0.88889,     0.88989,     0.89089,     0.89189,     0.89289,     0.89389,     0.89489,      0.8959,      0.8969,      0.8979,      0.8989,      0.8999,      0.9009,      0.9019,      0.9029,      0.9039,      0.9049,     0.90591,     0.90691,     0.90791,     0.90891,     0.90991,     0.91091,     0.91191,\n",
       "           0.91291,     0.91391,     0.91491,     0.91592,     0.91692,     0.91792,     0.91892,     0.91992,     0.92092,     0.92192,     0.92292,     0.92392,     0.92492,     0.92593,     0.92693,     0.92793,     0.92893,     0.92993,     0.93093,     0.93193,     0.93293,     0.93393,     0.93493,     0.93594,\n",
       "           0.93694,     0.93794,     0.93894,     0.93994,     0.94094,     0.94194,     0.94294,     0.94394,     0.94494,     0.94595,     0.94695,     0.94795,     0.94895,     0.94995,     0.95095,     0.95195,     0.95295,     0.95395,     0.95495,     0.95596,     0.95696,     0.95796,     0.95896,     0.95996,\n",
       "           0.96096,     0.96196,     0.96296,     0.96396,     0.96496,     0.96597,     0.96697,     0.96797,     0.96897,     0.96997,     0.97097,     0.97197,     0.97297,     0.97397,     0.97497,     0.97598,     0.97698,     0.97798,     0.97898,     0.97998,     0.98098,     0.98198,     0.98298,     0.98398,\n",
       "           0.98498,     0.98599,     0.98699,     0.98799,     0.98899,     0.98999,     0.99099,     0.99199,     0.99299,     0.99399,     0.99499,       0.996,       0.997,       0.998,       0.999,           1]), array([[          1,           1,           1,           1,           1,           1,           1,           1,           1,           1,           1,           1,           1,           1,           1,           1,           1,           1,           1,           1,           1,           1,           1,\n",
       "                  1,           1,           1,           1,           1,           1,           1,           1,           1,           1,           1,           1,           1,           1,           1,           1,           1,           1,           1,           1,           1,           1,           1,\n",
       "                  1,           1,           1,           1,           1,           1,           1,           1,           1,           1,           1,           1,           1,           1,           1,           1,           1,           1,           1,           1,           1,           1,           1,\n",
       "                  1,           1,           1,           1,           1,           1,           1,           1,           1,           1,           1,           1,           1,           1,           1,           1,           1,           1,           1,           1,           1,           1,           1,\n",
       "                  1,           1,           1,           1,           1,           1,           1,           1,           1,           1,           1,           1,           1,           1,           1,           1,           1,           1,           1,           1,           1,           1,           1,\n",
       "                  1,           1,           1,           1,           1,           1,           1,           1,           1,           1,           1,           1,           1,           1,           1,           1,           1,           1,           1,           1,           1,           1,           1,\n",
       "                  1,           1,           1,           1,           1,           1,           1,           1,           1,           1,           1,           1,           1,           1,           1,           1,           1,           1,           1,           1,           1,           1,           1,\n",
       "                  1,           1,           1,           1,           1,           1,           1,           1,           1,           1,           1,           1,           1,           1,           1,           1,           1,           1,           1,           1,           1,           1,           1,\n",
       "                  1,           1,           1,           1,           1,           1,           1,           1,           1,           1,           1,           1,           1,           1,           1,           1,           1,           1,           1,           1,           1,           1,           1,\n",
       "                  1,           1,           1,           1,           1,           1,           1,           1,           1,           1,           1,           1,           1,           1,           1,           1,           1,           1,           1,           1,           1,           1,           1,\n",
       "                  1,           1,           1,           1,           1,           1,           1,           1,           1,           1,           1,           1,           1,           1,           1,           1,           1,           1,           1,           1,           1,           1,           1,\n",
       "                  1,           1,           1,           1,           1,           1,           1,           1,           1,           1,           1,           1,           1,           1,           1,           1,           1,           1,           1,           1,           1,           1,           1,\n",
       "                  1,           1,           1,           1,           1,           1,           1,           1,           1,           1,           1,           1,           1,           1,           1,           1,           1,           1,           1,           1,           1,           1,           1,\n",
       "                  1,           1,           1,           1,           1,           1,           1,           1,           1,           1,           1,           1,           1,           1,           1,           1,           1,           1,           1,           1,           1,           1,           1,\n",
       "                  1,           1,           1,           1,           1,           1,           1,           1,           1,           1,           1,      0.9986,      0.9986,      0.9986,      0.9986,      0.9986,      0.9986,      0.9986,      0.9986,      0.9986,      0.9986,      0.9986,      0.9986,\n",
       "             0.9986,      0.9986,      0.9986,      0.9986,      0.9986,      0.9986,      0.9986,      0.9986,      0.9986,      0.9986,      0.9986,      0.9986,      0.9986,      0.9986,      0.9986,      0.9986,      0.9986,      0.9986,      0.9986,      0.9986,      0.9986,      0.9986,      0.9986,\n",
       "             0.9986,      0.9986,      0.9986,      0.9986,      0.9986,      0.9986,      0.9986,      0.9986,      0.9986,      0.9986,      0.9986,      0.9986,      0.9986,      0.9986,      0.9986,      0.9986,      0.9986,      0.9986,      0.9986,      0.9986,      0.9986,      0.9986,      0.9986,\n",
       "             0.9986,      0.9986,      0.9986,      0.9986,      0.9986,      0.9986,      0.9986,      0.9986,      0.9986,      0.9986,      0.9986,      0.9986,      0.9986,      0.9986,      0.9986,      0.9986,      0.9986,      0.9986,      0.9986,      0.9986,      0.9986,      0.9986,      0.9986,\n",
       "             0.9986,      0.9986,      0.9986,      0.9986,      0.9986,      0.9986,      0.9986,      0.9986,      0.9986,      0.9986,      0.9986,      0.9986,      0.9986,      0.9986,      0.9986,      0.9986,      0.9986,      0.9986,      0.9986,      0.9986,      0.9986,      0.9986,      0.9986,\n",
       "             0.9986,      0.9986,      0.9986,      0.9986,      0.9986,      0.9986,      0.9986,      0.9986,      0.9986,      0.9986,      0.9986,      0.9986,      0.9986,      0.9986,      0.9986,      0.9986,      0.9986,      0.9986,      0.9986,      0.9986,      0.9986,      0.9986,      0.9986,\n",
       "             0.9986,      0.9986,      0.9986,      0.9986,      0.9986,      0.9986,      0.9986,      0.9986,      0.9986,      0.9986,      0.9986,      0.9986,      0.9986,      0.9986,      0.9986,      0.9986,      0.9986,      0.9986,      0.9986,      0.9986,      0.9986,      0.9986,      0.9986,\n",
       "             0.9986,      0.9986,      0.9986,      0.9986,      0.9986,      0.9986,      0.9986,      0.9986,      0.9986,      0.9986,      0.9986,      0.9986,      0.9986,      0.9986,      0.9986,      0.9986,      0.9986,      0.9986,      0.9986,      0.9986,      0.9986,      0.9986,      0.9986,\n",
       "             0.9986,      0.9986,      0.9986,      0.9986,      0.9986,      0.9986,      0.9986,      0.9986,      0.9986,      0.9986,      0.9986,      0.9986,      0.9986,      0.9986,      0.9986,      0.9986,      0.9986,      0.9986,      0.9986,      0.9986,      0.9986,      0.9986,      0.9986,\n",
       "             0.9986,      0.9986,      0.9986,      0.9986,      0.9986,      0.9986,      0.9986,      0.9986,      0.9986,      0.9986,      0.9986,      0.9986,      0.9986,      0.9986,      0.9986,      0.9986,      0.9986,      0.9986,      0.9986,      0.9986,      0.9986,      0.9986,      0.9986,\n",
       "             0.9986,      0.9986,      0.9986,      0.9986,      0.9986,      0.9986,      0.9986,      0.9986,      0.9986,      0.9986,      0.9986,      0.9986,      0.9986,      0.9986,      0.9986,      0.9986,      0.9986,      0.9986,      0.9986,      0.9986,      0.9986,      0.9986,      0.9986,\n",
       "             0.9986,      0.9986,      0.9986,      0.9986,      0.9986,      0.9986,      0.9986,      0.9986,      0.9986,      0.9986,      0.9986,      0.9986,      0.9986,      0.9986,      0.9986,      0.9986,      0.9986,      0.9986,      0.9986,      0.9986,      0.9986,      0.9986,      0.9986,\n",
       "             0.9986,      0.9986,      0.9986,      0.9986,      0.9986,      0.9986,      0.9986,      0.9986,      0.9986,      0.9986,      0.9986,      0.9986,      0.9986,      0.9986,      0.9986,      0.9986,      0.9986,      0.9986,      0.9986,      0.9986,      0.9986,      0.9986,      0.9986,\n",
       "             0.9986,      0.9986,      0.9986,      0.9986,      0.9986,      0.9986,      0.9986,      0.9986,      0.9986,      0.9986,      0.9986,      0.9986,      0.9986,      0.9986,      0.9986,      0.9986,      0.9986,      0.9986,      0.9986,      0.9986,      0.9986,      0.9986,      0.9986,\n",
       "             0.9986,      0.9986,      0.9986,      0.9986,      0.9986,      0.9986,      0.9986,      0.9986,      0.9986,      0.9986,      0.9986,      0.9986,      0.9986,      0.9986,      0.9986,      0.9986,      0.9986,      0.9986,      0.9986,      0.9986,      0.9986,      0.9986,      0.9986,\n",
       "             0.9986,      0.9986,      0.9986,      0.9986,      0.9986,      0.9986,      0.9986,      0.9986,      0.9986,      0.9986,      0.9986,      0.9986,      0.9986,      0.9986,      0.9986,      0.9986,      0.9986,      0.9986,      0.9986,      0.9986,      0.9986,      0.9986,      0.9986,\n",
       "             0.9986,      0.9986,      0.9986,      0.9986,      0.9986,      0.9986,      0.9986,      0.9986,      0.9986,      0.9986,      0.9986,      0.9986,      0.9986,      0.9986,      0.9986,      0.9986,      0.9986,      0.9986,      0.9986,      0.9986,      0.9986,      0.9986,      0.9986,\n",
       "             0.9986,      0.9986,      0.9986,      0.9986,      0.9986,      0.9986,      0.9986,      0.9986,      0.9986,      0.9986,      0.9986,      0.9986,      0.9986,      0.9986,      0.9986,      0.9986,      0.9986,      0.9986,      0.9986,      0.9986,      0.9986,      0.9986,      0.9986,\n",
       "             0.9986,      0.9986,      0.9986,      0.9986,      0.9986,      0.9986,      0.9986,      0.9986,      0.9986,      0.9986,      0.9986,      0.9986,      0.9986,      0.9986,      0.9986,      0.9986,      0.9986,      0.9986,      0.9986,      0.9986,      0.9986,      0.9986,      0.9986,\n",
       "             0.9986,      0.9986,      0.9986,      0.9986,      0.9986,      0.9986,      0.9986,      0.9986,      0.9986,      0.9986,      0.9986,      0.9986,      0.9986,      0.9986,      0.9986,      0.9986,      0.9986,      0.9986,      0.9986,      0.9986,      0.9986,      0.9986,      0.9986,\n",
       "             0.9986,      0.9986,      0.9986,      0.9986,      0.9986,      0.9986,      0.9986,      0.9986,      0.9986,      0.9986,      0.9986,      0.9986,      0.9986,      0.9986,      0.9986,      0.9986,      0.9986,      0.9986,      0.9986,      0.9986,      0.9986,      0.9986,      0.9986,\n",
       "             0.9986,      0.9986,      0.9986,      0.9986,      0.9986,      0.9986,      0.9986,      0.9986,      0.9986,      0.9986,      0.9986,      0.9986,      0.9986,      0.9986,      0.9986,      0.9986,      0.9986,      0.9986,      0.9986,      0.9986,      0.9986,      0.9986,      0.9986,\n",
       "             0.9986,      0.9986,      0.9986,      0.9986,      0.9986,      0.9986,      0.9986,      0.9986,      0.9986,      0.9986,      0.9986,      0.9986,      0.9986,      0.9986,      0.9986,      0.9986,      0.9986,      0.9986,      0.9986,      0.9986,      0.9986,     0.99732,     0.99732,\n",
       "            0.99732,     0.99732,     0.99732,     0.99732,     0.99732,     0.99732,     0.99732,     0.99732,     0.99732,     0.99732,     0.99732,     0.99732,     0.99732,     0.99732,     0.99732,     0.99732,     0.99732,     0.99732,     0.99732,     0.99732,     0.99732,     0.99732,     0.99732,\n",
       "            0.99732,     0.99732,     0.99732,     0.99732,     0.99732,     0.99732,     0.99732,     0.99732,     0.99606,     0.99606,     0.99606,     0.99606,     0.99606,     0.99606,     0.99606,     0.99606,     0.99606,     0.99606,     0.99606,     0.99606,     0.99606,     0.99606,     0.99606,\n",
       "            0.99606,     0.99606,     0.99606,     0.99478,     0.99478,     0.99478,     0.99478,     0.99478,     0.99478,     0.99354,     0.99354,     0.99354,     0.99354,     0.99354,     0.99354,     0.99354,     0.99231,     0.99231,     0.99231,     0.99231,     0.99231,     0.99231,     0.98978,\n",
       "            0.98855,     0.98855,     0.98606,     0.98606,     0.98246,     0.98246,     0.98246,     0.98246,     0.98246,     0.98246,     0.98246,     0.98125,     0.97886,     0.97886,     0.97649,     0.97649,     0.97649,     0.97537,     0.97537,     0.97537,      0.9742,     0.97066,     0.97066,\n",
       "            0.96962,     0.96962,     0.96962,     0.96962,     0.96381,      0.9627,      0.9627,     0.95928,     0.94799,     0.94471,     0.94256,     0.94152,     0.94152,     0.93395,     0.93303,     0.93303,     0.93203,     0.93103,     0.93103,      0.9258,     0.92063,     0.91348,     0.91153,\n",
       "            0.90667,     0.90667,     0.90667,     0.89978,      0.8901,     0.88636,     0.87983,     0.87433,     0.87433,     0.84308,     0.82218,     0.79231,      0.7783,     0.75327,     0.71561,     0.67794,     0.64028,     0.60262,     0.56495,     0.52729,     0.48963,     0.45196,      0.4143,\n",
       "            0.37664,     0.33897,     0.30131,     0.26365,     0.22598,     0.18832,     0.15065,     0.11299,    0.075327,    0.037664,           0]]), 'Recall', 'Precision'], [array([          0,    0.001001,    0.002002,    0.003003,    0.004004,    0.005005,    0.006006,    0.007007,    0.008008,    0.009009,     0.01001,    0.011011,    0.012012,    0.013013,    0.014014,    0.015015,    0.016016,    0.017017,    0.018018,    0.019019,     0.02002,    0.021021,    0.022022,    0.023023,\n",
       "          0.024024,    0.025025,    0.026026,    0.027027,    0.028028,    0.029029,     0.03003,    0.031031,    0.032032,    0.033033,    0.034034,    0.035035,    0.036036,    0.037037,    0.038038,    0.039039,     0.04004,    0.041041,    0.042042,    0.043043,    0.044044,    0.045045,    0.046046,    0.047047,\n",
       "          0.048048,    0.049049,     0.05005,    0.051051,    0.052052,    0.053053,    0.054054,    0.055055,    0.056056,    0.057057,    0.058058,    0.059059,     0.06006,    0.061061,    0.062062,    0.063063,    0.064064,    0.065065,    0.066066,    0.067067,    0.068068,    0.069069,     0.07007,    0.071071,\n",
       "          0.072072,    0.073073,    0.074074,    0.075075,    0.076076,    0.077077,    0.078078,    0.079079,     0.08008,    0.081081,    0.082082,    0.083083,    0.084084,    0.085085,    0.086086,    0.087087,    0.088088,    0.089089,     0.09009,    0.091091,    0.092092,    0.093093,    0.094094,    0.095095,\n",
       "          0.096096,    0.097097,    0.098098,    0.099099,      0.1001,      0.1011,      0.1021,      0.1031,      0.1041,     0.10511,     0.10611,     0.10711,     0.10811,     0.10911,     0.11011,     0.11111,     0.11211,     0.11311,     0.11411,     0.11512,     0.11612,     0.11712,     0.11812,     0.11912,\n",
       "           0.12012,     0.12112,     0.12212,     0.12312,     0.12412,     0.12513,     0.12613,     0.12713,     0.12813,     0.12913,     0.13013,     0.13113,     0.13213,     0.13313,     0.13413,     0.13514,     0.13614,     0.13714,     0.13814,     0.13914,     0.14014,     0.14114,     0.14214,     0.14314,\n",
       "           0.14414,     0.14515,     0.14615,     0.14715,     0.14815,     0.14915,     0.15015,     0.15115,     0.15215,     0.15315,     0.15415,     0.15516,     0.15616,     0.15716,     0.15816,     0.15916,     0.16016,     0.16116,     0.16216,     0.16316,     0.16416,     0.16517,     0.16617,     0.16717,\n",
       "           0.16817,     0.16917,     0.17017,     0.17117,     0.17217,     0.17317,     0.17417,     0.17518,     0.17618,     0.17718,     0.17818,     0.17918,     0.18018,     0.18118,     0.18218,     0.18318,     0.18418,     0.18519,     0.18619,     0.18719,     0.18819,     0.18919,     0.19019,     0.19119,\n",
       "           0.19219,     0.19319,     0.19419,      0.1952,      0.1962,      0.1972,      0.1982,      0.1992,      0.2002,      0.2012,      0.2022,      0.2032,      0.2042,     0.20521,     0.20621,     0.20721,     0.20821,     0.20921,     0.21021,     0.21121,     0.21221,     0.21321,     0.21421,     0.21522,\n",
       "           0.21622,     0.21722,     0.21822,     0.21922,     0.22022,     0.22122,     0.22222,     0.22322,     0.22422,     0.22523,     0.22623,     0.22723,     0.22823,     0.22923,     0.23023,     0.23123,     0.23223,     0.23323,     0.23423,     0.23524,     0.23624,     0.23724,     0.23824,     0.23924,\n",
       "           0.24024,     0.24124,     0.24224,     0.24324,     0.24424,     0.24525,     0.24625,     0.24725,     0.24825,     0.24925,     0.25025,     0.25125,     0.25225,     0.25325,     0.25425,     0.25526,     0.25626,     0.25726,     0.25826,     0.25926,     0.26026,     0.26126,     0.26226,     0.26326,\n",
       "           0.26426,     0.26527,     0.26627,     0.26727,     0.26827,     0.26927,     0.27027,     0.27127,     0.27227,     0.27327,     0.27427,     0.27528,     0.27628,     0.27728,     0.27828,     0.27928,     0.28028,     0.28128,     0.28228,     0.28328,     0.28428,     0.28529,     0.28629,     0.28729,\n",
       "           0.28829,     0.28929,     0.29029,     0.29129,     0.29229,     0.29329,     0.29429,      0.2953,      0.2963,      0.2973,      0.2983,      0.2993,      0.3003,      0.3013,      0.3023,      0.3033,      0.3043,     0.30531,     0.30631,     0.30731,     0.30831,     0.30931,     0.31031,     0.31131,\n",
       "           0.31231,     0.31331,     0.31431,     0.31532,     0.31632,     0.31732,     0.31832,     0.31932,     0.32032,     0.32132,     0.32232,     0.32332,     0.32432,     0.32533,     0.32633,     0.32733,     0.32833,     0.32933,     0.33033,     0.33133,     0.33233,     0.33333,     0.33433,     0.33534,\n",
       "           0.33634,     0.33734,     0.33834,     0.33934,     0.34034,     0.34134,     0.34234,     0.34334,     0.34434,     0.34535,     0.34635,     0.34735,     0.34835,     0.34935,     0.35035,     0.35135,     0.35235,     0.35335,     0.35435,     0.35536,     0.35636,     0.35736,     0.35836,     0.35936,\n",
       "           0.36036,     0.36136,     0.36236,     0.36336,     0.36436,     0.36537,     0.36637,     0.36737,     0.36837,     0.36937,     0.37037,     0.37137,     0.37237,     0.37337,     0.37437,     0.37538,     0.37638,     0.37738,     0.37838,     0.37938,     0.38038,     0.38138,     0.38238,     0.38338,\n",
       "           0.38438,     0.38539,     0.38639,     0.38739,     0.38839,     0.38939,     0.39039,     0.39139,     0.39239,     0.39339,     0.39439,      0.3954,      0.3964,      0.3974,      0.3984,      0.3994,      0.4004,      0.4014,      0.4024,      0.4034,      0.4044,     0.40541,     0.40641,     0.40741,\n",
       "           0.40841,     0.40941,     0.41041,     0.41141,     0.41241,     0.41341,     0.41441,     0.41542,     0.41642,     0.41742,     0.41842,     0.41942,     0.42042,     0.42142,     0.42242,     0.42342,     0.42442,     0.42543,     0.42643,     0.42743,     0.42843,     0.42943,     0.43043,     0.43143,\n",
       "           0.43243,     0.43343,     0.43443,     0.43544,     0.43644,     0.43744,     0.43844,     0.43944,     0.44044,     0.44144,     0.44244,     0.44344,     0.44444,     0.44545,     0.44645,     0.44745,     0.44845,     0.44945,     0.45045,     0.45145,     0.45245,     0.45345,     0.45445,     0.45546,\n",
       "           0.45646,     0.45746,     0.45846,     0.45946,     0.46046,     0.46146,     0.46246,     0.46346,     0.46446,     0.46547,     0.46647,     0.46747,     0.46847,     0.46947,     0.47047,     0.47147,     0.47247,     0.47347,     0.47447,     0.47548,     0.47648,     0.47748,     0.47848,     0.47948,\n",
       "           0.48048,     0.48148,     0.48248,     0.48348,     0.48448,     0.48549,     0.48649,     0.48749,     0.48849,     0.48949,     0.49049,     0.49149,     0.49249,     0.49349,     0.49449,      0.4955,      0.4965,      0.4975,      0.4985,      0.4995,      0.5005,      0.5015,      0.5025,      0.5035,\n",
       "            0.5045,     0.50551,     0.50651,     0.50751,     0.50851,     0.50951,     0.51051,     0.51151,     0.51251,     0.51351,     0.51451,     0.51552,     0.51652,     0.51752,     0.51852,     0.51952,     0.52052,     0.52152,     0.52252,     0.52352,     0.52452,     0.52553,     0.52653,     0.52753,\n",
       "           0.52853,     0.52953,     0.53053,     0.53153,     0.53253,     0.53353,     0.53453,     0.53554,     0.53654,     0.53754,     0.53854,     0.53954,     0.54054,     0.54154,     0.54254,     0.54354,     0.54454,     0.54555,     0.54655,     0.54755,     0.54855,     0.54955,     0.55055,     0.55155,\n",
       "           0.55255,     0.55355,     0.55455,     0.55556,     0.55656,     0.55756,     0.55856,     0.55956,     0.56056,     0.56156,     0.56256,     0.56356,     0.56456,     0.56557,     0.56657,     0.56757,     0.56857,     0.56957,     0.57057,     0.57157,     0.57257,     0.57357,     0.57457,     0.57558,\n",
       "           0.57658,     0.57758,     0.57858,     0.57958,     0.58058,     0.58158,     0.58258,     0.58358,     0.58458,     0.58559,     0.58659,     0.58759,     0.58859,     0.58959,     0.59059,     0.59159,     0.59259,     0.59359,     0.59459,      0.5956,      0.5966,      0.5976,      0.5986,      0.5996,\n",
       "            0.6006,      0.6016,      0.6026,      0.6036,      0.6046,     0.60561,     0.60661,     0.60761,     0.60861,     0.60961,     0.61061,     0.61161,     0.61261,     0.61361,     0.61461,     0.61562,     0.61662,     0.61762,     0.61862,     0.61962,     0.62062,     0.62162,     0.62262,     0.62362,\n",
       "           0.62462,     0.62563,     0.62663,     0.62763,     0.62863,     0.62963,     0.63063,     0.63163,     0.63263,     0.63363,     0.63463,     0.63564,     0.63664,     0.63764,     0.63864,     0.63964,     0.64064,     0.64164,     0.64264,     0.64364,     0.64464,     0.64565,     0.64665,     0.64765,\n",
       "           0.64865,     0.64965,     0.65065,     0.65165,     0.65265,     0.65365,     0.65465,     0.65566,     0.65666,     0.65766,     0.65866,     0.65966,     0.66066,     0.66166,     0.66266,     0.66366,     0.66466,     0.66567,     0.66667,     0.66767,     0.66867,     0.66967,     0.67067,     0.67167,\n",
       "           0.67267,     0.67367,     0.67467,     0.67568,     0.67668,     0.67768,     0.67868,     0.67968,     0.68068,     0.68168,     0.68268,     0.68368,     0.68468,     0.68569,     0.68669,     0.68769,     0.68869,     0.68969,     0.69069,     0.69169,     0.69269,     0.69369,     0.69469,      0.6957,\n",
       "            0.6967,      0.6977,      0.6987,      0.6997,      0.7007,      0.7017,      0.7027,      0.7037,      0.7047,     0.70571,     0.70671,     0.70771,     0.70871,     0.70971,     0.71071,     0.71171,     0.71271,     0.71371,     0.71471,     0.71572,     0.71672,     0.71772,     0.71872,     0.71972,\n",
       "           0.72072,     0.72172,     0.72272,     0.72372,     0.72472,     0.72573,     0.72673,     0.72773,     0.72873,     0.72973,     0.73073,     0.73173,     0.73273,     0.73373,     0.73473,     0.73574,     0.73674,     0.73774,     0.73874,     0.73974,     0.74074,     0.74174,     0.74274,     0.74374,\n",
       "           0.74474,     0.74575,     0.74675,     0.74775,     0.74875,     0.74975,     0.75075,     0.75175,     0.75275,     0.75375,     0.75475,     0.75576,     0.75676,     0.75776,     0.75876,     0.75976,     0.76076,     0.76176,     0.76276,     0.76376,     0.76476,     0.76577,     0.76677,     0.76777,\n",
       "           0.76877,     0.76977,     0.77077,     0.77177,     0.77277,     0.77377,     0.77477,     0.77578,     0.77678,     0.77778,     0.77878,     0.77978,     0.78078,     0.78178,     0.78278,     0.78378,     0.78478,     0.78579,     0.78679,     0.78779,     0.78879,     0.78979,     0.79079,     0.79179,\n",
       "           0.79279,     0.79379,     0.79479,      0.7958,      0.7968,      0.7978,      0.7988,      0.7998,      0.8008,      0.8018,      0.8028,      0.8038,      0.8048,     0.80581,     0.80681,     0.80781,     0.80881,     0.80981,     0.81081,     0.81181,     0.81281,     0.81381,     0.81481,     0.81582,\n",
       "           0.81682,     0.81782,     0.81882,     0.81982,     0.82082,     0.82182,     0.82282,     0.82382,     0.82482,     0.82583,     0.82683,     0.82783,     0.82883,     0.82983,     0.83083,     0.83183,     0.83283,     0.83383,     0.83483,     0.83584,     0.83684,     0.83784,     0.83884,     0.83984,\n",
       "           0.84084,     0.84184,     0.84284,     0.84384,     0.84484,     0.84585,     0.84685,     0.84785,     0.84885,     0.84985,     0.85085,     0.85185,     0.85285,     0.85385,     0.85485,     0.85586,     0.85686,     0.85786,     0.85886,     0.85986,     0.86086,     0.86186,     0.86286,     0.86386,\n",
       "           0.86486,     0.86587,     0.86687,     0.86787,     0.86887,     0.86987,     0.87087,     0.87187,     0.87287,     0.87387,     0.87487,     0.87588,     0.87688,     0.87788,     0.87888,     0.87988,     0.88088,     0.88188,     0.88288,     0.88388,     0.88488,     0.88589,     0.88689,     0.88789,\n",
       "           0.88889,     0.88989,     0.89089,     0.89189,     0.89289,     0.89389,     0.89489,      0.8959,      0.8969,      0.8979,      0.8989,      0.8999,      0.9009,      0.9019,      0.9029,      0.9039,      0.9049,     0.90591,     0.90691,     0.90791,     0.90891,     0.90991,     0.91091,     0.91191,\n",
       "           0.91291,     0.91391,     0.91491,     0.91592,     0.91692,     0.91792,     0.91892,     0.91992,     0.92092,     0.92192,     0.92292,     0.92392,     0.92492,     0.92593,     0.92693,     0.92793,     0.92893,     0.92993,     0.93093,     0.93193,     0.93293,     0.93393,     0.93493,     0.93594,\n",
       "           0.93694,     0.93794,     0.93894,     0.93994,     0.94094,     0.94194,     0.94294,     0.94394,     0.94494,     0.94595,     0.94695,     0.94795,     0.94895,     0.94995,     0.95095,     0.95195,     0.95295,     0.95395,     0.95495,     0.95596,     0.95696,     0.95796,     0.95896,     0.95996,\n",
       "           0.96096,     0.96196,     0.96296,     0.96396,     0.96496,     0.96597,     0.96697,     0.96797,     0.96897,     0.96997,     0.97097,     0.97197,     0.97297,     0.97397,     0.97497,     0.97598,     0.97698,     0.97798,     0.97898,     0.97998,     0.98098,     0.98198,     0.98298,     0.98398,\n",
       "           0.98498,     0.98599,     0.98699,     0.98799,     0.98899,     0.98999,     0.99099,     0.99199,     0.99299,     0.99399,     0.99499,       0.996,       0.997,       0.998,       0.999,           1]), array([[    0.85581,     0.85581,     0.88161,      0.8964,     0.90429,     0.90578,     0.91147,     0.91578,     0.91947,     0.92152,      0.9225,     0.92324,     0.92404,     0.92526,     0.92745,     0.92875,     0.92872,     0.92988,     0.93075,     0.93196,     0.93235,      0.9326,     0.93276,\n",
       "             0.9329,     0.93304,     0.93319,     0.93362,     0.93328,     0.93371,     0.93452,       0.935,     0.93558,      0.9361,     0.93654,     0.93579,     0.93686,     0.93763,     0.93781,     0.93787,     0.93804,      0.9382,     0.93875,     0.93837,     0.93877,     0.93905,      0.9393,\n",
       "            0.93944,     0.93958,     0.93973,     0.94026,     0.94045,     0.94054,     0.94064,     0.94074,     0.94083,     0.94102,     0.94148,     0.94176,     0.94141,     0.94164,     0.94187,     0.94205,     0.94221,     0.94237,     0.94276,     0.94309,     0.94319,     0.94328,     0.94338,\n",
       "            0.94348,     0.94357,     0.94408,     0.94401,     0.94393,     0.94385,     0.94378,      0.9437,     0.94362,     0.94355,     0.94381,     0.94461,      0.9448,     0.94498,     0.94519,     0.94567,     0.94584,     0.94597,     0.94611,     0.94625,     0.94566,     0.94589,     0.94613,\n",
       "            0.94551,     0.94538,     0.94524,     0.94511,     0.94498,     0.94501,     0.94528,     0.94541,     0.94528,     0.94514,     0.94501,     0.94487,     0.94497,     0.94516,     0.94535,     0.94551,     0.94565,      0.9458,     0.94595,     0.94686,     0.94737,     0.94768,     0.94788,\n",
       "            0.94809,     0.94858,     0.94859,      0.9484,     0.94821,     0.94822,     0.94845,     0.94867,     0.94817,     0.94868,     0.94886,     0.94904,     0.94914,     0.94902,      0.9489,     0.94878,     0.94866,     0.94856,      0.9487,     0.94884,     0.94898,     0.94912,     0.94922,\n",
       "            0.94932,     0.94942,     0.94952,     0.94962,     0.94969,     0.94973,     0.94977,     0.94981,     0.94985,     0.94989,     0.94993,     0.94996,        0.95,     0.95004,     0.95008,     0.95012,     0.95016,      0.9502,     0.95023,      0.9501,     0.94996,     0.94983,      0.9497,\n",
       "            0.94967,      0.9498,     0.94993,     0.95006,     0.95021,     0.95047,     0.95072,     0.95081,     0.95087,     0.95094,     0.95101,     0.95108,     0.95115,     0.95121,     0.95128,     0.95136,     0.95145,     0.95154,     0.95163,     0.95172,     0.95181,     0.95249,     0.95265,\n",
       "            0.95282,     0.95298,     0.95304,     0.95308,     0.95312,     0.95315,     0.95319,     0.95323,     0.95327,     0.95331,     0.95335,     0.95339,     0.95343,     0.95346,      0.9535,     0.95354,     0.95365,     0.95396,     0.95417,     0.95424,     0.95431,     0.95437,     0.95444,\n",
       "            0.95451,     0.95458,     0.95465,     0.95473,      0.9549,     0.95508,     0.95525,     0.95524,      0.9552,     0.95515,     0.95511,     0.95506,     0.95502,     0.95497,     0.95493,     0.95488,     0.95484,      0.9548,     0.95475,     0.95471,     0.95466,     0.95471,     0.95479,\n",
       "            0.95486,     0.95494,     0.95501,     0.95509,     0.95516,     0.95524,     0.95541,     0.95557,     0.95573,     0.95583,      0.9559,     0.95597,     0.95603,      0.9561,     0.95616,     0.95623,      0.9563,     0.95636,     0.95634,      0.9563,     0.95627,     0.95624,     0.95621,\n",
       "            0.95617,     0.95614,     0.95611,     0.95608,     0.95604,     0.95601,     0.95598,     0.95595,     0.95591,     0.95588,     0.95585,     0.95582,     0.95578,     0.95575,     0.95581,     0.95592,     0.95603,     0.95613,     0.95624,      0.9563,     0.95623,     0.95617,     0.95611,\n",
       "            0.95605,     0.95599,     0.95593,     0.95587,     0.95581,     0.95575,     0.95571,      0.9561,     0.95661,      0.9569,       0.957,      0.9571,      0.9572,     0.95731,     0.95741,      0.9578,     0.95801,     0.95805,     0.95809,     0.95813,     0.95817,     0.95821,     0.95825,\n",
       "             0.9583,     0.95834,     0.95838,     0.95842,     0.95846,      0.9585,     0.95854,     0.95839,     0.95814,     0.95786,     0.95749,     0.95718,     0.95692,     0.95668,     0.95664,      0.9566,     0.95656,     0.95652,     0.95648,     0.95645,     0.95641,     0.95637,     0.95633,\n",
       "            0.95629,     0.95625,     0.95622,     0.95618,     0.95614,      0.9561,     0.95606,     0.95617,     0.95634,     0.95651,     0.95658,     0.95644,      0.9563,     0.95615,     0.95601,     0.95602,     0.95605,     0.95608,     0.95611,     0.95614,     0.95617,     0.95619,     0.95622,\n",
       "            0.95625,     0.95628,     0.95631,     0.95634,     0.95637,     0.95639,     0.95642,     0.95645,     0.95648,     0.95651,     0.95654,     0.95656,     0.95672,     0.95693,     0.95715,     0.95717,     0.95718,      0.9572,     0.95721,     0.95723,     0.95724,     0.95726,     0.95727,\n",
       "            0.95729,      0.9573,     0.95732,     0.95733,     0.95735,     0.95736,     0.95738,     0.95739,     0.95741,     0.95742,     0.95744,     0.95745,     0.95747,     0.95748,      0.9575,     0.95751,     0.95753,     0.95754,     0.95756,     0.95757,     0.95759,      0.9576,     0.95762,\n",
       "            0.95763,     0.95765,     0.95766,     0.95768,     0.95769,     0.95771,     0.95772,     0.95771,     0.95767,     0.95762,     0.95758,     0.95753,     0.95749,     0.95744,      0.9574,     0.95735,     0.95731,     0.95726,     0.95722,     0.95718,     0.95713,     0.95712,     0.95718,\n",
       "            0.95724,      0.9573,     0.95736,     0.95742,     0.95748,     0.95754,      0.9576,     0.95767,     0.95739,     0.95703,     0.95687,     0.95671,     0.95655,     0.95641,     0.95635,     0.95629,     0.95622,     0.95616,      0.9561,     0.95604,     0.95598,     0.95592,     0.95586,\n",
       "             0.9558,     0.95583,      0.9559,     0.95596,     0.95603,     0.95609,     0.95616,     0.95623,     0.95629,     0.95636,     0.95607,     0.95574,     0.95557,     0.95541,     0.95525,     0.95511,     0.95541,     0.95569,     0.95585,     0.95601,     0.95617,     0.95616,     0.95594,\n",
       "            0.95573,     0.95555,     0.95542,     0.95529,     0.95516,     0.95503,     0.95502,     0.95507,     0.95512,     0.95517,     0.95522,     0.95527,     0.95532,     0.95537,     0.95542,     0.95547,     0.95552,     0.95557,     0.95562,     0.95567,     0.95573,     0.95578,     0.95584,\n",
       "            0.95589,     0.95595,       0.956,     0.95605,     0.95611,     0.95614,     0.95607,     0.95601,     0.95594,     0.95588,     0.95581,     0.95575,     0.95568,     0.95562,     0.95555,     0.95555,     0.95564,     0.95572,     0.95581,     0.95589,     0.95598,     0.95607,     0.95596,\n",
       "            0.95574,     0.95553,     0.95535,     0.95518,     0.95502,     0.95486,      0.9543,     0.95408,     0.95395,     0.95382,     0.95368,     0.95355,     0.95344,     0.95333,     0.95322,     0.95311,     0.95301,      0.9529,     0.95283,     0.95277,      0.9527,     0.95264,     0.95257,\n",
       "            0.95251,     0.95244,     0.95237,     0.95231,     0.95236,     0.95266,     0.95349,     0.95364,     0.95379,     0.95394,     0.95394,     0.95377,     0.95361,     0.95344,     0.95355,     0.95385,     0.95399,     0.95404,     0.95409,     0.95413,     0.95418,     0.95423,     0.95428,\n",
       "            0.95433,     0.95437,     0.95442,     0.95447,     0.95452,     0.95452,     0.95446,      0.9544,     0.95434,     0.95428,     0.95422,     0.95416,      0.9541,     0.95404,     0.95398,     0.95392,     0.95367,     0.95334,     0.95328,     0.95338,     0.95348,     0.95358,     0.95368,\n",
       "            0.95378,     0.95385,     0.95391,     0.95397,     0.95404,      0.9541,     0.95416,     0.95423,     0.95429,     0.95435,     0.95353,     0.95319,     0.95301,      0.9529,     0.95279,     0.95268,     0.95257,     0.95246,     0.95217,     0.95184,     0.95173,     0.95166,     0.95159,\n",
       "            0.95152,     0.95145,     0.95138,     0.95131,     0.95124,     0.95117,     0.95133,     0.95163,     0.95172,     0.95171,     0.95169,     0.95167,     0.95166,     0.95164,     0.95162,     0.95161,     0.95159,     0.95158,     0.95156,     0.95154,     0.95153,     0.95151,      0.9515,\n",
       "            0.95148,     0.95146,     0.95145,     0.95143,     0.95141,      0.9514,     0.95138,     0.95137,     0.95135,     0.95133,     0.95132,      0.9513,     0.95128,     0.95127,     0.95125,     0.95124,     0.95122,      0.9512,     0.95119,     0.95117,     0.95115,     0.95114,     0.95112,\n",
       "            0.95111,     0.95109,     0.95087,     0.95053,     0.95012,     0.94977,     0.94971,     0.94965,     0.94959,     0.94953,     0.94947,      0.9494,     0.94934,     0.94928,     0.94922,     0.94916,     0.94896,     0.94863,     0.94843,     0.94833,     0.94824,     0.94814,     0.94804,\n",
       "            0.94795,     0.94785,     0.94785,     0.94789,     0.94792,     0.94795,     0.94799,     0.94802,     0.94806,     0.94809,     0.94813,     0.94816,      0.9482,     0.94823,     0.94827,      0.9483,     0.94833,     0.94837,      0.9484,     0.94838,     0.94832,     0.94827,     0.94821,\n",
       "            0.94816,      0.9481,     0.94804,     0.94799,     0.94793,     0.94788,     0.94782,     0.94776,     0.94772,     0.94767,     0.94763,     0.94758,     0.94754,      0.9475,     0.94745,     0.94741,     0.94736,     0.94732,     0.94727,     0.94723,     0.94718,     0.94714,     0.94709,\n",
       "            0.94703,     0.94697,      0.9469,     0.94684,     0.94678,     0.94672,     0.94666,      0.9466,     0.94654,     0.94648,     0.94634,     0.94615,     0.94596,     0.94578,     0.94571,     0.94564,     0.94557,      0.9455,     0.94543,     0.94536,     0.94529,     0.94522,     0.94514,\n",
       "            0.94566,     0.94558,     0.94551,     0.94543,     0.94536,     0.94528,     0.94521,     0.94513,     0.94439,     0.94424,     0.94409,     0.94394,     0.94379,     0.94276,     0.94098,     0.94053,     0.94041,     0.94037,     0.94033,     0.94029,     0.94025,     0.94021,     0.94017,\n",
       "            0.94014,      0.9401,     0.94006,     0.94002,     0.93998,     0.93994,      0.9399,     0.93986,     0.93982,     0.93978,     0.93944,     0.93905,     0.93882,     0.93859,     0.93835,     0.93808,      0.9378,     0.93737,     0.93691,     0.93645,     0.93577,     0.93546,     0.93523,\n",
       "            0.93431,     0.93385,     0.93283,     0.93255,     0.93224,     0.93178,     0.93085,     0.93067,      0.9305,     0.93033,     0.92974,     0.92855,     0.92679,     0.92651,     0.92623,     0.92578,     0.92452,     0.92393,     0.92346,     0.92318,      0.9229,     0.92237,     0.92192,\n",
       "            0.92164,     0.92064,     0.92017,     0.91953,     0.91782,     0.91764,     0.91746,     0.91729,     0.91726,     0.91605,     0.91548,     0.91476,     0.91275,     0.91227,     0.91191,     0.91084,     0.91036,     0.90975,     0.90902,     0.90845,     0.90793,     0.90649,     0.90439,\n",
       "             0.9039,     0.90324,     0.90179,     0.90034,      0.8998,     0.89851,     0.89705,     0.89631,     0.89557,     0.89348,     0.89299,     0.89225,     0.89004,     0.88929,     0.88781,     0.88636,     0.88598,     0.88559,     0.88508,     0.88441,     0.88392,     0.88354,     0.88287,\n",
       "            0.88211,     0.87838,     0.87686,      0.8761,     0.87458,     0.87305,     0.87077,     0.86696,     0.86312,     0.85769,     0.85497,     0.85262,     0.85181,     0.84866,     0.84311,     0.84229,     0.83909,     0.83385,     0.83059,     0.82813,     0.82566,      0.8221,     0.81697,\n",
       "            0.81278,     0.80604,     0.79964,     0.79533,     0.79145,     0.78443,     0.77022,     0.76565,     0.75977,     0.75609,     0.74822,     0.73963,     0.73264,     0.72495,     0.70385,     0.69556,     0.68715,     0.66265,     0.64834,     0.63719,     0.62157,     0.60385,     0.59048,\n",
       "            0.56088,     0.54662,     0.52235,     0.48354,     0.45639,     0.43328,     0.39298,     0.39122,      0.3504,     0.32713,     0.30294,     0.25773,     0.22691,     0.19788,     0.17493,     0.15625,     0.12536,      0.1166,    0.093306,    0.078891,    0.071249,    0.041984,    0.033863,\n",
       "            0.02226,    0.017972,    0.016319,    0.013921,    0.011614,    0.010008,   0.0068283,   0.0052149,   0.0043118,   0.0037056,   0.0030989,    0.002492,           0,           0,           0,           0,           0,           0,           0,           0,           0,           0,           0,\n",
       "                  0,           0,           0,           0,           0,           0,           0,           0,           0,           0,           0,           0,           0,           0,           0,           0,           0,           0,           0,           0,           0,           0,           0,\n",
       "                  0,           0,           0,           0,           0,           0,           0,           0,           0,           0,           0,           0,           0,           0,           0,           0,           0,           0,           0,           0,           0,           0,           0,\n",
       "                  0,           0,           0,           0,           0,           0,           0,           0,           0,           0,           0]]), 'Confidence', 'F1'], [array([          0,    0.001001,    0.002002,    0.003003,    0.004004,    0.005005,    0.006006,    0.007007,    0.008008,    0.009009,     0.01001,    0.011011,    0.012012,    0.013013,    0.014014,    0.015015,    0.016016,    0.017017,    0.018018,    0.019019,     0.02002,    0.021021,    0.022022,    0.023023,\n",
       "          0.024024,    0.025025,    0.026026,    0.027027,    0.028028,    0.029029,     0.03003,    0.031031,    0.032032,    0.033033,    0.034034,    0.035035,    0.036036,    0.037037,    0.038038,    0.039039,     0.04004,    0.041041,    0.042042,    0.043043,    0.044044,    0.045045,    0.046046,    0.047047,\n",
       "          0.048048,    0.049049,     0.05005,    0.051051,    0.052052,    0.053053,    0.054054,    0.055055,    0.056056,    0.057057,    0.058058,    0.059059,     0.06006,    0.061061,    0.062062,    0.063063,    0.064064,    0.065065,    0.066066,    0.067067,    0.068068,    0.069069,     0.07007,    0.071071,\n",
       "          0.072072,    0.073073,    0.074074,    0.075075,    0.076076,    0.077077,    0.078078,    0.079079,     0.08008,    0.081081,    0.082082,    0.083083,    0.084084,    0.085085,    0.086086,    0.087087,    0.088088,    0.089089,     0.09009,    0.091091,    0.092092,    0.093093,    0.094094,    0.095095,\n",
       "          0.096096,    0.097097,    0.098098,    0.099099,      0.1001,      0.1011,      0.1021,      0.1031,      0.1041,     0.10511,     0.10611,     0.10711,     0.10811,     0.10911,     0.11011,     0.11111,     0.11211,     0.11311,     0.11411,     0.11512,     0.11612,     0.11712,     0.11812,     0.11912,\n",
       "           0.12012,     0.12112,     0.12212,     0.12312,     0.12412,     0.12513,     0.12613,     0.12713,     0.12813,     0.12913,     0.13013,     0.13113,     0.13213,     0.13313,     0.13413,     0.13514,     0.13614,     0.13714,     0.13814,     0.13914,     0.14014,     0.14114,     0.14214,     0.14314,\n",
       "           0.14414,     0.14515,     0.14615,     0.14715,     0.14815,     0.14915,     0.15015,     0.15115,     0.15215,     0.15315,     0.15415,     0.15516,     0.15616,     0.15716,     0.15816,     0.15916,     0.16016,     0.16116,     0.16216,     0.16316,     0.16416,     0.16517,     0.16617,     0.16717,\n",
       "           0.16817,     0.16917,     0.17017,     0.17117,     0.17217,     0.17317,     0.17417,     0.17518,     0.17618,     0.17718,     0.17818,     0.17918,     0.18018,     0.18118,     0.18218,     0.18318,     0.18418,     0.18519,     0.18619,     0.18719,     0.18819,     0.18919,     0.19019,     0.19119,\n",
       "           0.19219,     0.19319,     0.19419,      0.1952,      0.1962,      0.1972,      0.1982,      0.1992,      0.2002,      0.2012,      0.2022,      0.2032,      0.2042,     0.20521,     0.20621,     0.20721,     0.20821,     0.20921,     0.21021,     0.21121,     0.21221,     0.21321,     0.21421,     0.21522,\n",
       "           0.21622,     0.21722,     0.21822,     0.21922,     0.22022,     0.22122,     0.22222,     0.22322,     0.22422,     0.22523,     0.22623,     0.22723,     0.22823,     0.22923,     0.23023,     0.23123,     0.23223,     0.23323,     0.23423,     0.23524,     0.23624,     0.23724,     0.23824,     0.23924,\n",
       "           0.24024,     0.24124,     0.24224,     0.24324,     0.24424,     0.24525,     0.24625,     0.24725,     0.24825,     0.24925,     0.25025,     0.25125,     0.25225,     0.25325,     0.25425,     0.25526,     0.25626,     0.25726,     0.25826,     0.25926,     0.26026,     0.26126,     0.26226,     0.26326,\n",
       "           0.26426,     0.26527,     0.26627,     0.26727,     0.26827,     0.26927,     0.27027,     0.27127,     0.27227,     0.27327,     0.27427,     0.27528,     0.27628,     0.27728,     0.27828,     0.27928,     0.28028,     0.28128,     0.28228,     0.28328,     0.28428,     0.28529,     0.28629,     0.28729,\n",
       "           0.28829,     0.28929,     0.29029,     0.29129,     0.29229,     0.29329,     0.29429,      0.2953,      0.2963,      0.2973,      0.2983,      0.2993,      0.3003,      0.3013,      0.3023,      0.3033,      0.3043,     0.30531,     0.30631,     0.30731,     0.30831,     0.30931,     0.31031,     0.31131,\n",
       "           0.31231,     0.31331,     0.31431,     0.31532,     0.31632,     0.31732,     0.31832,     0.31932,     0.32032,     0.32132,     0.32232,     0.32332,     0.32432,     0.32533,     0.32633,     0.32733,     0.32833,     0.32933,     0.33033,     0.33133,     0.33233,     0.33333,     0.33433,     0.33534,\n",
       "           0.33634,     0.33734,     0.33834,     0.33934,     0.34034,     0.34134,     0.34234,     0.34334,     0.34434,     0.34535,     0.34635,     0.34735,     0.34835,     0.34935,     0.35035,     0.35135,     0.35235,     0.35335,     0.35435,     0.35536,     0.35636,     0.35736,     0.35836,     0.35936,\n",
       "           0.36036,     0.36136,     0.36236,     0.36336,     0.36436,     0.36537,     0.36637,     0.36737,     0.36837,     0.36937,     0.37037,     0.37137,     0.37237,     0.37337,     0.37437,     0.37538,     0.37638,     0.37738,     0.37838,     0.37938,     0.38038,     0.38138,     0.38238,     0.38338,\n",
       "           0.38438,     0.38539,     0.38639,     0.38739,     0.38839,     0.38939,     0.39039,     0.39139,     0.39239,     0.39339,     0.39439,      0.3954,      0.3964,      0.3974,      0.3984,      0.3994,      0.4004,      0.4014,      0.4024,      0.4034,      0.4044,     0.40541,     0.40641,     0.40741,\n",
       "           0.40841,     0.40941,     0.41041,     0.41141,     0.41241,     0.41341,     0.41441,     0.41542,     0.41642,     0.41742,     0.41842,     0.41942,     0.42042,     0.42142,     0.42242,     0.42342,     0.42442,     0.42543,     0.42643,     0.42743,     0.42843,     0.42943,     0.43043,     0.43143,\n",
       "           0.43243,     0.43343,     0.43443,     0.43544,     0.43644,     0.43744,     0.43844,     0.43944,     0.44044,     0.44144,     0.44244,     0.44344,     0.44444,     0.44545,     0.44645,     0.44745,     0.44845,     0.44945,     0.45045,     0.45145,     0.45245,     0.45345,     0.45445,     0.45546,\n",
       "           0.45646,     0.45746,     0.45846,     0.45946,     0.46046,     0.46146,     0.46246,     0.46346,     0.46446,     0.46547,     0.46647,     0.46747,     0.46847,     0.46947,     0.47047,     0.47147,     0.47247,     0.47347,     0.47447,     0.47548,     0.47648,     0.47748,     0.47848,     0.47948,\n",
       "           0.48048,     0.48148,     0.48248,     0.48348,     0.48448,     0.48549,     0.48649,     0.48749,     0.48849,     0.48949,     0.49049,     0.49149,     0.49249,     0.49349,     0.49449,      0.4955,      0.4965,      0.4975,      0.4985,      0.4995,      0.5005,      0.5015,      0.5025,      0.5035,\n",
       "            0.5045,     0.50551,     0.50651,     0.50751,     0.50851,     0.50951,     0.51051,     0.51151,     0.51251,     0.51351,     0.51451,     0.51552,     0.51652,     0.51752,     0.51852,     0.51952,     0.52052,     0.52152,     0.52252,     0.52352,     0.52452,     0.52553,     0.52653,     0.52753,\n",
       "           0.52853,     0.52953,     0.53053,     0.53153,     0.53253,     0.53353,     0.53453,     0.53554,     0.53654,     0.53754,     0.53854,     0.53954,     0.54054,     0.54154,     0.54254,     0.54354,     0.54454,     0.54555,     0.54655,     0.54755,     0.54855,     0.54955,     0.55055,     0.55155,\n",
       "           0.55255,     0.55355,     0.55455,     0.55556,     0.55656,     0.55756,     0.55856,     0.55956,     0.56056,     0.56156,     0.56256,     0.56356,     0.56456,     0.56557,     0.56657,     0.56757,     0.56857,     0.56957,     0.57057,     0.57157,     0.57257,     0.57357,     0.57457,     0.57558,\n",
       "           0.57658,     0.57758,     0.57858,     0.57958,     0.58058,     0.58158,     0.58258,     0.58358,     0.58458,     0.58559,     0.58659,     0.58759,     0.58859,     0.58959,     0.59059,     0.59159,     0.59259,     0.59359,     0.59459,      0.5956,      0.5966,      0.5976,      0.5986,      0.5996,\n",
       "            0.6006,      0.6016,      0.6026,      0.6036,      0.6046,     0.60561,     0.60661,     0.60761,     0.60861,     0.60961,     0.61061,     0.61161,     0.61261,     0.61361,     0.61461,     0.61562,     0.61662,     0.61762,     0.61862,     0.61962,     0.62062,     0.62162,     0.62262,     0.62362,\n",
       "           0.62462,     0.62563,     0.62663,     0.62763,     0.62863,     0.62963,     0.63063,     0.63163,     0.63263,     0.63363,     0.63463,     0.63564,     0.63664,     0.63764,     0.63864,     0.63964,     0.64064,     0.64164,     0.64264,     0.64364,     0.64464,     0.64565,     0.64665,     0.64765,\n",
       "           0.64865,     0.64965,     0.65065,     0.65165,     0.65265,     0.65365,     0.65465,     0.65566,     0.65666,     0.65766,     0.65866,     0.65966,     0.66066,     0.66166,     0.66266,     0.66366,     0.66466,     0.66567,     0.66667,     0.66767,     0.66867,     0.66967,     0.67067,     0.67167,\n",
       "           0.67267,     0.67367,     0.67467,     0.67568,     0.67668,     0.67768,     0.67868,     0.67968,     0.68068,     0.68168,     0.68268,     0.68368,     0.68468,     0.68569,     0.68669,     0.68769,     0.68869,     0.68969,     0.69069,     0.69169,     0.69269,     0.69369,     0.69469,      0.6957,\n",
       "            0.6967,      0.6977,      0.6987,      0.6997,      0.7007,      0.7017,      0.7027,      0.7037,      0.7047,     0.70571,     0.70671,     0.70771,     0.70871,     0.70971,     0.71071,     0.71171,     0.71271,     0.71371,     0.71471,     0.71572,     0.71672,     0.71772,     0.71872,     0.71972,\n",
       "           0.72072,     0.72172,     0.72272,     0.72372,     0.72472,     0.72573,     0.72673,     0.72773,     0.72873,     0.72973,     0.73073,     0.73173,     0.73273,     0.73373,     0.73473,     0.73574,     0.73674,     0.73774,     0.73874,     0.73974,     0.74074,     0.74174,     0.74274,     0.74374,\n",
       "           0.74474,     0.74575,     0.74675,     0.74775,     0.74875,     0.74975,     0.75075,     0.75175,     0.75275,     0.75375,     0.75475,     0.75576,     0.75676,     0.75776,     0.75876,     0.75976,     0.76076,     0.76176,     0.76276,     0.76376,     0.76476,     0.76577,     0.76677,     0.76777,\n",
       "           0.76877,     0.76977,     0.77077,     0.77177,     0.77277,     0.77377,     0.77477,     0.77578,     0.77678,     0.77778,     0.77878,     0.77978,     0.78078,     0.78178,     0.78278,     0.78378,     0.78478,     0.78579,     0.78679,     0.78779,     0.78879,     0.78979,     0.79079,     0.79179,\n",
       "           0.79279,     0.79379,     0.79479,      0.7958,      0.7968,      0.7978,      0.7988,      0.7998,      0.8008,      0.8018,      0.8028,      0.8038,      0.8048,     0.80581,     0.80681,     0.80781,     0.80881,     0.80981,     0.81081,     0.81181,     0.81281,     0.81381,     0.81481,     0.81582,\n",
       "           0.81682,     0.81782,     0.81882,     0.81982,     0.82082,     0.82182,     0.82282,     0.82382,     0.82482,     0.82583,     0.82683,     0.82783,     0.82883,     0.82983,     0.83083,     0.83183,     0.83283,     0.83383,     0.83483,     0.83584,     0.83684,     0.83784,     0.83884,     0.83984,\n",
       "           0.84084,     0.84184,     0.84284,     0.84384,     0.84484,     0.84585,     0.84685,     0.84785,     0.84885,     0.84985,     0.85085,     0.85185,     0.85285,     0.85385,     0.85485,     0.85586,     0.85686,     0.85786,     0.85886,     0.85986,     0.86086,     0.86186,     0.86286,     0.86386,\n",
       "           0.86486,     0.86587,     0.86687,     0.86787,     0.86887,     0.86987,     0.87087,     0.87187,     0.87287,     0.87387,     0.87487,     0.87588,     0.87688,     0.87788,     0.87888,     0.87988,     0.88088,     0.88188,     0.88288,     0.88388,     0.88488,     0.88589,     0.88689,     0.88789,\n",
       "           0.88889,     0.88989,     0.89089,     0.89189,     0.89289,     0.89389,     0.89489,      0.8959,      0.8969,      0.8979,      0.8989,      0.8999,      0.9009,      0.9019,      0.9029,      0.9039,      0.9049,     0.90591,     0.90691,     0.90791,     0.90891,     0.90991,     0.91091,     0.91191,\n",
       "           0.91291,     0.91391,     0.91491,     0.91592,     0.91692,     0.91792,     0.91892,     0.91992,     0.92092,     0.92192,     0.92292,     0.92392,     0.92492,     0.92593,     0.92693,     0.92793,     0.92893,     0.92993,     0.93093,     0.93193,     0.93293,     0.93393,     0.93493,     0.93594,\n",
       "           0.93694,     0.93794,     0.93894,     0.93994,     0.94094,     0.94194,     0.94294,     0.94394,     0.94494,     0.94595,     0.94695,     0.94795,     0.94895,     0.94995,     0.95095,     0.95195,     0.95295,     0.95395,     0.95495,     0.95596,     0.95696,     0.95796,     0.95896,     0.95996,\n",
       "           0.96096,     0.96196,     0.96296,     0.96396,     0.96496,     0.96597,     0.96697,     0.96797,     0.96897,     0.96997,     0.97097,     0.97197,     0.97297,     0.97397,     0.97497,     0.97598,     0.97698,     0.97798,     0.97898,     0.97998,     0.98098,     0.98198,     0.98298,     0.98398,\n",
       "           0.98498,     0.98599,     0.98699,     0.98799,     0.98899,     0.98999,     0.99099,     0.99199,     0.99299,     0.99399,     0.99499,       0.996,       0.997,       0.998,       0.999,           1]), array([[    0.75967,     0.75967,     0.80289,     0.82862,     0.84221,     0.84569,     0.85567,     0.86329,     0.86988,     0.87355,     0.87628,     0.87761,     0.87974,     0.88224,     0.88624,     0.88962,     0.89055,     0.89269,     0.89429,     0.89654,     0.89724,     0.89771,     0.89801,\n",
       "            0.89828,     0.89854,     0.89881,      0.8996,      0.8997,      0.9008,      0.9023,      0.9032,     0.90429,     0.90526,     0.90661,     0.90676,     0.90876,     0.91022,     0.91145,     0.91173,     0.91204,     0.91235,     0.91347,     0.91373,      0.9145,     0.91502,      0.9155,\n",
       "            0.91577,     0.91604,     0.91631,     0.91732,     0.91768,     0.91786,     0.91805,     0.91823,     0.91841,     0.91878,     0.91965,     0.92018,      0.9206,     0.92104,     0.92148,     0.92182,     0.92213,     0.92244,     0.92318,     0.92382,       0.924,     0.92419,     0.92437,\n",
       "            0.92456,     0.92475,     0.92579,     0.92578,     0.92577,     0.92576,     0.92575,     0.92574,     0.92573,     0.92572,     0.92629,     0.92784,      0.9282,     0.92856,     0.92897,     0.92989,     0.93021,     0.93047,     0.93074,     0.93101,     0.93096,     0.93142,      0.9319,\n",
       "            0.93295,     0.93293,     0.93291,      0.9329,     0.93288,     0.93309,     0.93361,     0.93395,     0.93393,     0.93391,      0.9339,     0.93388,     0.93414,     0.93451,     0.93488,     0.93518,     0.93547,     0.93576,     0.93605,     0.93783,     0.93883,     0.93945,     0.93985,\n",
       "            0.94025,     0.94122,      0.9415,     0.94148,     0.94146,     0.94167,     0.94211,     0.94255,      0.9425,     0.94372,     0.94409,     0.94445,      0.9447,     0.94469,     0.94468,     0.94466,     0.94465,     0.94466,     0.94493,     0.94521,     0.94549,     0.94576,     0.94596,\n",
       "            0.94616,     0.94636,     0.94656,     0.94676,      0.9469,     0.94698,     0.94706,     0.94714,     0.94721,     0.94729,     0.94737,     0.94745,     0.94753,      0.9476,     0.94768,     0.94776,     0.94784,     0.94791,     0.94799,     0.94798,     0.94796,     0.94795,     0.94794,\n",
       "            0.94803,      0.9483,     0.94856,     0.94882,     0.94912,     0.94963,     0.95014,      0.9503,     0.95044,     0.95058,     0.95071,     0.95085,     0.95099,     0.95112,     0.95126,     0.95142,      0.9516,     0.95178,     0.95196,     0.95213,     0.95231,     0.95367,       0.954,\n",
       "            0.95434,     0.95467,     0.95478,     0.95485,     0.95493,     0.95501,     0.95509,     0.95517,     0.95524,     0.95532,      0.9554,     0.95548,     0.95556,     0.95563,     0.95571,     0.95579,       0.956,     0.95663,     0.95705,     0.95719,     0.95732,     0.95746,      0.9576,\n",
       "            0.95774,     0.95788,     0.95801,     0.95818,     0.95853,     0.95888,     0.95922,     0.95928,     0.95928,     0.95927,     0.95927,     0.95926,     0.95926,     0.95926,     0.95925,     0.95925,     0.95925,     0.95924,     0.95924,     0.95924,     0.95923,     0.95935,      0.9595,\n",
       "            0.95965,      0.9598,     0.95995,      0.9601,     0.96025,     0.96043,     0.96075,     0.96108,     0.96141,     0.96162,     0.96175,     0.96188,     0.96202,     0.96215,     0.96229,     0.96242,     0.96255,     0.96269,     0.96269,     0.96269,     0.96269,     0.96269,     0.96268,\n",
       "            0.96268,     0.96268,     0.96268,     0.96267,     0.96267,     0.96267,     0.96267,     0.96267,     0.96266,     0.96266,     0.96266,     0.96266,     0.96265,     0.96265,     0.96279,     0.96301,     0.96323,     0.96344,     0.96366,     0.96381,     0.96381,      0.9638,      0.9638,\n",
       "            0.96379,     0.96379,     0.96378,     0.96378,     0.96378,     0.96377,     0.96381,     0.96461,     0.96564,     0.96623,     0.96644,     0.96665,     0.96686,     0.96707,     0.96728,     0.96808,     0.96849,     0.96858,     0.96866,     0.96875,     0.96883,     0.96892,       0.969,\n",
       "            0.96909,     0.96917,     0.96925,     0.96934,     0.96942,     0.96951,     0.96959,     0.96961,      0.9696,     0.96958,     0.96956,     0.96954,     0.96953,     0.96951,     0.96951,     0.96951,     0.96951,      0.9695,      0.9695,      0.9695,      0.9695,     0.96949,     0.96949,\n",
       "            0.96949,     0.96949,     0.96948,     0.96948,     0.96948,     0.96948,     0.96948,     0.96972,     0.97007,     0.97042,     0.97066,     0.97065,     0.97064,     0.97063,     0.97062,     0.97068,     0.97074,      0.9708,     0.97085,     0.97091,     0.97097,     0.97103,     0.97109,\n",
       "            0.97115,     0.97121,     0.97127,     0.97132,     0.97138,     0.97144,      0.9715,     0.97156,     0.97162,     0.97168,     0.97174,     0.97179,     0.97211,     0.97255,       0.973,     0.97304,     0.97307,      0.9731,     0.97313,     0.97316,     0.97319,     0.97322,     0.97325,\n",
       "            0.97328,     0.97332,     0.97335,     0.97338,     0.97341,     0.97344,     0.97347,      0.9735,     0.97353,     0.97356,      0.9736,     0.97363,     0.97366,     0.97369,     0.97372,     0.97375,     0.97378,     0.97381,     0.97384,     0.97387,     0.97391,     0.97394,     0.97397,\n",
       "              0.974,     0.97403,     0.97406,     0.97409,     0.97412,     0.97415,     0.97418,      0.9742,      0.9742,      0.9742,     0.97419,     0.97419,     0.97419,     0.97419,     0.97418,     0.97418,     0.97418,     0.97418,     0.97418,     0.97417,     0.97417,     0.97421,     0.97433,\n",
       "            0.97446,     0.97459,     0.97471,     0.97484,     0.97496,     0.97509,     0.97522,     0.97534,     0.97536,     0.97534,     0.97533,     0.97532,     0.97532,     0.97531,     0.97531,      0.9753,      0.9753,      0.9753,     0.97529,     0.97529,     0.97529,     0.97528,     0.97528,\n",
       "            0.97528,     0.97537,     0.97551,     0.97565,     0.97579,     0.97592,     0.97606,      0.9762,     0.97634,     0.97647,     0.97647,     0.97646,     0.97645,     0.97644,     0.97643,     0.97646,     0.97709,     0.97768,     0.97801,     0.97834,     0.97867,     0.97885,     0.97884,\n",
       "            0.97883,     0.97883,     0.97882,     0.97882,     0.97881,      0.9788,     0.97887,     0.97897,     0.97908,     0.97918,     0.97929,     0.97939,      0.9795,      0.9796,     0.97971,     0.97981,     0.97991,     0.98002,     0.98013,     0.98025,     0.98036,     0.98047,     0.98059,\n",
       "             0.9807,     0.98082,     0.98093,     0.98105,     0.98116,     0.98125,     0.98125,     0.98124,     0.98124,     0.98124,     0.98124,     0.98124,     0.98123,     0.98123,     0.98123,     0.98131,     0.98149,     0.98167,     0.98185,     0.98203,     0.98221,     0.98239,     0.98245,\n",
       "            0.98244,     0.98244,     0.98243,     0.98242,     0.98242,     0.98241,     0.98239,     0.98239,     0.98238,     0.98238,     0.98237,     0.98237,     0.98236,     0.98236,     0.98236,     0.98235,     0.98235,     0.98235,     0.98234,     0.98234,     0.98234,     0.98234,     0.98233,\n",
       "            0.98233,     0.98233,     0.98233,     0.98232,     0.98253,     0.98317,     0.98493,     0.98525,     0.98557,     0.98589,     0.98606,     0.98605,     0.98605,     0.98604,     0.98641,     0.98705,     0.98736,     0.98746,     0.98756,     0.98767,     0.98777,     0.98787,     0.98798,\n",
       "            0.98808,     0.98818,     0.98828,     0.98839,     0.98849,     0.98855,     0.98855,     0.98855,     0.98854,     0.98854,     0.98854,     0.98854,     0.98854,     0.98854,     0.98854,     0.98854,     0.98853,     0.98852,     0.98993,     0.99015,     0.99036,     0.99058,      0.9908,\n",
       "            0.99101,     0.99116,      0.9913,     0.99143,     0.99157,     0.99171,     0.99184,     0.99198,     0.99212,     0.99226,     0.99229,     0.99229,     0.99229,     0.99229,     0.99228,     0.99228,     0.99228,     0.99228,     0.99227,     0.99227,     0.99227,     0.99227,     0.99226,\n",
       "            0.99226,     0.99226,     0.99226,     0.99226,     0.99226,     0.99226,     0.99265,     0.99331,     0.99354,     0.99354,     0.99354,     0.99354,     0.99354,     0.99354,     0.99354,     0.99354,     0.99354,     0.99354,     0.99354,     0.99354,     0.99354,     0.99354,     0.99354,\n",
       "            0.99354,     0.99354,     0.99354,     0.99354,     0.99354,     0.99354,     0.99354,     0.99354,     0.99354,     0.99353,     0.99353,     0.99353,     0.99353,     0.99353,     0.99353,     0.99353,     0.99353,     0.99353,     0.99353,     0.99353,     0.99353,     0.99353,     0.99353,\n",
       "            0.99353,     0.99353,     0.99353,     0.99352,     0.99352,     0.99351,     0.99351,     0.99351,     0.99351,     0.99351,     0.99351,     0.99351,     0.99351,     0.99351,     0.99351,     0.99351,      0.9935,      0.9935,      0.9935,      0.9935,     0.99349,     0.99349,     0.99349,\n",
       "            0.99349,     0.99349,     0.99354,     0.99362,      0.9937,     0.99377,     0.99385,     0.99392,       0.994,     0.99408,     0.99415,     0.99423,      0.9943,     0.99438,     0.99445,     0.99453,     0.99461,     0.99468,     0.99476,     0.99478,     0.99478,     0.99478,     0.99478,\n",
       "            0.99478,     0.99478,     0.99478,     0.99478,     0.99478,     0.99478,     0.99478,     0.99478,     0.99478,     0.99478,     0.99478,     0.99478,     0.99478,     0.99478,     0.99477,     0.99477,     0.99477,     0.99477,     0.99477,     0.99477,     0.99477,     0.99477,     0.99477,\n",
       "            0.99477,     0.99477,     0.99477,     0.99477,     0.99477,     0.99477,     0.99477,     0.99477,     0.99477,     0.99476,     0.99476,     0.99476,     0.99476,     0.99476,     0.99476,     0.99476,     0.99476,     0.99475,     0.99475,     0.99475,     0.99475,     0.99475,     0.99475,\n",
       "            0.99606,     0.99606,     0.99606,     0.99606,     0.99605,     0.99605,     0.99605,     0.99605,     0.99605,     0.99605,     0.99604,     0.99604,     0.99604,     0.99603,     0.99602,     0.99602,     0.99602,     0.99602,     0.99602,     0.99601,     0.99601,     0.99601,     0.99601,\n",
       "            0.99601,     0.99601,     0.99601,     0.99601,     0.99601,     0.99601,     0.99601,     0.99601,     0.99601,     0.99601,     0.99601,       0.996,       0.996,       0.996,       0.996,       0.996,     0.99599,     0.99599,     0.99599,     0.99598,     0.99598,     0.99731,     0.99731,\n",
       "             0.9973,      0.9973,      0.9973,     0.99729,     0.99729,     0.99729,     0.99729,     0.99728,     0.99728,     0.99728,     0.99728,     0.99727,     0.99726,     0.99726,     0.99726,     0.99726,     0.99725,     0.99725,     0.99725,     0.99724,     0.99724,     0.99724,     0.99724,\n",
       "            0.99724,     0.99723,     0.99723,     0.99722,     0.99721,     0.99721,     0.99721,     0.99721,      0.9986,      0.9986,      0.9986,     0.99859,     0.99859,     0.99859,     0.99859,     0.99858,     0.99858,     0.99858,     0.99858,     0.99858,     0.99858,     0.99857,     0.99857,\n",
       "            0.99856,     0.99856,     0.99856,     0.99855,     0.99855,     0.99855,     0.99854,     0.99854,     0.99854,     0.99853,     0.99853,     0.99853,     0.99852,     0.99852,     0.99852,     0.99851,     0.99851,     0.99851,     0.99851,     0.99851,      0.9985,      0.9985,      0.9985,\n",
       "             0.9985,     0.99849,     0.99848,     0.99848,     0.99848,     0.99847,     0.99846,     0.99845,     0.99844,     0.99842,     0.99841,     0.99841,      0.9984,     0.99839,     0.99837,     0.99837,     0.99836,     0.99834,     0.99833,     0.99832,     0.99832,      0.9983,     0.99829,\n",
       "            0.99827,     0.99825,     0.99822,     0.99821,     0.99819,     0.99817,     0.99811,     0.99809,     0.99807,     0.99805,     0.99802,     0.99798,     0.99795,     0.99792,     0.99782,     0.99778,     0.99774,     0.99761,     0.99753,     0.99747,     0.99738,     0.99726,     0.99718,\n",
       "            0.99697,     0.99686,     0.99666,           1,           1,           1,           1,           1,           1,           1,           1,           1,           1,           1,           1,           1,           1,           1,           1,           1,           1,           1,           1,\n",
       "                  1,           1,           1,           1,           1,           1,           1,           1,           1,           1,           1,           1,           1,           1,           1,           1,           1,           1,           1,           1,           1,           1,           1,\n",
       "                  1,           1,           1,           1,           1,           1,           1,           1,           1,           1,           1,           1,           1,           1,           1,           1,           1,           1,           1,           1,           1,           1,           1,\n",
       "                  1,           1,           1,           1,           1,           1,           1,           1,           1,           1,           1,           1,           1,           1,           1,           1,           1,           1,           1,           1,           1,           1,           1,\n",
       "                  1,           1,           1,           1,           1,           1,           1,           1,           1,           1,           1]]), 'Confidence', 'Precision'], [array([          0,    0.001001,    0.002002,    0.003003,    0.004004,    0.005005,    0.006006,    0.007007,    0.008008,    0.009009,     0.01001,    0.011011,    0.012012,    0.013013,    0.014014,    0.015015,    0.016016,    0.017017,    0.018018,    0.019019,     0.02002,    0.021021,    0.022022,    0.023023,\n",
       "          0.024024,    0.025025,    0.026026,    0.027027,    0.028028,    0.029029,     0.03003,    0.031031,    0.032032,    0.033033,    0.034034,    0.035035,    0.036036,    0.037037,    0.038038,    0.039039,     0.04004,    0.041041,    0.042042,    0.043043,    0.044044,    0.045045,    0.046046,    0.047047,\n",
       "          0.048048,    0.049049,     0.05005,    0.051051,    0.052052,    0.053053,    0.054054,    0.055055,    0.056056,    0.057057,    0.058058,    0.059059,     0.06006,    0.061061,    0.062062,    0.063063,    0.064064,    0.065065,    0.066066,    0.067067,    0.068068,    0.069069,     0.07007,    0.071071,\n",
       "          0.072072,    0.073073,    0.074074,    0.075075,    0.076076,    0.077077,    0.078078,    0.079079,     0.08008,    0.081081,    0.082082,    0.083083,    0.084084,    0.085085,    0.086086,    0.087087,    0.088088,    0.089089,     0.09009,    0.091091,    0.092092,    0.093093,    0.094094,    0.095095,\n",
       "          0.096096,    0.097097,    0.098098,    0.099099,      0.1001,      0.1011,      0.1021,      0.1031,      0.1041,     0.10511,     0.10611,     0.10711,     0.10811,     0.10911,     0.11011,     0.11111,     0.11211,     0.11311,     0.11411,     0.11512,     0.11612,     0.11712,     0.11812,     0.11912,\n",
       "           0.12012,     0.12112,     0.12212,     0.12312,     0.12412,     0.12513,     0.12613,     0.12713,     0.12813,     0.12913,     0.13013,     0.13113,     0.13213,     0.13313,     0.13413,     0.13514,     0.13614,     0.13714,     0.13814,     0.13914,     0.14014,     0.14114,     0.14214,     0.14314,\n",
       "           0.14414,     0.14515,     0.14615,     0.14715,     0.14815,     0.14915,     0.15015,     0.15115,     0.15215,     0.15315,     0.15415,     0.15516,     0.15616,     0.15716,     0.15816,     0.15916,     0.16016,     0.16116,     0.16216,     0.16316,     0.16416,     0.16517,     0.16617,     0.16717,\n",
       "           0.16817,     0.16917,     0.17017,     0.17117,     0.17217,     0.17317,     0.17417,     0.17518,     0.17618,     0.17718,     0.17818,     0.17918,     0.18018,     0.18118,     0.18218,     0.18318,     0.18418,     0.18519,     0.18619,     0.18719,     0.18819,     0.18919,     0.19019,     0.19119,\n",
       "           0.19219,     0.19319,     0.19419,      0.1952,      0.1962,      0.1972,      0.1982,      0.1992,      0.2002,      0.2012,      0.2022,      0.2032,      0.2042,     0.20521,     0.20621,     0.20721,     0.20821,     0.20921,     0.21021,     0.21121,     0.21221,     0.21321,     0.21421,     0.21522,\n",
       "           0.21622,     0.21722,     0.21822,     0.21922,     0.22022,     0.22122,     0.22222,     0.22322,     0.22422,     0.22523,     0.22623,     0.22723,     0.22823,     0.22923,     0.23023,     0.23123,     0.23223,     0.23323,     0.23423,     0.23524,     0.23624,     0.23724,     0.23824,     0.23924,\n",
       "           0.24024,     0.24124,     0.24224,     0.24324,     0.24424,     0.24525,     0.24625,     0.24725,     0.24825,     0.24925,     0.25025,     0.25125,     0.25225,     0.25325,     0.25425,     0.25526,     0.25626,     0.25726,     0.25826,     0.25926,     0.26026,     0.26126,     0.26226,     0.26326,\n",
       "           0.26426,     0.26527,     0.26627,     0.26727,     0.26827,     0.26927,     0.27027,     0.27127,     0.27227,     0.27327,     0.27427,     0.27528,     0.27628,     0.27728,     0.27828,     0.27928,     0.28028,     0.28128,     0.28228,     0.28328,     0.28428,     0.28529,     0.28629,     0.28729,\n",
       "           0.28829,     0.28929,     0.29029,     0.29129,     0.29229,     0.29329,     0.29429,      0.2953,      0.2963,      0.2973,      0.2983,      0.2993,      0.3003,      0.3013,      0.3023,      0.3033,      0.3043,     0.30531,     0.30631,     0.30731,     0.30831,     0.30931,     0.31031,     0.31131,\n",
       "           0.31231,     0.31331,     0.31431,     0.31532,     0.31632,     0.31732,     0.31832,     0.31932,     0.32032,     0.32132,     0.32232,     0.32332,     0.32432,     0.32533,     0.32633,     0.32733,     0.32833,     0.32933,     0.33033,     0.33133,     0.33233,     0.33333,     0.33433,     0.33534,\n",
       "           0.33634,     0.33734,     0.33834,     0.33934,     0.34034,     0.34134,     0.34234,     0.34334,     0.34434,     0.34535,     0.34635,     0.34735,     0.34835,     0.34935,     0.35035,     0.35135,     0.35235,     0.35335,     0.35435,     0.35536,     0.35636,     0.35736,     0.35836,     0.35936,\n",
       "           0.36036,     0.36136,     0.36236,     0.36336,     0.36436,     0.36537,     0.36637,     0.36737,     0.36837,     0.36937,     0.37037,     0.37137,     0.37237,     0.37337,     0.37437,     0.37538,     0.37638,     0.37738,     0.37838,     0.37938,     0.38038,     0.38138,     0.38238,     0.38338,\n",
       "           0.38438,     0.38539,     0.38639,     0.38739,     0.38839,     0.38939,     0.39039,     0.39139,     0.39239,     0.39339,     0.39439,      0.3954,      0.3964,      0.3974,      0.3984,      0.3994,      0.4004,      0.4014,      0.4024,      0.4034,      0.4044,     0.40541,     0.40641,     0.40741,\n",
       "           0.40841,     0.40941,     0.41041,     0.41141,     0.41241,     0.41341,     0.41441,     0.41542,     0.41642,     0.41742,     0.41842,     0.41942,     0.42042,     0.42142,     0.42242,     0.42342,     0.42442,     0.42543,     0.42643,     0.42743,     0.42843,     0.42943,     0.43043,     0.43143,\n",
       "           0.43243,     0.43343,     0.43443,     0.43544,     0.43644,     0.43744,     0.43844,     0.43944,     0.44044,     0.44144,     0.44244,     0.44344,     0.44444,     0.44545,     0.44645,     0.44745,     0.44845,     0.44945,     0.45045,     0.45145,     0.45245,     0.45345,     0.45445,     0.45546,\n",
       "           0.45646,     0.45746,     0.45846,     0.45946,     0.46046,     0.46146,     0.46246,     0.46346,     0.46446,     0.46547,     0.46647,     0.46747,     0.46847,     0.46947,     0.47047,     0.47147,     0.47247,     0.47347,     0.47447,     0.47548,     0.47648,     0.47748,     0.47848,     0.47948,\n",
       "           0.48048,     0.48148,     0.48248,     0.48348,     0.48448,     0.48549,     0.48649,     0.48749,     0.48849,     0.48949,     0.49049,     0.49149,     0.49249,     0.49349,     0.49449,      0.4955,      0.4965,      0.4975,      0.4985,      0.4995,      0.5005,      0.5015,      0.5025,      0.5035,\n",
       "            0.5045,     0.50551,     0.50651,     0.50751,     0.50851,     0.50951,     0.51051,     0.51151,     0.51251,     0.51351,     0.51451,     0.51552,     0.51652,     0.51752,     0.51852,     0.51952,     0.52052,     0.52152,     0.52252,     0.52352,     0.52452,     0.52553,     0.52653,     0.52753,\n",
       "           0.52853,     0.52953,     0.53053,     0.53153,     0.53253,     0.53353,     0.53453,     0.53554,     0.53654,     0.53754,     0.53854,     0.53954,     0.54054,     0.54154,     0.54254,     0.54354,     0.54454,     0.54555,     0.54655,     0.54755,     0.54855,     0.54955,     0.55055,     0.55155,\n",
       "           0.55255,     0.55355,     0.55455,     0.55556,     0.55656,     0.55756,     0.55856,     0.55956,     0.56056,     0.56156,     0.56256,     0.56356,     0.56456,     0.56557,     0.56657,     0.56757,     0.56857,     0.56957,     0.57057,     0.57157,     0.57257,     0.57357,     0.57457,     0.57558,\n",
       "           0.57658,     0.57758,     0.57858,     0.57958,     0.58058,     0.58158,     0.58258,     0.58358,     0.58458,     0.58559,     0.58659,     0.58759,     0.58859,     0.58959,     0.59059,     0.59159,     0.59259,     0.59359,     0.59459,      0.5956,      0.5966,      0.5976,      0.5986,      0.5996,\n",
       "            0.6006,      0.6016,      0.6026,      0.6036,      0.6046,     0.60561,     0.60661,     0.60761,     0.60861,     0.60961,     0.61061,     0.61161,     0.61261,     0.61361,     0.61461,     0.61562,     0.61662,     0.61762,     0.61862,     0.61962,     0.62062,     0.62162,     0.62262,     0.62362,\n",
       "           0.62462,     0.62563,     0.62663,     0.62763,     0.62863,     0.62963,     0.63063,     0.63163,     0.63263,     0.63363,     0.63463,     0.63564,     0.63664,     0.63764,     0.63864,     0.63964,     0.64064,     0.64164,     0.64264,     0.64364,     0.64464,     0.64565,     0.64665,     0.64765,\n",
       "           0.64865,     0.64965,     0.65065,     0.65165,     0.65265,     0.65365,     0.65465,     0.65566,     0.65666,     0.65766,     0.65866,     0.65966,     0.66066,     0.66166,     0.66266,     0.66366,     0.66466,     0.66567,     0.66667,     0.66767,     0.66867,     0.66967,     0.67067,     0.67167,\n",
       "           0.67267,     0.67367,     0.67467,     0.67568,     0.67668,     0.67768,     0.67868,     0.67968,     0.68068,     0.68168,     0.68268,     0.68368,     0.68468,     0.68569,     0.68669,     0.68769,     0.68869,     0.68969,     0.69069,     0.69169,     0.69269,     0.69369,     0.69469,      0.6957,\n",
       "            0.6967,      0.6977,      0.6987,      0.6997,      0.7007,      0.7017,      0.7027,      0.7037,      0.7047,     0.70571,     0.70671,     0.70771,     0.70871,     0.70971,     0.71071,     0.71171,     0.71271,     0.71371,     0.71471,     0.71572,     0.71672,     0.71772,     0.71872,     0.71972,\n",
       "           0.72072,     0.72172,     0.72272,     0.72372,     0.72472,     0.72573,     0.72673,     0.72773,     0.72873,     0.72973,     0.73073,     0.73173,     0.73273,     0.73373,     0.73473,     0.73574,     0.73674,     0.73774,     0.73874,     0.73974,     0.74074,     0.74174,     0.74274,     0.74374,\n",
       "           0.74474,     0.74575,     0.74675,     0.74775,     0.74875,     0.74975,     0.75075,     0.75175,     0.75275,     0.75375,     0.75475,     0.75576,     0.75676,     0.75776,     0.75876,     0.75976,     0.76076,     0.76176,     0.76276,     0.76376,     0.76476,     0.76577,     0.76677,     0.76777,\n",
       "           0.76877,     0.76977,     0.77077,     0.77177,     0.77277,     0.77377,     0.77477,     0.77578,     0.77678,     0.77778,     0.77878,     0.77978,     0.78078,     0.78178,     0.78278,     0.78378,     0.78478,     0.78579,     0.78679,     0.78779,     0.78879,     0.78979,     0.79079,     0.79179,\n",
       "           0.79279,     0.79379,     0.79479,      0.7958,      0.7968,      0.7978,      0.7988,      0.7998,      0.8008,      0.8018,      0.8028,      0.8038,      0.8048,     0.80581,     0.80681,     0.80781,     0.80881,     0.80981,     0.81081,     0.81181,     0.81281,     0.81381,     0.81481,     0.81582,\n",
       "           0.81682,     0.81782,     0.81882,     0.81982,     0.82082,     0.82182,     0.82282,     0.82382,     0.82482,     0.82583,     0.82683,     0.82783,     0.82883,     0.82983,     0.83083,     0.83183,     0.83283,     0.83383,     0.83483,     0.83584,     0.83684,     0.83784,     0.83884,     0.83984,\n",
       "           0.84084,     0.84184,     0.84284,     0.84384,     0.84484,     0.84585,     0.84685,     0.84785,     0.84885,     0.84985,     0.85085,     0.85185,     0.85285,     0.85385,     0.85485,     0.85586,     0.85686,     0.85786,     0.85886,     0.85986,     0.86086,     0.86186,     0.86286,     0.86386,\n",
       "           0.86486,     0.86587,     0.86687,     0.86787,     0.86887,     0.86987,     0.87087,     0.87187,     0.87287,     0.87387,     0.87487,     0.87588,     0.87688,     0.87788,     0.87888,     0.87988,     0.88088,     0.88188,     0.88288,     0.88388,     0.88488,     0.88589,     0.88689,     0.88789,\n",
       "           0.88889,     0.88989,     0.89089,     0.89189,     0.89289,     0.89389,     0.89489,      0.8959,      0.8969,      0.8979,      0.8989,      0.8999,      0.9009,      0.9019,      0.9029,      0.9039,      0.9049,     0.90591,     0.90691,     0.90791,     0.90891,     0.90991,     0.91091,     0.91191,\n",
       "           0.91291,     0.91391,     0.91491,     0.91592,     0.91692,     0.91792,     0.91892,     0.91992,     0.92092,     0.92192,     0.92292,     0.92392,     0.92492,     0.92593,     0.92693,     0.92793,     0.92893,     0.92993,     0.93093,     0.93193,     0.93293,     0.93393,     0.93493,     0.93594,\n",
       "           0.93694,     0.93794,     0.93894,     0.93994,     0.94094,     0.94194,     0.94294,     0.94394,     0.94494,     0.94595,     0.94695,     0.94795,     0.94895,     0.94995,     0.95095,     0.95195,     0.95295,     0.95395,     0.95495,     0.95596,     0.95696,     0.95796,     0.95896,     0.95996,\n",
       "           0.96096,     0.96196,     0.96296,     0.96396,     0.96496,     0.96597,     0.96697,     0.96797,     0.96897,     0.96997,     0.97097,     0.97197,     0.97297,     0.97397,     0.97497,     0.97598,     0.97698,     0.97798,     0.97898,     0.97998,     0.98098,     0.98198,     0.98298,     0.98398,\n",
       "           0.98498,     0.98599,     0.98699,     0.98799,     0.98899,     0.98999,     0.99099,     0.99199,     0.99299,     0.99399,     0.99499,       0.996,       0.997,       0.998,       0.999,           1]), array([[    0.97981,     0.97981,     0.97743,     0.97625,     0.97625,     0.97506,     0.97506,     0.97506,     0.97506,     0.97506,     0.97387,     0.97387,     0.97305,     0.97268,     0.97268,      0.9715,     0.97031,     0.97031,     0.97031,     0.97031,     0.97031,     0.97031,     0.97031,\n",
       "            0.97031,     0.97031,     0.97031,     0.97031,     0.96946,     0.96912,     0.96912,     0.96912,     0.96912,     0.96912,      0.9685,     0.96675,     0.96675,     0.96675,     0.96573,     0.96556,     0.96556,     0.96556,     0.96545,     0.96437,     0.96437,     0.96437,     0.96437,\n",
       "            0.96437,     0.96437,     0.96437,     0.96437,     0.96437,     0.96437,     0.96437,     0.96437,     0.96437,     0.96437,     0.96437,     0.96437,     0.96318,     0.96318,     0.96318,     0.96318,     0.96318,     0.96318,     0.96318,     0.96318,     0.96318,     0.96318,     0.96318,\n",
       "            0.96318,     0.96318,     0.96311,     0.96296,     0.96281,     0.96266,     0.96252,     0.96237,     0.96222,     0.96207,       0.962,       0.962,       0.962,       0.962,       0.962,       0.962,       0.962,       0.962,       0.962,       0.962,     0.96084,     0.96081,     0.96081,\n",
       "            0.95842,     0.95816,     0.95791,     0.95765,     0.95739,     0.95724,     0.95724,     0.95716,      0.9569,     0.95664,     0.95639,     0.95613,     0.95606,     0.95606,     0.95606,     0.95606,     0.95606,     0.95606,     0.95606,     0.95606,     0.95606,     0.95606,     0.95606,\n",
       "            0.95606,     0.95606,     0.95577,     0.95541,     0.95505,     0.95487,     0.95487,     0.95487,      0.9539,     0.95368,     0.95368,     0.95368,     0.95361,     0.95339,     0.95316,     0.95294,     0.95271,     0.95249,     0.95249,     0.95249,     0.95249,     0.95249,     0.95249,\n",
       "            0.95249,     0.95249,     0.95249,     0.95249,     0.95249,     0.95249,     0.95249,     0.95249,     0.95249,     0.95249,     0.95249,     0.95249,     0.95249,     0.95249,     0.95249,     0.95249,     0.95249,     0.95249,     0.95249,     0.95223,     0.95197,     0.95172,     0.95146,\n",
       "            0.95131,     0.95131,     0.95131,     0.95131,     0.95131,     0.95131,     0.95131,     0.95131,     0.95131,     0.95131,     0.95131,     0.95131,     0.95131,     0.95131,     0.95131,     0.95131,     0.95131,     0.95131,     0.95131,     0.95131,     0.95131,     0.95131,     0.95131,\n",
       "            0.95131,     0.95131,     0.95131,     0.95131,     0.95131,     0.95131,     0.95131,     0.95131,     0.95131,     0.95131,     0.95131,     0.95131,     0.95131,     0.95131,     0.95131,     0.95131,     0.95131,     0.95131,     0.95131,     0.95131,     0.95131,     0.95131,     0.95131,\n",
       "            0.95131,     0.95131,     0.95131,     0.95131,     0.95131,     0.95131,     0.95131,     0.95124,     0.95115,     0.95107,     0.95098,      0.9509,     0.95081,     0.95073,     0.95064,     0.95056,     0.95047,     0.95039,      0.9503,     0.95022,     0.95013,     0.95012,     0.95012,\n",
       "            0.95012,     0.95012,     0.95012,     0.95012,     0.95012,     0.95012,     0.95012,     0.95012,     0.95012,     0.95012,     0.95012,     0.95012,     0.95012,     0.95012,     0.95012,     0.95012,     0.95012,     0.95012,     0.95006,        0.95,     0.94994,     0.94988,     0.94981,\n",
       "            0.94975,     0.94969,     0.94963,     0.94957,     0.94951,     0.94944,     0.94938,     0.94932,     0.94926,      0.9492,     0.94914,     0.94908,     0.94901,     0.94895,     0.94893,     0.94893,     0.94893,     0.94893,     0.94893,      0.9489,     0.94878,     0.94866,     0.94855,\n",
       "            0.94843,     0.94832,      0.9482,     0.94808,     0.94797,     0.94785,     0.94774,     0.94774,     0.94774,     0.94774,     0.94774,     0.94774,     0.94774,     0.94774,     0.94774,     0.94774,     0.94774,     0.94774,     0.94774,     0.94774,     0.94774,     0.94774,     0.94774,\n",
       "            0.94774,     0.94774,     0.94774,     0.94774,     0.94774,     0.94774,     0.94774,     0.94743,     0.94694,     0.94641,     0.94572,     0.94513,     0.94464,     0.94418,      0.9441,     0.94403,     0.94396,     0.94389,     0.94381,     0.94374,     0.94367,     0.94359,     0.94352,\n",
       "            0.94345,     0.94338,      0.9433,     0.94323,     0.94316,     0.94309,     0.94301,     0.94299,     0.94299,     0.94299,     0.94291,     0.94264,     0.94237,      0.9421,     0.94183,     0.94181,     0.94181,     0.94181,     0.94181,     0.94181,     0.94181,     0.94181,     0.94181,\n",
       "            0.94181,     0.94181,     0.94181,     0.94181,     0.94181,     0.94181,     0.94181,     0.94181,     0.94181,     0.94181,     0.94181,     0.94181,     0.94181,     0.94181,     0.94181,     0.94181,     0.94181,     0.94181,     0.94181,     0.94181,     0.94181,     0.94181,     0.94181,\n",
       "            0.94181,     0.94181,     0.94181,     0.94181,     0.94181,     0.94181,     0.94181,     0.94181,     0.94181,     0.94181,     0.94181,     0.94181,     0.94181,     0.94181,     0.94181,     0.94181,     0.94181,     0.94181,     0.94181,     0.94181,     0.94181,     0.94181,     0.94181,\n",
       "            0.94181,     0.94181,     0.94181,     0.94181,     0.94181,     0.94181,     0.94181,     0.94177,     0.94168,      0.9416,     0.94152,     0.94143,     0.94135,     0.94126,     0.94118,      0.9411,     0.94101,     0.94093,     0.94084,     0.94076,     0.94068,     0.94062,     0.94062,\n",
       "            0.94062,     0.94062,     0.94062,     0.94062,     0.94062,     0.94062,     0.94062,     0.94062,     0.94007,      0.9394,      0.9391,      0.9388,     0.93849,     0.93822,     0.93811,       0.938,     0.93788,     0.93777,     0.93766,     0.93754,     0.93743,     0.93732,      0.9372,\n",
       "            0.93709,     0.93705,     0.93705,     0.93705,     0.93705,     0.93705,     0.93705,     0.93705,     0.93705,     0.93705,      0.9365,     0.93589,     0.93557,     0.93527,     0.93497,     0.93468,     0.93468,     0.93468,     0.93468,     0.93468,     0.93468,      0.9345,     0.93409,\n",
       "            0.93369,     0.93336,     0.93312,     0.93288,     0.93263,     0.93239,      0.9323,      0.9323,      0.9323,      0.9323,      0.9323,      0.9323,      0.9323,      0.9323,      0.9323,      0.9323,      0.9323,      0.9323,      0.9323,      0.9323,      0.9323,      0.9323,      0.9323,\n",
       "             0.9323,      0.9323,      0.9323,      0.9323,      0.9323,     0.93228,     0.93216,     0.93204,     0.93191,     0.93179,     0.93167,     0.93155,     0.93143,      0.9313,     0.93118,     0.93112,     0.93112,     0.93112,     0.93112,     0.93112,     0.93112,     0.93112,     0.93086,\n",
       "            0.93046,     0.93005,     0.92972,     0.92941,     0.92911,      0.9288,     0.92778,     0.92735,     0.92711,     0.92687,     0.92662,     0.92638,     0.92618,     0.92597,     0.92577,     0.92557,     0.92536,     0.92517,     0.92505,     0.92492,      0.9248,     0.92468,     0.92456,\n",
       "            0.92444,     0.92432,     0.92419,     0.92407,     0.92399,     0.92399,     0.92399,     0.92399,     0.92399,     0.92399,     0.92385,     0.92354,     0.92324,     0.92293,      0.9228,      0.9228,      0.9228,      0.9228,      0.9228,      0.9228,      0.9228,      0.9228,      0.9228,\n",
       "             0.9228,      0.9228,      0.9228,      0.9228,      0.9228,     0.92276,     0.92264,     0.92253,     0.92242,     0.92231,      0.9222,     0.92209,     0.92198,     0.92187,     0.92176,     0.92165,     0.92119,     0.92058,     0.91924,     0.91924,     0.91924,     0.91924,     0.91924,\n",
       "            0.91924,     0.91924,     0.91924,     0.91924,     0.91924,     0.91924,     0.91924,     0.91924,     0.91924,     0.91924,     0.91767,     0.91706,     0.91673,     0.91653,     0.91632,     0.91612,     0.91592,     0.91571,     0.91518,     0.91457,     0.91438,     0.91425,     0.91412,\n",
       "            0.91399,     0.91387,     0.91374,     0.91361,     0.91348,     0.91335,      0.9133,      0.9133,     0.91328,     0.91325,     0.91322,     0.91319,     0.91316,     0.91313,      0.9131,     0.91307,     0.91304,     0.91302,     0.91299,     0.91296,     0.91293,      0.9129,     0.91287,\n",
       "            0.91284,     0.91281,     0.91278,     0.91275,     0.91272,     0.91269,     0.91266,     0.91263,      0.9126,     0.91257,     0.91254,     0.91251,     0.91248,     0.91245,     0.91242,     0.91239,     0.91236,     0.91233,      0.9123,     0.91227,     0.91224,     0.91221,     0.91218,\n",
       "            0.91215,     0.91212,     0.91172,     0.91111,     0.91036,     0.90971,      0.9096,     0.90949,     0.90938,     0.90927,     0.90916,     0.90905,     0.90894,     0.90883,     0.90872,     0.90861,     0.90824,     0.90764,     0.90727,     0.90709,     0.90692,     0.90675,     0.90657,\n",
       "             0.9064,     0.90622,     0.90618,     0.90618,     0.90618,     0.90618,     0.90618,     0.90618,     0.90618,     0.90618,     0.90618,     0.90618,     0.90618,     0.90618,     0.90618,     0.90618,     0.90618,     0.90618,     0.90618,     0.90611,     0.90601,     0.90591,     0.90581,\n",
       "             0.9057,      0.9056,      0.9055,      0.9054,      0.9053,      0.9052,      0.9051,     0.90499,     0.90491,     0.90483,     0.90475,     0.90467,     0.90459,     0.90451,     0.90442,     0.90434,     0.90426,     0.90418,      0.9041,     0.90402,     0.90394,     0.90386,     0.90377,\n",
       "            0.90366,     0.90354,     0.90343,     0.90332,     0.90321,      0.9031,     0.90299,     0.90288,     0.90277,     0.90266,     0.90241,     0.90206,     0.90172,      0.9014,     0.90128,     0.90115,     0.90102,     0.90089,     0.90076,     0.90064,     0.90051,     0.90038,     0.90025,\n",
       "            0.90012,     0.89998,     0.89985,     0.89971,     0.89958,     0.89944,      0.8993,     0.89917,     0.89783,     0.89756,     0.89729,     0.89702,     0.89675,      0.8949,     0.89171,      0.8909,     0.89068,     0.89061,     0.89054,     0.89047,      0.8904,     0.89033,     0.89026,\n",
       "            0.89019,     0.89012,     0.89005,     0.88999,     0.88992,     0.88985,     0.88978,     0.88971,     0.88964,     0.88957,     0.88896,     0.88825,     0.88785,     0.88744,     0.88701,     0.88652,     0.88604,     0.88526,     0.88445,     0.88363,     0.88243,     0.88083,     0.88043,\n",
       "             0.8788,     0.87799,     0.87619,      0.8757,     0.87516,     0.87435,     0.87271,      0.8724,      0.8721,     0.87179,     0.87076,     0.86869,     0.86562,     0.86513,     0.86465,     0.86386,     0.86167,     0.86065,     0.85985,     0.85936,     0.85887,     0.85796,     0.85719,\n",
       "             0.8567,     0.85497,     0.85416,     0.85306,     0.85014,     0.84983,     0.84953,     0.84922,     0.84816,      0.8461,     0.84514,     0.84392,      0.8405,     0.83969,     0.83908,     0.83728,     0.83646,     0.83543,     0.83421,     0.83324,     0.83237,     0.82996,     0.82645,\n",
       "            0.82564,     0.82453,     0.82212,     0.81972,     0.81883,     0.81669,     0.81429,     0.81307,     0.81185,     0.80844,     0.80762,     0.80642,     0.80283,     0.80161,      0.7992,     0.79686,     0.79625,     0.79561,      0.7948,     0.79371,     0.79292,     0.79231,     0.79125,\n",
       "            0.79003,     0.78406,     0.78166,     0.78044,     0.77803,     0.77563,     0.77204,     0.76607,      0.7601,     0.75173,     0.74757,     0.74398,     0.74276,     0.73798,     0.72964,     0.72842,     0.72364,     0.71589,     0.71111,     0.70752,     0.70392,     0.69876,     0.69139,\n",
       "            0.68543,     0.67589,     0.66696,     0.66099,     0.65565,     0.64608,     0.62705,     0.62103,     0.61333,     0.60855,     0.59843,     0.58754,     0.57877,     0.56924,     0.54368,     0.53385,     0.52402,     0.49608,     0.48023,     0.46811,     0.45146,     0.43302,     0.41942,\n",
       "             0.3902,     0.37655,     0.35392,     0.31886,     0.29567,     0.27655,     0.24454,     0.24318,     0.21241,     0.19555,     0.17851,     0.14793,     0.12797,      0.1098,    0.095846,    0.084744,     0.06687,    0.061909,    0.048936,    0.041065,    0.036941,    0.021442,    0.017223,\n",
       "           0.011255,   0.0090673,   0.0082268,   0.0070094,   0.0058408,   0.0050292,   0.0034258,   0.0026143,   0.0021606,   0.0018562,   0.0015519,   0.0012475,           0,           0,           0,           0,           0,           0,           0,           0,           0,           0,           0,\n",
       "                  0,           0,           0,           0,           0,           0,           0,           0,           0,           0,           0,           0,           0,           0,           0,           0,           0,           0,           0,           0,           0,           0,           0,\n",
       "                  0,           0,           0,           0,           0,           0,           0,           0,           0,           0,           0,           0,           0,           0,           0,           0,           0,           0,           0,           0,           0,           0,           0,\n",
       "                  0,           0,           0,           0,           0,           0,           0,           0,           0,           0,           0]]), 'Confidence', 'Recall']]\n",
       "fitness: 1.7801355382250454\n",
       "keys: ['metrics/precision(B)', 'metrics/recall(B)', 'metrics/mAP50(B)', 'metrics/mAP50-95(B)', 'metrics/precision(P)', 'metrics/recall(P)', 'metrics/mAP50(P)', 'metrics/mAP50-95(P)']\n",
       "maps: array([     1.7598])\n",
       "names: {0: 'bee'}\n",
       "plot: True\n",
       "pose: ultralytics.utils.metrics.Metric object\n",
       "results_dict: {'metrics/precision(B)': 0.9717163438850517, 'metrics/recall(B)': 0.9384687332922241, 'metrics/mAP50(B)': 0.9805421144358074, 'metrics/mAP50-95(B)': 0.7878840356027036, 'metrics/precision(P)': 0.9709127815236822, 'metrics/recall(P)': 0.9418052256532067, 'metrics/mAP50(P)': 0.9827457783203434, 'metrics/mAP50-95(P)': 0.9719012410077748, 'fitness': 1.7801355382250454}\n",
       "save_dir: PosixPath('runs/pose/train15')\n",
       "seg: ultralytics.utils.metrics.Metric object\n",
       "speed: {'preprocess': 0.09677708148956299, 'inference': 2.7489304542541504, 'loss': 9.238719940185547e-05, 'postprocess': 0.2290278673171997}\n",
       "task: 'pose'"
      ]
     },
     "execution_count": 6,
     "metadata": {},
     "output_type": "execute_result"
    }
   ],
   "execution_count": 6
  },
  {
   "metadata": {
    "ExecuteTime": {
     "end_time": "2024-05-30T20:21:57.285849Z",
     "start_time": "2024-05-30T20:21:57.241522Z"
    }
   },
   "cell_type": "code",
   "source": "best_model = YOLO(\"runs/pose/train15/weights/best.pt\")",
   "id": "6c6f5ae4b7bac5e4",
   "outputs": [],
   "execution_count": 7
  },
  {
   "metadata": {
    "ExecuteTime": {
     "end_time": "2024-05-30T20:22:02.516524Z",
     "start_time": "2024-05-30T20:21:57.286348Z"
    }
   },
   "cell_type": "code",
   "source": "results = best_model.val(save=False, plots=True, save_hybrid=True, conf=False, show_labels=False, show_boxes=False, verbose=False, show=True)",
   "id": "a61914cdbc9e8bf3",
   "outputs": [
    {
     "name": "stdout",
     "output_type": "stream",
     "text": [
      "Ultralytics YOLOv8.2.25 🚀 Python-3.11.6 torch-2.3.0 CUDA:0 (NVIDIA GeForce RTX 3090 Ti, 24214MiB)\n",
      "YOLOv8m-pose summary (fused): 237 layers, 26401087 parameters, 0 gradients\n"
     ]
    },
    {
     "name": "stderr",
     "output_type": "stream",
     "text": [
      "\u001B[34m\u001B[1mval: \u001B[0mScanning /home/kroep/dev/projects/bees/bee_detection/datasets/split/val/labels.cache... 80 images, 0 backgrounds, 0 corrupt: 100%|██████████| 80/80 [00:00<?, ?it/s]\n",
      "                 Class     Images  Instances      Box(P          R      mAP50  mAP50-95)     Pose(P          R      mAP50  mAP50-95): 100%|██████████| 5/5 [00:03<00:00,  1.49it/s]\n"
     ]
    },
    {
     "name": "stdout",
     "output_type": "stream",
     "text": [
      "                   all         80        842          1          1      0.995      0.995     0.0725     0.0819      0.101     0.0554\n",
      "Speed: 1.1ms preprocess, 4.9ms inference, 0.0ms loss, 8.7ms postprocess per image\n",
      "Results saved to \u001B[1mruns/pose/val14\u001B[0m\n"
     ]
    }
   ],
   "execution_count": 8
  },
  {
   "metadata": {
    "ExecuteTime": {
     "end_time": "2024-05-30T20:22:14.633087Z",
     "start_time": "2024-05-30T20:22:02.517374Z"
    }
   },
   "cell_type": "code",
   "source": [
    "import cv2\n",
    "from tqdm import tqdm\n",
    "\n",
    "output_dir = 'output'\n",
    "val_data_dir = \"datasets/split/val/images/\"\n",
    "\n",
    "os.makedirs(output_dir, exist_ok=True)\n",
    "\n",
    "for img_file in tqdm(os.listdir(val_data_dir)):\n",
    "    img_path = os.path.join(val_data_dir, img_file)\n",
    "\n",
    "    # Read the original image\n",
    "    original_img = cv2.imread(img_path)\n",
    "\n",
    "    # Get predictions\n",
    "    results = best_model.predict(img_path, save=False, save_txt=False, show_labels=False, show_conf=False)\n",
    "\n",
    "    # Get the image with predictions\n",
    "    pred_img = results[0].plot(labels=False, show=False)\n",
    "\n",
    "    # Concatenate original and prediction images side by side\n",
    "    side_by_side = cv2.hconcat([original_img, pred_img])\n",
    "\n",
    "    # Save the concatenated image\n",
    "    output_path = os.path.join(output_dir, f'side_by_side_{img_file}')\n",
    "    cv2.imwrite(output_path, side_by_side)"
   ],
   "id": "c54a348db8f1e58b",
   "outputs": [
    {
     "name": "stderr",
     "output_type": "stream",
     "text": [
      "  0%|          | 0/80 [00:00<?, ?it/s]"
     ]
    },
    {
     "name": "stdout",
     "output_type": "stream",
     "text": [
      "\n",
      "image 1/1 /home/kroep/dev/projects/bees/bee_detection/datasets/split/val/images/20230609d402.jpg: 384x640 5 bees, 75.5ms\n",
      "Speed: 1.0ms preprocess, 75.5ms inference, 0.8ms postprocess per image at shape (1, 3, 384, 640)\n"
     ]
    },
    {
     "name": "stderr",
     "output_type": "stream",
     "text": [
      "  1%|▏         | 1/80 [00:00<00:17,  4.55it/s]"
     ]
    },
    {
     "name": "stdout",
     "output_type": "stream",
     "text": [
      "\n",
      "image 1/1 /home/kroep/dev/projects/bees/bee_detection/datasets/split/val/images/20230609c318.jpg: 384x640 27 bees, 5.4ms\n",
      "Speed: 1.0ms preprocess, 5.4ms inference, 0.7ms postprocess per image at shape (1, 3, 384, 640)\n"
     ]
    },
    {
     "name": "stderr",
     "output_type": "stream",
     "text": [
      "  2%|▎         | 2/80 [00:00<00:13,  5.80it/s]"
     ]
    },
    {
     "name": "stdout",
     "output_type": "stream",
     "text": [
      "\n",
      "image 1/1 /home/kroep/dev/projects/bees/bee_detection/datasets/split/val/images/20230609c348.jpg: 384x640 26 bees, 5.8ms\n",
      "Speed: 1.0ms preprocess, 5.8ms inference, 0.7ms postprocess per image at shape (1, 3, 384, 640)\n"
     ]
    },
    {
     "name": "stderr",
     "output_type": "stream",
     "text": [
      "  4%|▍         | 3/80 [00:00<00:12,  6.29it/s]"
     ]
    },
    {
     "name": "stdout",
     "output_type": "stream",
     "text": [
      "\n",
      "image 1/1 /home/kroep/dev/projects/bees/bee_detection/datasets/split/val/images/20230609e342.jpg: 384x640 6 bees, 4.5ms\n",
      "Speed: 1.0ms preprocess, 4.5ms inference, 0.7ms postprocess per image at shape (1, 3, 384, 640)\n"
     ]
    },
    {
     "name": "stderr",
     "output_type": "stream",
     "text": [
      "  5%|▌         | 4/80 [00:00<00:11,  6.70it/s]"
     ]
    },
    {
     "name": "stdout",
     "output_type": "stream",
     "text": [
      "\n",
      "image 1/1 /home/kroep/dev/projects/bees/bee_detection/datasets/split/val/images/20230609d375.jpg: 384x640 7 bees, 4.9ms\n",
      "Speed: 1.0ms preprocess, 4.9ms inference, 0.7ms postprocess per image at shape (1, 3, 384, 640)\n"
     ]
    },
    {
     "name": "stderr",
     "output_type": "stream",
     "text": [
      "  6%|▋         | 5/80 [00:00<00:10,  6.98it/s]"
     ]
    },
    {
     "name": "stdout",
     "output_type": "stream",
     "text": [
      "\n",
      "image 1/1 /home/kroep/dev/projects/bees/bee_detection/datasets/split/val/images/20230609e576.jpg: 384x640 4 bees, 4.5ms\n",
      "Speed: 1.0ms preprocess, 4.5ms inference, 0.7ms postprocess per image at shape (1, 3, 384, 640)\n"
     ]
    },
    {
     "name": "stderr",
     "output_type": "stream",
     "text": [
      "  8%|▊         | 6/80 [00:00<00:10,  7.14it/s]"
     ]
    },
    {
     "name": "stdout",
     "output_type": "stream",
     "text": [
      "\n",
      "image 1/1 /home/kroep/dev/projects/bees/bee_detection/datasets/split/val/images/20230609d417.jpg: 384x640 6 bees, 4.7ms\n",
      "Speed: 1.0ms preprocess, 4.7ms inference, 0.8ms postprocess per image at shape (1, 3, 384, 640)\n"
     ]
    },
    {
     "name": "stderr",
     "output_type": "stream",
     "text": [
      "  9%|▉         | 7/80 [00:01<00:10,  7.28it/s]"
     ]
    },
    {
     "name": "stdout",
     "output_type": "stream",
     "text": [
      "\n",
      "image 1/1 /home/kroep/dev/projects/bees/bee_detection/datasets/split/val/images/20230609e492.jpg: 384x640 7 bees, 4.5ms\n",
      "Speed: 1.0ms preprocess, 4.5ms inference, 0.7ms postprocess per image at shape (1, 3, 384, 640)\n"
     ]
    },
    {
     "name": "stderr",
     "output_type": "stream",
     "text": [
      " 10%|█         | 8/80 [00:01<00:09,  7.30it/s]"
     ]
    },
    {
     "name": "stdout",
     "output_type": "stream",
     "text": [
      "\n",
      "image 1/1 /home/kroep/dev/projects/bees/bee_detection/datasets/split/val/images/20230609d450.jpg: 384x640 8 bees, 4.5ms\n",
      "Speed: 1.0ms preprocess, 4.5ms inference, 0.6ms postprocess per image at shape (1, 3, 384, 640)\n"
     ]
    },
    {
     "name": "stderr",
     "output_type": "stream",
     "text": [
      " 11%|█▏        | 9/80 [00:01<00:09,  7.49it/s]"
     ]
    },
    {
     "name": "stdout",
     "output_type": "stream",
     "text": [
      "\n",
      "image 1/1 /home/kroep/dev/projects/bees/bee_detection/datasets/split/val/images/20230609a342.jpg: 384x640 6 bees, 4.8ms\n",
      "Speed: 1.0ms preprocess, 4.8ms inference, 0.6ms postprocess per image at shape (1, 3, 384, 640)\n"
     ]
    },
    {
     "name": "stderr",
     "output_type": "stream",
     "text": [
      " 12%|█▎        | 10/80 [00:01<00:09,  7.43it/s]"
     ]
    },
    {
     "name": "stdout",
     "output_type": "stream",
     "text": [
      "\n",
      "image 1/1 /home/kroep/dev/projects/bees/bee_detection/datasets/split/val/images/20230609c330.jpg: 384x640 25 bees, 4.5ms\n",
      "Speed: 1.0ms preprocess, 4.5ms inference, 0.7ms postprocess per image at shape (1, 3, 384, 640)\n"
     ]
    },
    {
     "name": "stderr",
     "output_type": "stream",
     "text": [
      " 14%|█▍        | 11/80 [00:01<00:09,  7.33it/s]"
     ]
    },
    {
     "name": "stdout",
     "output_type": "stream",
     "text": [
      "\n",
      "image 1/1 /home/kroep/dev/projects/bees/bee_detection/datasets/split/val/images/20230609c426.jpg: 384x640 17 bees, 5.6ms\n",
      "Speed: 1.0ms preprocess, 5.6ms inference, 0.7ms postprocess per image at shape (1, 3, 384, 640)\n"
     ]
    },
    {
     "name": "stderr",
     "output_type": "stream",
     "text": [
      " 15%|█▌        | 12/80 [00:01<00:09,  7.32it/s]"
     ]
    },
    {
     "name": "stdout",
     "output_type": "stream",
     "text": [
      "\n",
      "image 1/1 /home/kroep/dev/projects/bees/bee_detection/datasets/split/val/images/20230711a38430.jpg: 384x640 32 bees, 5.1ms\n",
      "Speed: 1.0ms preprocess, 5.1ms inference, 1.1ms postprocess per image at shape (1, 3, 384, 640)\n"
     ]
    },
    {
     "name": "stderr",
     "output_type": "stream",
     "text": [
      " 16%|█▋        | 13/80 [00:01<00:09,  7.40it/s]"
     ]
    },
    {
     "name": "stdout",
     "output_type": "stream",
     "text": [
      "\n",
      "image 1/1 /home/kroep/dev/projects/bees/bee_detection/datasets/split/val/images/20230609d414.jpg: 384x640 5 bees, 5.5ms\n",
      "Speed: 1.0ms preprocess, 5.5ms inference, 0.6ms postprocess per image at shape (1, 3, 384, 640)\n"
     ]
    },
    {
     "name": "stderr",
     "output_type": "stream",
     "text": [
      " 18%|█▊        | 14/80 [00:01<00:08,  7.59it/s]"
     ]
    },
    {
     "name": "stdout",
     "output_type": "stream",
     "text": [
      "\n",
      "image 1/1 /home/kroep/dev/projects/bees/bee_detection/datasets/split/val/images/20230711b5670.jpg: 384x640 7 bees, 4.7ms\n",
      "Speed: 1.0ms preprocess, 4.7ms inference, 0.6ms postprocess per image at shape (1, 3, 384, 640)\n"
     ]
    },
    {
     "name": "stderr",
     "output_type": "stream",
     "text": [
      " 19%|█▉        | 15/80 [00:02<00:08,  7.47it/s]"
     ]
    },
    {
     "name": "stdout",
     "output_type": "stream",
     "text": [
      "\n",
      "image 1/1 /home/kroep/dev/projects/bees/bee_detection/datasets/split/val/images/20230711c8490.jpg: 384x640 3 bees, 4.8ms\n",
      "Speed: 1.0ms preprocess, 4.8ms inference, 1.1ms postprocess per image at shape (1, 3, 384, 640)\n"
     ]
    },
    {
     "name": "stderr",
     "output_type": "stream",
     "text": [
      " 20%|██        | 16/80 [00:02<00:08,  7.28it/s]"
     ]
    },
    {
     "name": "stdout",
     "output_type": "stream",
     "text": [
      "\n",
      "image 1/1 /home/kroep/dev/projects/bees/bee_detection/datasets/split/val/images/20230609a138.jpg: 384x640 7 bees, 8.4ms\n",
      "Speed: 2.8ms preprocess, 8.4ms inference, 6.8ms postprocess per image at shape (1, 3, 384, 640)\n"
     ]
    },
    {
     "name": "stderr",
     "output_type": "stream",
     "text": [
      " 21%|██▏       | 17/80 [00:02<00:09,  6.54it/s]"
     ]
    },
    {
     "name": "stdout",
     "output_type": "stream",
     "text": [
      "\n",
      "image 1/1 /home/kroep/dev/projects/bees/bee_detection/datasets/split/val/images/20230609d369.jpg: 384x640 6 bees, 4.9ms\n",
      "Speed: 1.0ms preprocess, 4.9ms inference, 1.4ms postprocess per image at shape (1, 3, 384, 640)\n"
     ]
    },
    {
     "name": "stderr",
     "output_type": "stream",
     "text": [
      " 22%|██▎       | 18/80 [00:02<00:09,  6.81it/s]"
     ]
    },
    {
     "name": "stdout",
     "output_type": "stream",
     "text": [
      "\n",
      "image 1/1 /home/kroep/dev/projects/bees/bee_detection/datasets/split/val/images/20230609d345.jpg: 384x640 13 bees, 4.7ms\n",
      "Speed: 1.0ms preprocess, 4.7ms inference, 0.7ms postprocess per image at shape (1, 3, 384, 640)\n"
     ]
    },
    {
     "name": "stderr",
     "output_type": "stream",
     "text": [
      " 24%|██▍       | 19/80 [00:02<00:08,  7.06it/s]"
     ]
    },
    {
     "name": "stdout",
     "output_type": "stream",
     "text": [
      "\n",
      "image 1/1 /home/kroep/dev/projects/bees/bee_detection/datasets/split/val/images/20230711b5520.jpg: 384x640 4 bees, 4.8ms\n",
      "Speed: 1.0ms preprocess, 4.8ms inference, 1.3ms postprocess per image at shape (1, 3, 384, 640)\n"
     ]
    },
    {
     "name": "stderr",
     "output_type": "stream",
     "text": [
      " 25%|██▌       | 20/80 [00:02<00:08,  7.14it/s]"
     ]
    },
    {
     "name": "stdout",
     "output_type": "stream",
     "text": [
      "\n",
      "image 1/1 /home/kroep/dev/projects/bees/bee_detection/datasets/split/val/images/20230609d444.jpg: 384x640 8 bees, 5.1ms\n",
      "Speed: 1.0ms preprocess, 5.1ms inference, 0.7ms postprocess per image at shape (1, 3, 384, 640)\n"
     ]
    },
    {
     "name": "stderr",
     "output_type": "stream",
     "text": [
      " 26%|██▋       | 21/80 [00:02<00:08,  7.26it/s]"
     ]
    },
    {
     "name": "stdout",
     "output_type": "stream",
     "text": [
      "\n",
      "image 1/1 /home/kroep/dev/projects/bees/bee_detection/datasets/split/val/images/20230711a38940.jpg: 384x640 22 bees, 8.3ms\n",
      "Speed: 3.0ms preprocess, 8.3ms inference, 6.3ms postprocess per image at shape (1, 3, 384, 640)\n"
     ]
    },
    {
     "name": "stderr",
     "output_type": "stream",
     "text": [
      " 28%|██▊       | 22/80 [00:03<00:10,  5.71it/s]"
     ]
    },
    {
     "name": "stdout",
     "output_type": "stream",
     "text": [
      "\n",
      "image 1/1 /home/kroep/dev/projects/bees/bee_detection/datasets/split/val/images/20230609b360.jpg: 384x640 15 bees, 7.1ms\n",
      "Speed: 1.0ms preprocess, 7.1ms inference, 3.0ms postprocess per image at shape (1, 3, 384, 640)\n"
     ]
    },
    {
     "name": "stderr",
     "output_type": "stream",
     "text": [
      " 29%|██▉       | 23/80 [00:03<00:09,  5.87it/s]"
     ]
    },
    {
     "name": "stdout",
     "output_type": "stream",
     "text": [
      "\n",
      "image 1/1 /home/kroep/dev/projects/bees/bee_detection/datasets/split/val/images/20230609c372.jpg: 384x640 20 bees, 5.0ms\n",
      "Speed: 1.0ms preprocess, 5.0ms inference, 1.1ms postprocess per image at shape (1, 3, 384, 640)\n"
     ]
    },
    {
     "name": "stderr",
     "output_type": "stream",
     "text": [
      " 30%|███       | 24/80 [00:03<00:09,  6.17it/s]"
     ]
    },
    {
     "name": "stdout",
     "output_type": "stream",
     "text": [
      "\n",
      "image 1/1 /home/kroep/dev/projects/bees/bee_detection/datasets/split/val/images/20230609d441.jpg: 384x640 11 bees, 8.4ms\n",
      "Speed: 2.6ms preprocess, 8.4ms inference, 6.7ms postprocess per image at shape (1, 3, 384, 640)\n"
     ]
    },
    {
     "name": "stderr",
     "output_type": "stream",
     "text": [
      " 31%|███▏      | 25/80 [00:03<00:09,  6.00it/s]"
     ]
    },
    {
     "name": "stdout",
     "output_type": "stream",
     "text": [
      "\n",
      "image 1/1 /home/kroep/dev/projects/bees/bee_detection/datasets/split/val/images/20230711b5595.jpg: 384x640 6 bees, 7.0ms\n",
      "Speed: 1.0ms preprocess, 7.0ms inference, 3.8ms postprocess per image at shape (1, 3, 384, 640)\n"
     ]
    },
    {
     "name": "stderr",
     "output_type": "stream",
     "text": [
      " 32%|███▎      | 26/80 [00:03<00:08,  6.19it/s]"
     ]
    },
    {
     "name": "stdout",
     "output_type": "stream",
     "text": [
      "\n",
      "image 1/1 /home/kroep/dev/projects/bees/bee_detection/datasets/split/val/images/20230711a39480.jpg: 384x640 25 bees, 8.3ms\n",
      "Speed: 3.3ms preprocess, 8.3ms inference, 6.5ms postprocess per image at shape (1, 3, 384, 640)\n"
     ]
    },
    {
     "name": "stderr",
     "output_type": "stream",
     "text": [
      " 34%|███▍      | 27/80 [00:04<00:08,  5.98it/s]"
     ]
    },
    {
     "name": "stdout",
     "output_type": "stream",
     "text": [
      "\n",
      "image 1/1 /home/kroep/dev/projects/bees/bee_detection/datasets/split/val/images/20230609e444.jpg: 384x640 7 bees, 5.1ms\n",
      "Speed: 1.0ms preprocess, 5.1ms inference, 0.9ms postprocess per image at shape (1, 3, 384, 640)\n"
     ]
    },
    {
     "name": "stderr",
     "output_type": "stream",
     "text": [
      " 35%|███▌      | 28/80 [00:04<00:08,  6.32it/s]"
     ]
    },
    {
     "name": "stdout",
     "output_type": "stream",
     "text": [
      "\n",
      "image 1/1 /home/kroep/dev/projects/bees/bee_detection/datasets/split/val/images/20230711a38490.jpg: 384x640 24 bees, 4.8ms\n",
      "Speed: 1.0ms preprocess, 4.8ms inference, 0.6ms postprocess per image at shape (1, 3, 384, 640)\n"
     ]
    },
    {
     "name": "stderr",
     "output_type": "stream",
     "text": [
      " 36%|███▋      | 29/80 [00:04<00:07,  6.52it/s]"
     ]
    },
    {
     "name": "stdout",
     "output_type": "stream",
     "text": [
      "\n",
      "image 1/1 /home/kroep/dev/projects/bees/bee_detection/datasets/split/val/images/20230609b528.jpg: 384x640 13 bees, 8.6ms\n",
      "Speed: 2.7ms preprocess, 8.6ms inference, 6.0ms postprocess per image at shape (1, 3, 384, 640)\n"
     ]
    },
    {
     "name": "stderr",
     "output_type": "stream",
     "text": [
      " 38%|███▊      | 30/80 [00:04<00:08,  5.99it/s]"
     ]
    },
    {
     "name": "stdout",
     "output_type": "stream",
     "text": [
      "\n",
      "image 1/1 /home/kroep/dev/projects/bees/bee_detection/datasets/split/val/images/20230711b5715.jpg: 384x640 6 bees, 5.1ms\n",
      "Speed: 1.0ms preprocess, 5.1ms inference, 1.3ms postprocess per image at shape (1, 3, 384, 640)\n"
     ]
    },
    {
     "name": "stderr",
     "output_type": "stream",
     "text": [
      " 39%|███▉      | 31/80 [00:04<00:07,  6.26it/s]"
     ]
    },
    {
     "name": "stdout",
     "output_type": "stream",
     "text": [
      "\n",
      "image 1/1 /home/kroep/dev/projects/bees/bee_detection/datasets/split/val/images/20230711c8700.jpg: 384x640 1 bee, 7.0ms\n",
      "Speed: 1.1ms preprocess, 7.0ms inference, 3.7ms postprocess per image at shape (1, 3, 384, 640)\n"
     ]
    },
    {
     "name": "stderr",
     "output_type": "stream",
     "text": [
      " 40%|████      | 32/80 [00:04<00:07,  6.31it/s]"
     ]
    },
    {
     "name": "stdout",
     "output_type": "stream",
     "text": [
      "\n",
      "image 1/1 /home/kroep/dev/projects/bees/bee_detection/datasets/split/val/images/20230609d357.jpg: 384x640 8 bees, 8.4ms\n",
      "Speed: 3.4ms preprocess, 8.4ms inference, 6.7ms postprocess per image at shape (1, 3, 384, 640)\n"
     ]
    },
    {
     "name": "stderr",
     "output_type": "stream",
     "text": [
      " 41%|████▏     | 33/80 [00:05<00:08,  5.84it/s]"
     ]
    },
    {
     "name": "stdout",
     "output_type": "stream",
     "text": [
      "\n",
      "image 1/1 /home/kroep/dev/projects/bees/bee_detection/datasets/split/val/images/20230609c390.jpg: 384x640 21 bees, 5.3ms\n",
      "Speed: 1.1ms preprocess, 5.3ms inference, 0.7ms postprocess per image at shape (1, 3, 384, 640)\n"
     ]
    },
    {
     "name": "stderr",
     "output_type": "stream",
     "text": [
      " 42%|████▎     | 34/80 [00:05<00:07,  6.12it/s]"
     ]
    },
    {
     "name": "stdout",
     "output_type": "stream",
     "text": [
      "\n",
      "image 1/1 /home/kroep/dev/projects/bees/bee_detection/datasets/split/val/images/20230609a324.jpg: 384x640 4 bees, 4.8ms\n",
      "Speed: 1.1ms preprocess, 4.8ms inference, 1.7ms postprocess per image at shape (1, 3, 384, 640)\n"
     ]
    },
    {
     "name": "stderr",
     "output_type": "stream",
     "text": [
      " 44%|████▍     | 35/80 [00:05<00:07,  6.22it/s]"
     ]
    },
    {
     "name": "stdout",
     "output_type": "stream",
     "text": [
      "\n",
      "image 1/1 /home/kroep/dev/projects/bees/bee_detection/datasets/split/val/images/20230609a150.jpg: 384x640 6 bees, 8.4ms\n",
      "Speed: 2.2ms preprocess, 8.4ms inference, 6.3ms postprocess per image at shape (1, 3, 384, 640)\n"
     ]
    },
    {
     "name": "stderr",
     "output_type": "stream",
     "text": [
      " 45%|████▌     | 36/80 [00:05<00:07,  6.09it/s]"
     ]
    },
    {
     "name": "stdout",
     "output_type": "stream",
     "text": [
      "\n",
      "image 1/1 /home/kroep/dev/projects/bees/bee_detection/datasets/split/val/images/20230711c8565.jpg: 384x640 3 bees, 7.1ms\n",
      "Speed: 1.0ms preprocess, 7.1ms inference, 5.1ms postprocess per image at shape (1, 3, 384, 640)\n"
     ]
    },
    {
     "name": "stderr",
     "output_type": "stream",
     "text": [
      " 46%|████▋     | 37/80 [00:05<00:06,  6.21it/s]"
     ]
    },
    {
     "name": "stdout",
     "output_type": "stream",
     "text": [
      "\n",
      "image 1/1 /home/kroep/dev/projects/bees/bee_detection/datasets/split/val/images/20230609e516.jpg: 384x640 4 bees, 4.5ms\n",
      "Speed: 1.2ms preprocess, 4.5ms inference, 0.6ms postprocess per image at shape (1, 3, 384, 640)\n"
     ]
    },
    {
     "name": "stderr",
     "output_type": "stream",
     "text": [
      " 48%|████▊     | 38/80 [00:05<00:06,  6.55it/s]"
     ]
    },
    {
     "name": "stdout",
     "output_type": "stream",
     "text": [
      "\n",
      "image 1/1 /home/kroep/dev/projects/bees/bee_detection/datasets/split/val/images/20230711c8115.jpg: 384x640 3 bees, 8.2ms\n",
      "Speed: 2.4ms preprocess, 8.2ms inference, 7.0ms postprocess per image at shape (1, 3, 384, 640)\n"
     ]
    },
    {
     "name": "stderr",
     "output_type": "stream",
     "text": [
      " 49%|████▉     | 39/80 [00:05<00:06,  6.22it/s]"
     ]
    },
    {
     "name": "stdout",
     "output_type": "stream",
     "text": [
      "\n",
      "image 1/1 /home/kroep/dev/projects/bees/bee_detection/datasets/split/val/images/20230609c342.jpg: 384x640 22 bees, 6.2ms\n",
      "Speed: 1.1ms preprocess, 6.2ms inference, 4.0ms postprocess per image at shape (1, 3, 384, 640)\n"
     ]
    },
    {
     "name": "stderr",
     "output_type": "stream",
     "text": [
      " 50%|█████     | 40/80 [00:06<00:06,  6.35it/s]"
     ]
    },
    {
     "name": "stdout",
     "output_type": "stream",
     "text": [
      "\n",
      "image 1/1 /home/kroep/dev/projects/bees/bee_detection/datasets/split/val/images/20230609a108.jpg: 384x640 4 bees, 5.1ms\n",
      "Speed: 1.0ms preprocess, 5.1ms inference, 1.2ms postprocess per image at shape (1, 3, 384, 640)\n"
     ]
    },
    {
     "name": "stderr",
     "output_type": "stream",
     "text": [
      " 51%|█████▏    | 41/80 [00:06<00:06,  6.49it/s]"
     ]
    },
    {
     "name": "stdout",
     "output_type": "stream",
     "text": [
      "\n",
      "image 1/1 /home/kroep/dev/projects/bees/bee_detection/datasets/split/val/images/20230711a39390.jpg: 384x640 25 bees, 5.1ms\n",
      "Speed: 1.0ms preprocess, 5.1ms inference, 1.2ms postprocess per image at shape (1, 3, 384, 640)\n"
     ]
    },
    {
     "name": "stderr",
     "output_type": "stream",
     "text": [
      " 52%|█████▎    | 42/80 [00:06<00:05,  6.58it/s]"
     ]
    },
    {
     "name": "stdout",
     "output_type": "stream",
     "text": [
      "\n",
      "image 1/1 /home/kroep/dev/projects/bees/bee_detection/datasets/split/val/images/20230711c8535.jpg: 384x640 2 bees, 6.4ms\n",
      "Speed: 1.0ms preprocess, 6.4ms inference, 6.6ms postprocess per image at shape (1, 3, 384, 640)\n"
     ]
    },
    {
     "name": "stderr",
     "output_type": "stream",
     "text": [
      " 54%|█████▍    | 43/80 [00:06<00:05,  6.55it/s]"
     ]
    },
    {
     "name": "stdout",
     "output_type": "stream",
     "text": [
      "\n",
      "image 1/1 /home/kroep/dev/projects/bees/bee_detection/datasets/split/val/images/20230609e510.jpg: 384x640 5 bees, 8.6ms\n",
      "Speed: 3.0ms preprocess, 8.6ms inference, 6.1ms postprocess per image at shape (1, 3, 384, 640)\n"
     ]
    },
    {
     "name": "stderr",
     "output_type": "stream",
     "text": [
      " 55%|█████▌    | 44/80 [00:06<00:05,  6.28it/s]"
     ]
    },
    {
     "name": "stdout",
     "output_type": "stream",
     "text": [
      "\n",
      "image 1/1 /home/kroep/dev/projects/bees/bee_detection/datasets/split/val/images/20230609c588.jpg: 384x640 10 bees, 7.0ms\n",
      "Speed: 1.0ms preprocess, 7.0ms inference, 1.2ms postprocess per image at shape (1, 3, 384, 640)\n"
     ]
    },
    {
     "name": "stderr",
     "output_type": "stream",
     "text": [
      " 56%|█████▋    | 45/80 [00:06<00:05,  6.57it/s]"
     ]
    },
    {
     "name": "stdout",
     "output_type": "stream",
     "text": [
      "\n",
      "image 1/1 /home/kroep/dev/projects/bees/bee_detection/datasets/split/val/images/20230609c414.jpg: 384x640 17 bees, 4.5ms\n",
      "Speed: 1.0ms preprocess, 4.5ms inference, 0.8ms postprocess per image at shape (1, 3, 384, 640)\n"
     ]
    },
    {
     "name": "stderr",
     "output_type": "stream",
     "text": [
      " 57%|█████▊    | 46/80 [00:07<00:04,  6.80it/s]"
     ]
    },
    {
     "name": "stdout",
     "output_type": "stream",
     "text": [
      "\n",
      "image 1/1 /home/kroep/dev/projects/bees/bee_detection/datasets/split/val/images/20230711b5490.jpg: 384x640 5 bees, 8.4ms\n",
      "Speed: 2.8ms preprocess, 8.4ms inference, 6.5ms postprocess per image at shape (1, 3, 384, 640)\n"
     ]
    },
    {
     "name": "stderr",
     "output_type": "stream",
     "text": [
      " 59%|█████▉    | 47/80 [00:07<00:05,  6.34it/s]"
     ]
    },
    {
     "name": "stdout",
     "output_type": "stream",
     "text": [
      "\n",
      "image 1/1 /home/kroep/dev/projects/bees/bee_detection/datasets/split/val/images/20230711c8265.jpg: 384x640 3 bees, 6.3ms\n",
      "Speed: 1.0ms preprocess, 6.3ms inference, 3.7ms postprocess per image at shape (1, 3, 384, 640)\n"
     ]
    },
    {
     "name": "stderr",
     "output_type": "stream",
     "text": [
      " 60%|██████    | 48/80 [00:07<00:05,  6.38it/s]"
     ]
    },
    {
     "name": "stdout",
     "output_type": "stream",
     "text": [
      "\n",
      "image 1/1 /home/kroep/dev/projects/bees/bee_detection/datasets/split/val/images/20230609a96.jpg: 384x640 5 bees, 8.6ms\n",
      "Speed: 2.9ms preprocess, 8.6ms inference, 6.4ms postprocess per image at shape (1, 3, 384, 640)\n"
     ]
    },
    {
     "name": "stderr",
     "output_type": "stream",
     "text": [
      " 61%|██████▏   | 49/80 [00:07<00:05,  6.09it/s]"
     ]
    },
    {
     "name": "stdout",
     "output_type": "stream",
     "text": [
      "\n",
      "image 1/1 /home/kroep/dev/projects/bees/bee_detection/datasets/split/val/images/20230711a38670.jpg: 384x640 26 bees, 7.0ms\n",
      "Speed: 1.0ms preprocess, 7.0ms inference, 1.5ms postprocess per image at shape (1, 3, 384, 640)\n"
     ]
    },
    {
     "name": "stderr",
     "output_type": "stream",
     "text": [
      " 62%|██████▎   | 50/80 [00:07<00:04,  6.49it/s]"
     ]
    },
    {
     "name": "stdout",
     "output_type": "stream",
     "text": [
      "\n",
      "image 1/1 /home/kroep/dev/projects/bees/bee_detection/datasets/split/val/images/20230609a246.jpg: 384x640 5 bees, 4.8ms\n",
      "Speed: 1.0ms preprocess, 4.8ms inference, 0.6ms postprocess per image at shape (1, 3, 384, 640)\n"
     ]
    },
    {
     "name": "stderr",
     "output_type": "stream",
     "text": [
      " 64%|██████▍   | 51/80 [00:07<00:04,  6.67it/s]"
     ]
    },
    {
     "name": "stdout",
     "output_type": "stream",
     "text": [
      "\n",
      "image 1/1 /home/kroep/dev/projects/bees/bee_detection/datasets/split/val/images/20230609d390.jpg: 384x640 4 bees, 5.1ms\n",
      "Speed: 1.0ms preprocess, 5.1ms inference, 1.2ms postprocess per image at shape (1, 3, 384, 640)\n"
     ]
    },
    {
     "name": "stderr",
     "output_type": "stream",
     "text": [
      " 65%|██████▌   | 52/80 [00:07<00:04,  6.92it/s]"
     ]
    },
    {
     "name": "stdout",
     "output_type": "stream",
     "text": [
      "\n",
      "image 1/1 /home/kroep/dev/projects/bees/bee_detection/datasets/split/val/images/20230609e414.jpg: 384x640 10 bees, 4.7ms\n",
      "Speed: 1.0ms preprocess, 4.7ms inference, 1.5ms postprocess per image at shape (1, 3, 384, 640)\n"
     ]
    },
    {
     "name": "stderr",
     "output_type": "stream",
     "text": [
      " 66%|██████▋   | 53/80 [00:08<00:03,  7.03it/s]"
     ]
    },
    {
     "name": "stdout",
     "output_type": "stream",
     "text": [
      "\n",
      "image 1/1 /home/kroep/dev/projects/bees/bee_detection/datasets/split/val/images/20230609b408.jpg: 384x640 12 bees, 8.1ms\n",
      "Speed: 2.9ms preprocess, 8.1ms inference, 3.7ms postprocess per image at shape (1, 3, 384, 640)\n"
     ]
    },
    {
     "name": "stderr",
     "output_type": "stream",
     "text": [
      " 68%|██████▊   | 54/80 [00:08<00:04,  6.30it/s]"
     ]
    },
    {
     "name": "stdout",
     "output_type": "stream",
     "text": [
      "\n",
      "image 1/1 /home/kroep/dev/projects/bees/bee_detection/datasets/split/val/images/20230711a38760.jpg: 384x640 17 bees, 9.0ms\n",
      "Speed: 2.5ms preprocess, 9.0ms inference, 1.3ms postprocess per image at shape (1, 3, 384, 640)\n"
     ]
    },
    {
     "name": "stderr",
     "output_type": "stream",
     "text": [
      " 69%|██████▉   | 55/80 [00:08<00:03,  6.42it/s]"
     ]
    },
    {
     "name": "stdout",
     "output_type": "stream",
     "text": [
      "\n",
      "image 1/1 /home/kroep/dev/projects/bees/bee_detection/datasets/split/val/images/20230711c8640.jpg: 384x640 3 bees, 6.4ms\n",
      "Speed: 1.0ms preprocess, 6.4ms inference, 3.3ms postprocess per image at shape (1, 3, 384, 640)\n"
     ]
    },
    {
     "name": "stderr",
     "output_type": "stream",
     "text": [
      " 70%|███████   | 56/80 [00:08<00:03,  6.41it/s]"
     ]
    },
    {
     "name": "stdout",
     "output_type": "stream",
     "text": [
      "\n",
      "image 1/1 /home/kroep/dev/projects/bees/bee_detection/datasets/split/val/images/20230711c8460.jpg: 384x640 2 bees, 4.7ms\n",
      "Speed: 1.0ms preprocess, 4.7ms inference, 0.7ms postprocess per image at shape (1, 3, 384, 640)\n"
     ]
    },
    {
     "name": "stderr",
     "output_type": "stream",
     "text": [
      " 71%|███████▏  | 57/80 [00:08<00:03,  6.52it/s]"
     ]
    },
    {
     "name": "stdout",
     "output_type": "stream",
     "text": [
      "\n",
      "image 1/1 /home/kroep/dev/projects/bees/bee_detection/datasets/split/val/images/20230711c8595.jpg: 384x640 5 bees, 7.0ms\n",
      "Speed: 1.1ms preprocess, 7.0ms inference, 5.3ms postprocess per image at shape (1, 3, 384, 640)\n"
     ]
    },
    {
     "name": "stderr",
     "output_type": "stream",
     "text": [
      " 72%|███████▎  | 58/80 [00:08<00:03,  6.49it/s]"
     ]
    },
    {
     "name": "stdout",
     "output_type": "stream",
     "text": [
      "\n",
      "image 1/1 /home/kroep/dev/projects/bees/bee_detection/datasets/split/val/images/20230609e534.jpg: 384x640 2 bees, 8.1ms\n",
      "Speed: 2.8ms preprocess, 8.1ms inference, 7.0ms postprocess per image at shape (1, 3, 384, 640)\n"
     ]
    },
    {
     "name": "stderr",
     "output_type": "stream",
     "text": [
      " 74%|███████▍  | 59/80 [00:09<00:03,  6.41it/s]"
     ]
    },
    {
     "name": "stdout",
     "output_type": "stream",
     "text": [
      "\n",
      "image 1/1 /home/kroep/dev/projects/bees/bee_detection/datasets/split/val/images/20230711a38370.jpg: 384x640 19 bees, 4.5ms\n",
      "Speed: 1.0ms preprocess, 4.5ms inference, 0.7ms postprocess per image at shape (1, 3, 384, 640)\n"
     ]
    },
    {
     "name": "stderr",
     "output_type": "stream",
     "text": [
      " 75%|███████▌  | 60/80 [00:09<00:03,  6.58it/s]"
     ]
    },
    {
     "name": "stdout",
     "output_type": "stream",
     "text": [
      "\n",
      "image 1/1 /home/kroep/dev/projects/bees/bee_detection/datasets/split/val/images/20230609c312.jpg: 384x640 27 bees, 6.0ms\n",
      "Speed: 1.1ms preprocess, 6.0ms inference, 1.8ms postprocess per image at shape (1, 3, 384, 640)\n"
     ]
    },
    {
     "name": "stderr",
     "output_type": "stream",
     "text": [
      " 76%|███████▋  | 61/80 [00:09<00:02,  6.75it/s]"
     ]
    },
    {
     "name": "stdout",
     "output_type": "stream",
     "text": [
      "\n",
      "image 1/1 /home/kroep/dev/projects/bees/bee_detection/datasets/split/val/images/20230711a39030.jpg: 384x640 19 bees, 5.1ms\n",
      "Speed: 1.0ms preprocess, 5.1ms inference, 1.3ms postprocess per image at shape (1, 3, 384, 640)\n"
     ]
    },
    {
     "name": "stderr",
     "output_type": "stream",
     "text": [
      " 78%|███████▊  | 62/80 [00:09<00:02,  6.89it/s]"
     ]
    },
    {
     "name": "stdout",
     "output_type": "stream",
     "text": [
      "\n",
      "image 1/1 /home/kroep/dev/projects/bees/bee_detection/datasets/split/val/images/20230609a168.jpg: 384x640 4 bees, 4.7ms\n",
      "Speed: 3.2ms preprocess, 4.7ms inference, 0.6ms postprocess per image at shape (1, 3, 384, 640)\n"
     ]
    },
    {
     "name": "stderr",
     "output_type": "stream",
     "text": [
      " 79%|███████▉  | 63/80 [00:09<00:02,  6.94it/s]"
     ]
    },
    {
     "name": "stdout",
     "output_type": "stream",
     "text": [
      "\n",
      "image 1/1 /home/kroep/dev/projects/bees/bee_detection/datasets/split/val/images/20230711c8340.jpg: 384x640 2 bees, 8.9ms\n",
      "Speed: 3.2ms preprocess, 8.9ms inference, 6.3ms postprocess per image at shape (1, 3, 384, 640)\n"
     ]
    },
    {
     "name": "stderr",
     "output_type": "stream",
     "text": [
      " 80%|████████  | 64/80 [00:09<00:02,  6.52it/s]"
     ]
    },
    {
     "name": "stdout",
     "output_type": "stream",
     "text": [
      "\n",
      "image 1/1 /home/kroep/dev/projects/bees/bee_detection/datasets/split/val/images/20230711a39360.jpg: 384x640 24 bees, 5.1ms\n",
      "Speed: 1.0ms preprocess, 5.1ms inference, 0.9ms postprocess per image at shape (1, 3, 384, 640)\n"
     ]
    },
    {
     "name": "stderr",
     "output_type": "stream",
     "text": [
      " 81%|████████▏ | 65/80 [00:09<00:02,  6.80it/s]"
     ]
    },
    {
     "name": "stdout",
     "output_type": "stream",
     "text": [
      "\n",
      "image 1/1 /home/kroep/dev/projects/bees/bee_detection/datasets/split/val/images/20230609c534.jpg: 384x640 12 bees, 5.0ms\n",
      "Speed: 1.0ms preprocess, 5.0ms inference, 0.7ms postprocess per image at shape (1, 3, 384, 640)\n"
     ]
    },
    {
     "name": "stderr",
     "output_type": "stream",
     "text": [
      " 82%|████████▎ | 66/80 [00:10<00:02,  6.96it/s]"
     ]
    },
    {
     "name": "stdout",
     "output_type": "stream",
     "text": [
      "\n",
      "image 1/1 /home/kroep/dev/projects/bees/bee_detection/datasets/split/val/images/20230609e426.jpg: 384x640 7 bees, 4.7ms\n",
      "Speed: 1.0ms preprocess, 4.7ms inference, 0.7ms postprocess per image at shape (1, 3, 384, 640)\n"
     ]
    },
    {
     "name": "stderr",
     "output_type": "stream",
     "text": [
      " 84%|████████▍ | 67/80 [00:10<00:01,  7.06it/s]"
     ]
    },
    {
     "name": "stdout",
     "output_type": "stream",
     "text": [
      "\n",
      "image 1/1 /home/kroep/dev/projects/bees/bee_detection/datasets/split/val/images/20230609a252.jpg: 384x640 4 bees, 4.5ms\n",
      "Speed: 1.0ms preprocess, 4.5ms inference, 0.8ms postprocess per image at shape (1, 3, 384, 640)\n"
     ]
    },
    {
     "name": "stderr",
     "output_type": "stream",
     "text": [
      " 85%|████████▌ | 68/80 [00:10<00:01,  7.08it/s]"
     ]
    },
    {
     "name": "stdout",
     "output_type": "stream",
     "text": [
      "\n",
      "image 1/1 /home/kroep/dev/projects/bees/bee_detection/datasets/split/val/images/20230609c546.jpg: 384x640 12 bees, 8.6ms\n",
      "Speed: 2.6ms preprocess, 8.6ms inference, 6.3ms postprocess per image at shape (1, 3, 384, 640)\n"
     ]
    },
    {
     "name": "stderr",
     "output_type": "stream",
     "text": [
      " 86%|████████▋ | 69/80 [00:10<00:01,  6.65it/s]"
     ]
    },
    {
     "name": "stdout",
     "output_type": "stream",
     "text": [
      "\n",
      "image 1/1 /home/kroep/dev/projects/bees/bee_detection/datasets/split/val/images/20230711a38550.jpg: 384x640 26 bees, 5.2ms\n",
      "Speed: 1.0ms preprocess, 5.2ms inference, 0.9ms postprocess per image at shape (1, 3, 384, 640)\n"
     ]
    },
    {
     "name": "stderr",
     "output_type": "stream",
     "text": [
      " 88%|████████▊ | 70/80 [00:10<00:01,  6.87it/s]"
     ]
    },
    {
     "name": "stdout",
     "output_type": "stream",
     "text": [
      "\n",
      "image 1/1 /home/kroep/dev/projects/bees/bee_detection/datasets/split/val/images/20230609c504.jpg: 384x640 14 bees, 5.0ms\n",
      "Speed: 1.0ms preprocess, 5.0ms inference, 0.7ms postprocess per image at shape (1, 3, 384, 640)\n"
     ]
    },
    {
     "name": "stderr",
     "output_type": "stream",
     "text": [
      " 89%|████████▉ | 71/80 [00:10<00:01,  7.06it/s]"
     ]
    },
    {
     "name": "stdout",
     "output_type": "stream",
     "text": [
      "\n",
      "image 1/1 /home/kroep/dev/projects/bees/bee_detection/datasets/split/val/images/20230711c8040.jpg: 384x640 5 bees, 7.3ms\n",
      "Speed: 1.0ms preprocess, 7.3ms inference, 4.4ms postprocess per image at shape (1, 3, 384, 640)\n"
     ]
    },
    {
     "name": "stderr",
     "output_type": "stream",
     "text": [
      " 90%|█████████ | 72/80 [00:10<00:01,  6.90it/s]"
     ]
    },
    {
     "name": "stdout",
     "output_type": "stream",
     "text": [
      "\n",
      "image 1/1 /home/kroep/dev/projects/bees/bee_detection/datasets/split/val/images/20230711b6045.jpg: 384x640 4 bees, 7.0ms\n",
      "Speed: 1.0ms preprocess, 7.0ms inference, 5.3ms postprocess per image at shape (1, 3, 384, 640)\n"
     ]
    },
    {
     "name": "stderr",
     "output_type": "stream",
     "text": [
      " 91%|█████████▏| 73/80 [00:11<00:01,  6.80it/s]"
     ]
    },
    {
     "name": "stdout",
     "output_type": "stream",
     "text": [
      "\n",
      "image 1/1 /home/kroep/dev/projects/bees/bee_detection/datasets/split/val/images/20230609a276.jpg: 384x640 5 bees, 4.5ms\n",
      "Speed: 1.0ms preprocess, 4.5ms inference, 0.9ms postprocess per image at shape (1, 3, 384, 640)\n"
     ]
    },
    {
     "name": "stderr",
     "output_type": "stream",
     "text": [
      " 92%|█████████▎| 74/80 [00:11<00:00,  6.88it/s]"
     ]
    },
    {
     "name": "stdout",
     "output_type": "stream",
     "text": [
      "\n",
      "image 1/1 /home/kroep/dev/projects/bees/bee_detection/datasets/split/val/images/20230609b432.jpg: 384x640 9 bees, 7.2ms\n",
      "Speed: 28.1ms preprocess, 7.2ms inference, 1.3ms postprocess per image at shape (1, 3, 384, 640)\n"
     ]
    },
    {
     "name": "stderr",
     "output_type": "stream",
     "text": [
      " 94%|█████████▍| 75/80 [00:11<00:00,  6.44it/s]"
     ]
    },
    {
     "name": "stdout",
     "output_type": "stream",
     "text": [
      "\n",
      "image 1/1 /home/kroep/dev/projects/bees/bee_detection/datasets/split/val/images/20230711c8580.jpg: 384x640 5 bees, 7.3ms\n",
      "Speed: 1.0ms preprocess, 7.3ms inference, 4.4ms postprocess per image at shape (1, 3, 384, 640)\n"
     ]
    },
    {
     "name": "stderr",
     "output_type": "stream",
     "text": [
      " 95%|█████████▌| 76/80 [00:11<00:00,  6.51it/s]"
     ]
    },
    {
     "name": "stdout",
     "output_type": "stream",
     "text": [
      "\n",
      "image 1/1 /home/kroep/dev/projects/bees/bee_detection/datasets/split/val/images/20230609e390.jpg: 384x640 3 bees, 4.5ms\n",
      "Speed: 1.0ms preprocess, 4.5ms inference, 0.8ms postprocess per image at shape (1, 3, 384, 640)\n"
     ]
    },
    {
     "name": "stderr",
     "output_type": "stream",
     "text": [
      " 96%|█████████▋| 77/80 [00:11<00:00,  6.82it/s]"
     ]
    },
    {
     "name": "stdout",
     "output_type": "stream",
     "text": [
      "\n",
      "image 1/1 /home/kroep/dev/projects/bees/bee_detection/datasets/split/val/images/20230609d429.jpg: 384x640 7 bees, 8.2ms\n",
      "Speed: 3.2ms preprocess, 8.2ms inference, 6.8ms postprocess per image at shape (1, 3, 384, 640)\n"
     ]
    },
    {
     "name": "stderr",
     "output_type": "stream",
     "text": [
      " 98%|█████████▊| 78/80 [00:11<00:00,  6.35it/s]"
     ]
    },
    {
     "name": "stdout",
     "output_type": "stream",
     "text": [
      "\n",
      "image 1/1 /home/kroep/dev/projects/bees/bee_detection/datasets/split/val/images/20230609e348.jpg: 384x640 6 bees, 4.5ms\n",
      "Speed: 1.1ms preprocess, 4.5ms inference, 0.7ms postprocess per image at shape (1, 3, 384, 640)\n"
     ]
    },
    {
     "name": "stderr",
     "output_type": "stream",
     "text": [
      " 99%|█████████▉| 79/80 [00:11<00:00,  6.65it/s]"
     ]
    },
    {
     "name": "stdout",
     "output_type": "stream",
     "text": [
      "\n",
      "image 1/1 /home/kroep/dev/projects/bees/bee_detection/datasets/split/val/images/20230711c8160.jpg: 384x640 3 bees, 4.5ms\n",
      "Speed: 1.1ms preprocess, 4.5ms inference, 0.6ms postprocess per image at shape (1, 3, 384, 640)\n"
     ]
    },
    {
     "name": "stderr",
     "output_type": "stream",
     "text": [
      "100%|██████████| 80/80 [00:12<00:00,  6.61it/s]\n"
     ]
    }
   ],
   "execution_count": 9
  }
 ],
 "metadata": {
  "kernelspec": {
   "display_name": "Python 3",
   "language": "python",
   "name": "python3"
  },
  "language_info": {
   "codemirror_mode": {
    "name": "ipython",
    "version": 2
   },
   "file_extension": ".py",
   "mimetype": "text/x-python",
   "name": "python",
   "nbconvert_exporter": "python",
   "pygments_lexer": "ipython2",
   "version": "2.7.6"
  }
 },
 "nbformat": 4,
 "nbformat_minor": 5
}
